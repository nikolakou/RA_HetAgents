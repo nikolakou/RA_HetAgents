{
 "cells": [
  {
   "cell_type": "code",
   "execution_count": 9,
   "metadata": {},
   "outputs": [
    {
     "data": {
      "text/plain": [
       "2 dimensional Basis on the hypercube formed by (0.0, -4.0) × (100.00000000000003, 4.0).\n",
       "Basis families are Spline × Cheb\n"
      ]
     },
     "execution_count": 9,
     "metadata": {},
     "output_type": "execute_result"
    }
   ],
   "source": [
    "using BasisMatrices\n",
    "\n",
    "\n",
    "ygrid0 = range(-4; stop=4, length=10)\n",
    "agrid0 = range(0.0.^0.4; stop=100.0.^0.4, length=25).^(1/0.4);\n",
    "\n",
    "# 1st method -- combining Basis objects\n",
    "y_basis = Basis(ChebParams(length(ygrid0), minimum(ygrid0), maximum(ygrid0)))\n",
    "a_basis = Basis(SplineParams(agrid0, 0, 3))\n",
    "basis = Basis(a_basis, y_basis)\n",
    "\n"
   ]
  },
  {
   "cell_type": "code",
   "execution_count": 11,
   "metadata": {},
   "outputs": [],
   "source": [
    "S, (agrid, ygrid) = nodes(basis);\n"
   ]
  },
  {
   "cell_type": "code",
   "execution_count": null,
   "metadata": {},
   "outputs": [],
   "source": []
  }
 ],
 "metadata": {
  "kernelspec": {
   "display_name": "Julia 1.5.2",
   "language": "julia",
   "name": "julia-1.5"
  },
  "language_info": {
   "file_extension": ".jl",
   "mimetype": "application/julia",
   "name": "julia",
   "version": "1.5.2"
  }
 },
 "nbformat": 4,
 "nbformat_minor": 4
}
