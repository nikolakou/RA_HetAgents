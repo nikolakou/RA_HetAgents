{
 "cells": [
  {
   "cell_type": "code",
   "execution_count": null,
   "metadata": {},
   "outputs": [],
   "source": [
    "#this notebook solves for the equilibrium of the Aiyagari model using the endogenous grid method"
   ]
  },
  {
   "cell_type": "code",
   "execution_count": 2,
   "metadata": {},
   "outputs": [
    {
     "data": {
      "text/plain": [
       "##NamedTuple_kw#254 (generic function with 2 methods)"
      ]
     },
     "execution_count": 2,
     "metadata": {},
     "output_type": "execute_result"
    }
   ],
   "source": [
    "using Parameters, Plots, LinearAlgebra, Interpolations\n",
    "\n",
    "Household = @with_kw (apoints = 500, #asset grid\n",
    "    amax = 200,  # asset max\n",
    "    beta = 0.98, # discount factor\n",
    "    alpha = 0.11, # capital share\n",
    "    deprec = 0.025, # depreciation rate\n",
    "    gamma = 1, # elasticity of substitution\n",
    "    bc = 0, # borrowing constraint (must be weakly negative)\n",
    "    rho = 0.966,  # autocorr of income process\n",
    "    num_states = 7, # number of states for income process\n",
    "    sd = 0.13, # stand. dev. of deviation process\n",
    "    mean = 0, # mean of income process\n",
    "    uncond_sd = 0.13/sqrt(1-rho^2), # unconditional sd\n",
    "    transition_matrix = rowenhorst(mean, uncond_sd, rho, num_states)[1], # transition matrix\n",
    "    ygrid = rowenhorst(mean, uncond_sd, rho, num_states)[2], # grid for income process\n",
    "    Amat = setgrids(bc, apoints, amax, num_states, ygrid)[1], # asset grid\n",
    "    Ymat = setgrids(bc, apoints, amax, num_states, ygrid)[2]) # income grid\n"
   ]
  },
  {
   "cell_type": "code",
   "execution_count": null,
   "metadata": {},
   "outputs": [],
   "source": []
  },
  {
   "cell_type": "code",
   "execution_count": 3,
   "metadata": {},
   "outputs": [
    {
     "data": {
      "text/plain": [
       "setgrids (generic function with 1 method)"
      ]
     },
     "execution_count": 3,
     "metadata": {},
     "output_type": "execute_result"
    }
   ],
   "source": [
    "# Some helper constructor functions for the household tuple.\n",
    "#### 1. Rowenhort's method to approximate AR(1) process with Markov chain\n",
    "#### 2. Functions to construct grids over the state space\n",
    "\n",
    "function rowenhorst(mean, uncond_sd, rho, num_states)\n",
    "    \"\"\"\n",
    "    Rowenhort's method to approximate AR(1) process with Markov chain\n",
    "    \n",
    "    #### Fields\n",
    "    \n",
    "    - 'mean': unconditional mean of income process\n",
    "    - 'uncond_sd': unconditional standard deviation\n",
    "    - 'rho': autocorrelation coefficient\n",
    "    - 'num_states': number of states we want discretized\n",
    "    \n",
    "    #### Returns\n",
    "    \n",
    "    - 'transition_matrix': num_states x num_states array where\n",
    "    transition_matrx[i,j] is prob. of going from i to j\n",
    "    - 'ygrid': vector of income state space of length num_states\n",
    "    \n",
    "    \"\"\"\n",
    "    \n",
    "    # construct grids\n",
    "    step_r = uncond_sd*sqrt(num_states-1)\n",
    "    ygrid = -1:2/(num_states-1):1\n",
    "    ygrid = mean .+ step_r*ygrid\n",
    "    \n",
    "    # initialize transition probabilities \n",
    "    p = (rho+1)/2\n",
    "    q = p\n",
    "    \n",
    "    transition_matrix = [p 1-p; 1-q q]\n",
    "    \n",
    "    # rowenhort's method\n",
    "    for i = 2:num_states-1\n",
    "        a1 = [transition_matrix zeros(i, 1); zeros(1, i+1)] \n",
    "        a2 = [zeros(i,1) transition_matrix; zeros(1, i+1)]\n",
    "        a3 = [zeros(1, i+1); transition_matrix zeros(i,1)]\n",
    "        a4 = [zeros(1, i+1); zeros(i,1) transition_matrix]\n",
    "        \n",
    "        transition_matrix = p*a1 + (1-p)*a2 + (1-q)*a3 + q*a4\n",
    "        transition_matrix[2:i, :] = transition_matrix[2:i, :]/2\n",
    "    end\n",
    "    \n",
    "    for i = 1:num_states\n",
    "       transition_matrix[i,:] = transition_matrix[i,:]/sum(transition_matrix[i,:])\n",
    "    end\n",
    "    \n",
    "    # get stationary distribution to normalize effective labour to L=1\n",
    "    pi = eigvecs(transition_matrix')[:,num_states]\n",
    "    \n",
    "    # normalize pi\n",
    "    pi = pi./sum(pi)\n",
    "    \n",
    "    # exponentiate\n",
    "    ygrid = exp.(ygrid)\n",
    "    \n",
    "    # normalize effective labour\n",
    "    ygrid = ygrid/sum(pi.*ygrid)\n",
    "    \n",
    "    return transition_matrix, ygrid\n",
    "end\n",
    "\n"
   ]
  },
  {
   "cell_type": "code",
   "execution_count": 4,
   "metadata": {},
   "outputs": [
    {
     "data": {
      "text/plain": [
       "setgrids (generic function with 1 method)"
      ]
     },
     "execution_count": 4,
     "metadata": {},
     "output_type": "execute_result"
    }
   ],
   "source": [
    "function setgrids(bc, apoints, amax, num_states, ygrid)\n",
    "    Amat = [i for i in range(bc, length = apoints, stop= amax), j in 1:num_states]\n",
    "    Ymat = [j for i = 1:apoints, j in ygrid]\n",
    "    return Amat, Ymat\n",
    "end"
   ]
  },
  {
   "cell_type": "code",
   "execution_count": 5,
   "metadata": {},
   "outputs": [
    {
     "data": {
      "text/plain": [
       "(apoints = 500, amax = 200, beta = 0.98, alpha = 0.11, deprec = 0.025, gamma = 1, bc = 0, rho = 0.966, num_states = 7, sd = 0.13, mean = 0, uncond_sd = 0.5028195291614176, transition_matrix = [0.9022379843199956 0.09361981119088468 … 8.374316586000039e-9 2.4137569000000128e-11; 0.015603301865147443 0.9035872016735433 … 4.0355125541400147e-7 1.3957194310000061e-9; … ; 1.3957194310000061e-9 4.0355125541400147e-7 … 0.9035872016735433 0.015603301865147443; 2.4137569000000125e-11 8.374316586000037e-9 … 0.09361981119088467 0.9022379843199955], ygrid = [0.25738376293233367, 0.38804396244888767, 0.5850334732755494, 0.8820241982193845, 1.3297814941917474, 2.0048416198384222, 3.022594266947119], Amat = [0.0 0.0 … 0.0 0.0; 0.40080160320641284 0.40080160320641284 … 0.40080160320641284 0.40080160320641284; … ; 199.59919839679358 199.59919839679358 … 199.59919839679358 199.59919839679358; 200.0 200.0 … 200.0 200.0], Ymat = [0.25738376293233367 0.38804396244888767 … 2.0048416198384222 3.022594266947119; 0.25738376293233367 0.38804396244888767 … 2.0048416198384222 3.022594266947119; … ; 0.25738376293233367 0.38804396244888767 … 2.0048416198384222 3.022594266947119; 0.25738376293233367 0.38804396244888767 … 2.0048416198384222 3.022594266947119])"
      ]
     },
     "execution_count": 5,
     "metadata": {},
     "output_type": "execute_result"
    }
   ],
   "source": [
    "hh = Household()"
   ]
  },
  {
   "cell_type": "code",
   "execution_count": 6,
   "metadata": {},
   "outputs": [
    {
     "data": {
      "text/plain": [
       "getconsumption (generic function with 1 method)"
      ]
     },
     "execution_count": 6,
     "metadata": {},
     "output_type": "execute_result"
    }
   ],
   "source": [
    "# marginal utilities and their inverses\n",
    "\n",
    "up(c,gamma) = c.^(-gamma)\n",
    "invup(x,gamma) = x.^(-1/gamma)\n",
    "\n",
    "# euler equation to get current consumption given future interest rate and future consumption grid\n",
    "\n",
    "function getc(gamma,beta,transition_matrix; rnext,cnext)\n",
    "    upnext = beta.*(1+rnext).*up(cnext,gamma)*transition_matrix' # future marginal utility\n",
    "    c = invup(upnext,gamma) # current consumption\n",
    "    return c\n",
    "end\n",
    "\n",
    "# obtain current assets given consumption today defined on asset grid tomorrow\n",
    "\n",
    "geta(Amat,Ymat; r,w,c) =  1/(1+r).*(c.+Amat.-w.*Ymat)\n",
    "\n",
    "# obtain aggregates\n",
    "\n",
    "function getcapital(; policyfun, dist)\n",
    "    K = reshape(policyfun, (length(dist),1))\n",
    "    K = sum(K.*dist)\n",
    "    return K\n",
    "end\n",
    "\n",
    "function getconsumption(; cpolicy,dist)\n",
    "    C = reshape(cpolicy, (length(dist),1)) \n",
    "    C = sum(C.*dist)\n",
    "    return C\n",
    "end\n"
   ]
  },
  {
   "cell_type": "code",
   "execution_count": 7,
   "metadata": {},
   "outputs": [
    {
     "data": {
      "text/plain": [
       "egm (generic function with 1 method)"
      ]
     },
     "execution_count": 7,
     "metadata": {},
     "output_type": "execute_result"
    }
   ],
   "source": [
    "#Note: function takes both current and future interest rates as arguments.\n",
    "\n",
    "function egm(hh; w, cnext, cbinding, r, rnext)\n",
    " \"\"\"\n",
    "    use endogenous grid method to obtain c_{t} and a_{t} given c_{t+1} 'cnext'\n",
    "    \n",
    "    #### Fields\n",
    "    \n",
    "    - 'hh': household tuple\n",
    "    - 'w': wage rate\n",
    "    - 'cnext': time t+1 consumption grid\n",
    "    - 'cbinding': consumption grid when borrowing constraint binds\n",
    "    - 'r': interest rate at time t\n",
    "    - 'rnext': interest rate at time t+1\n",
    "    \n",
    "    #### Returns\n",
    "    \n",
    "    - 'c': time t consumption grid\n",
    "    - 'anext': time t policy function\n",
    "    \n",
    "\"\"\"\n",
    "    \n",
    "@unpack gamma, beta, transition_matrix, Amat, Ymat, num_states = hh\n",
    "\n",
    "# current policy functions on current grid\n",
    "c = getc(gamma, beta, transition_matrix; rnext=rnext, cnext=cnext)\n",
    "a = geta(Amat, Ymat; r=r, w=w, c=c)\n",
    "\n",
    "cnonbinding = similar(Amat)\n",
    "    \n",
    "# get consumption policy function for current grid\n",
    "for i = 1:num_states\n",
    "    cnonbinding[:,i] = LinearInterpolation(a[:,i], c[:,i], extrapolation_bc = Line()).(Amat[:,i])\n",
    "end\n",
    "\n",
    "# update elements of consumption policy when borrowing constraint binds\n",
    "# a[1,j] is the level of current assets that induces the borrowing constraint to bind exactly.\n",
    "# Therefore, whenever current assets are below a[1,j], the borrowing constraint will be STRICTLY binding.\n",
    "# Note that this uses the monotonicity of the policy rule.\n",
    "\n",
    "for j = 1:num_states\n",
    "   c[:,j] = (Amat[:,j] .> a[1,j]) .*cnonbinding[:,j] .+ (Amat[:,j] .<= a[1,j]).*cbinding[:,j]\n",
    "end\n",
    "    \n",
    "# update saving policy function with new consumption function\n",
    "anext = @. (1+r)*Amat + w*Ymat - c\n",
    "\n",
    "return c, anext\n",
    "    \n",
    "end"
   ]
  },
  {
   "cell_type": "code",
   "execution_count": 8,
   "metadata": {},
   "outputs": [
    {
     "data": {
      "text/plain": [
       "iterate_egm (generic function with 1 method)"
      ]
     },
     "execution_count": 8,
     "metadata": {},
     "output_type": "execute_result"
    }
   ],
   "source": [
    "function iterate_egm(hh; r, tol=1e-8, maxiter=1000)\n",
    "    @unpack deprec, alpha, Amat, Ymat, bc = hh\n",
    "    \n",
    "    Z = ((r + deprec)/alpha)^alpha # normalize aggregate income so that Y=1\n",
    "    w = (1-alpha)*Z*(alpha*Z/(r+deprec))^(alpha/(1-alpha)) # wage rate given guess for r\n",
    "     \n",
    "    cnext = @. r*Amat+Ymat*w # initial guess for policy function iteration \n",
    "    \n",
    "    cbinding = @. (1+r)*Amat + w*Ymat + bc # get consumption when borrowing constraint binds\n",
    "    \n",
    "    dist = 1\n",
    "    counter = 0\n",
    "    \n",
    "    for i=1:maxiter\n",
    "        c = egm(hh; w=w, rnext=r, r=r, cnext=cnext, cbinding=cbinding)[1]\n",
    "        if norm(c-cnext,Inf)<tol \n",
    "            println(\"policy function iteration successful!\")\n",
    "            return egm(hh; w=w, rnext=r, r=r, cnext=c, cbinding=cbinding)\n",
    "        else\n",
    "            cnext = c\n",
    "        end\n",
    "    end\n",
    "    \n",
    "    error(\"no policy function convergence!\")\n",
    "    \n",
    "end\n"
   ]
  },
  {
   "cell_type": "code",
   "execution_count": 10,
   "metadata": {},
   "outputs": [
    {
     "name": "stdout",
     "output_type": "stream",
     "text": [
      "policy function iteration successful!\n",
      "  0.331917 seconds (73.12 k allocations: 365.311 MiB, 12.98% gc time)\n"
     ]
    },
    {
     "data": {
      "text/plain": [
       "([0.07096749424518328 0.09474585074712497 … 0.32374756274362093 0.44736616230505283; 0.0802685772211671 0.10402894671986812 … 0.33296332057926986 0.456566049492291; … ; 4.469192997723292 4.494141840127407 … 4.731285018197259 4.858247293339893; 4.478015411449168 4.502964924185298 … 4.740113894500879 4.867079161438543], [0.15810405476459372 0.25061327583238513 … 1.4605614789125752 2.2427427352778837; 0.589684735315664 0.6822119433866962 … 1.8922274846039804 2.6744246116176993; … ; 215.31899678775943 215.41033552292507 … 216.6121422599319 217.390979840716; 215.75105613756062 215.84239420239425 … 217.04419514715536 217.82302973614443])"
      ]
     },
     "execution_count": 10,
     "metadata": {},
     "output_type": "execute_result"
    }
   ],
   "source": [
    "@time iterate_egm(hh, r = 0.1)"
   ]
  },
  {
   "cell_type": "code",
   "execution_count": 11,
   "metadata": {},
   "outputs": [
    {
     "data": {
      "text/plain": [
       "get_kernel (generic function with 1 method)"
      ]
     },
     "execution_count": 11,
     "metadata": {},
     "output_type": "execute_result"
    }
   ],
   "source": [
    "function get_kernel(hh; policyfun)\n",
    "    \n",
    "\"\"\"\n",
    "    get transition kernel for asset-income distribution using Young's method\n",
    "    \n",
    "    #### Fields\n",
    "    \n",
    "    - 'hh': household tuple\n",
    "    - 'policyfun': savings function, array na x ny\n",
    "    \n",
    "    #### Returns\n",
    "    \n",
    "    - 'kernel': na*ny x na*ny array row-stochastic transition kernel\n",
    "    \n",
    "\"\"\"\n",
    "\n",
    "@unpack apoints, Amat, num_states, Ymat, transition_matrix = hh\n",
    "    \n",
    "# construct transition matrix without labour stochasticity\n",
    "Q = zeros(apoints, apoints, num_states)\n",
    "    \n",
    "# find which element to interpolate to\n",
    "findnearest(A,t) = findmin(abs.(A.-t))[2]\n",
    "\n",
    "# construct matrices to get neighboring indices\n",
    "next = similar(Amat)\n",
    "previous = similar(Amat)\n",
    "\n",
    "for j = 1:num_states\n",
    "    for k = 1:apoints\n",
    "        ind = findnearest(Amat[:,j],policyfun[k,j])\n",
    "            if policyfun[k,j] - Amat[ind,j] > 0\n",
    "                previous[k,j] = Amat[ind,j]\n",
    "                if ind == apoints\n",
    "                    next[k,j] = Amat[ind,j]\n",
    "                else         \n",
    "                next[k,j] = Amat[ind+1,j]\n",
    "                end\n",
    "            elseif policyfun[k,j] == Amat[ind,j]\n",
    "                previous[k,j] = policyfun[k,j] \n",
    "                next[k,j] = policyfun[k,]\n",
    "            else\n",
    "                next[k,j] = Amat[ind,j]\n",
    "                if ind == 1\n",
    "                    previous[k,j] = Amat[ind,j]\n",
    "                else\n",
    "                    previous[k,j] = Amat[ind-1,j]\n",
    "                end\n",
    "            end  \n",
    "    end\n",
    "end\n",
    "    \n",
    "# construct transition matrix for assets.\n",
    "# Q[i,j,k] is the probability of going to agrid[i] when current assets are agrid[j] and income is ygrid[k]\n",
    "for k = 1:apoints\n",
    "    for j = 1:num_states\n",
    "        if next[k,j] == previous[k,j]\n",
    "            Q[Amat[:,1].==previous[k,j],k,j] .= 1\n",
    "        else\n",
    "            Q[Amat[:,1].==previous[k,j],k,j] .= (next[k,j]-policyfun[k,j])./(next[k,j]-previous[k,j])\n",
    "            Q[Amat[:,1].==next[k,j],k,j] .= 1 - (next[k,j]-policyfun[k,j])./(next[k,j]-previous[k,j])\n",
    "    \n",
    "        end\n",
    "    end\n",
    "end\n",
    "    \n",
    "# construct transition kernel by taking the kronecker product of assets and transition_matrix for income\n",
    "kernel = zeros(apoints*num_states,apoints*num_states)\n",
    "\n",
    "for j=1:num_states\n",
    "    for i=1:num_states\n",
    "        kernel[(i-1)*apoints+1:i*apoints,(j-1)*apoints+1:j*apoints]=Q[:,:,j].*transition_matrix[j,i];\n",
    "    end\n",
    "end\n",
    "\n",
    "kernel = kernel'\n",
    "    \n",
    "return kernel\n",
    "end"
   ]
  },
  {
   "cell_type": "code",
   "execution_count": 12,
   "metadata": {},
   "outputs": [
    {
     "data": {
      "text/plain": [
       "get_invariant_dist (generic function with 1 method)"
      ]
     },
     "execution_count": 12,
     "metadata": {},
     "output_type": "execute_result"
    }
   ],
   "source": [
    "function get_invariant_dist(hh; kernel, tol=1e-8, maxiter=1000)\n",
    "    @unpack apoints, num_states = hh\n",
    "    \n",
    "    #initial guess for invariant distribution\n",
    "    init = ones(apoints*num_states)\n",
    "    init = init./sum(init)\n",
    "    \n",
    "    dist = 1\n",
    "    counter = 0\n",
    "    \n",
    "    for i=1:maxiter\n",
    "        initnext = (init'*kernel)'\n",
    "        if norm(init-initnext,Inf) < tol \n",
    "            println(\"distribution iteration successful!\")\n",
    "            return initnext\n",
    "        else\n",
    "            init = initnext\n",
    "        end\n",
    "    end\n",
    "    \n",
    "    error(\"distribution did not convergence!\")\n",
    "end"
   ]
  },
  {
   "cell_type": "code",
   "execution_count": 13,
   "metadata": {},
   "outputs": [
    {
     "data": {
      "text/plain": [
       "ss (generic function with 1 method)"
      ]
     },
     "execution_count": 13,
     "metadata": {},
     "output_type": "execute_result"
    }
   ],
   "source": [
    "function ss(hh; r)\n",
    "    @unpack beta = hh\n",
    "    @assert r < 1/(beta)-1 \"r too large for convergence\"\n",
    "    \n",
    "    c, anext = iterate_egm(hh; r = r) # get converged policy function\n",
    "    kernel = get_kernel(hh; policyfun = anext) # get kernel\n",
    "    \n",
    "    invariant_distribution = get_invariant_dist(hh; kernel = kernel) # get invariant distribution\n",
    "    \n",
    "    K = getcapital(; policyfun = anext, dist = invariant_distribution) # get aggregate capital\n",
    "    \n",
    "    return K\n",
    "end"
   ]
  },
  {
   "cell_type": "code",
   "execution_count": 14,
   "metadata": {},
   "outputs": [
    {
     "data": {
      "text/plain": [
       "plot_market_clearing (generic function with 1 method)"
      ]
     },
     "execution_count": 14,
     "metadata": {},
     "output_type": "execute_result"
    }
   ],
   "source": [
    "function plot_market_clearing(hh)\n",
    "    \n",
    "    @unpack alpha, deprec = hh\n",
    "    \n",
    "    rgrid = 0.005:0.002:0.014\n",
    "    Ksupply = zeros(length(rgrid))\n",
    "    \n",
    "    for (index,r) in enumerate(rgrid)\n",
    "        Ksupply[index] = ss(hh; r=r)\n",
    "    end\n",
    "    \n",
    "    plot(rgrid, Ksupply, label = \"capital supply\")\n",
    "    \n",
    "    Z(r) = ((r + deprec)/alpha)^alpha #normalize so Y=1\n",
    "    K(r) = ((Z(r)*alpha)/(r+deprec))^(1/(1-alpha))\n",
    "    \n",
    "    plot!(rgrid,K.(rgrid), label= \"capital demand\")\n",
    "    \n",
    "end"
   ]
  },
  {
   "cell_type": "code",
   "execution_count": 16,
   "metadata": {},
   "outputs": [
    {
     "name": "stdout",
     "output_type": "stream",
     "text": [
      "policy function iteration successful!\n",
      "distribution iteration successful!\n",
      "policy function iteration successful!\n",
      "distribution iteration successful!\n",
      "policy function iteration successful!\n",
      "distribution iteration successful!\n",
      "policy function iteration successful!\n",
      "distribution iteration successful!\n",
      "policy function iteration successful!\n",
      "distribution iteration successful!\n"
     ]
    },
    {
     "data": {
      "image/svg+xml": [
       "<?xml version=\"1.0\" encoding=\"utf-8\"?>\n",
       "<svg xmlns=\"http://www.w3.org/2000/svg\" xmlns:xlink=\"http://www.w3.org/1999/xlink\" width=\"600\" height=\"400\" viewBox=\"0 0 2400 1600\">\n",
       "<defs>\n",
       "  <clipPath id=\"clip150\">\n",
       "    <rect x=\"0\" y=\"0\" width=\"2400\" height=\"1600\"/>\n",
       "  </clipPath>\n",
       "</defs>\n",
       "<path clip-path=\"url(#clip150)\" d=\"\n",
       "M0 1600 L2400 1600 L2400 0 L0 0  Z\n",
       "  \" fill=\"#ffffff\" fill-rule=\"evenodd\" fill-opacity=\"1\"/>\n",
       "<defs>\n",
       "  <clipPath id=\"clip151\">\n",
       "    <rect x=\"480\" y=\"0\" width=\"1681\" height=\"1600\"/>\n",
       "  </clipPath>\n",
       "</defs>\n",
       "<path clip-path=\"url(#clip150)\" d=\"\n",
       "M112.177 1486.45 L2352.76 1486.45 L2352.76 47.2441 L112.177 47.2441  Z\n",
       "  \" fill=\"#ffffff\" fill-rule=\"evenodd\" fill-opacity=\"1\"/>\n",
       "<defs>\n",
       "  <clipPath id=\"clip152\">\n",
       "    <rect x=\"112\" y=\"47\" width=\"2242\" height=\"1440\"/>\n",
       "  </clipPath>\n",
       "</defs>\n",
       "<polyline clip-path=\"url(#clip152)\" style=\"stroke:#000000; stroke-width:2; stroke-opacity:0.1; fill:none\" points=\"\n",
       "  439.809,1486.45 439.809,47.2441 \n",
       "  \"/>\n",
       "<polyline clip-path=\"url(#clip152)\" style=\"stroke:#000000; stroke-width:2; stroke-opacity:0.1; fill:none\" points=\"\n",
       "  968.247,1486.45 968.247,47.2441 \n",
       "  \"/>\n",
       "<polyline clip-path=\"url(#clip152)\" style=\"stroke:#000000; stroke-width:2; stroke-opacity:0.1; fill:none\" points=\"\n",
       "  1496.69,1486.45 1496.69,47.2441 \n",
       "  \"/>\n",
       "<polyline clip-path=\"url(#clip152)\" style=\"stroke:#000000; stroke-width:2; stroke-opacity:0.1; fill:none\" points=\"\n",
       "  2025.12,1486.45 2025.12,47.2441 \n",
       "  \"/>\n",
       "<polyline clip-path=\"url(#clip150)\" style=\"stroke:#000000; stroke-width:4; stroke-opacity:1; fill:none\" points=\"\n",
       "  112.177,1486.45 2352.76,1486.45 \n",
       "  \"/>\n",
       "<polyline clip-path=\"url(#clip150)\" style=\"stroke:#000000; stroke-width:4; stroke-opacity:1; fill:none\" points=\"\n",
       "  439.809,1486.45 439.809,1469.18 \n",
       "  \"/>\n",
       "<polyline clip-path=\"url(#clip150)\" style=\"stroke:#000000; stroke-width:4; stroke-opacity:1; fill:none\" points=\"\n",
       "  968.247,1486.45 968.247,1469.18 \n",
       "  \"/>\n",
       "<polyline clip-path=\"url(#clip150)\" style=\"stroke:#000000; stroke-width:4; stroke-opacity:1; fill:none\" points=\"\n",
       "  1496.69,1486.45 1496.69,1469.18 \n",
       "  \"/>\n",
       "<polyline clip-path=\"url(#clip150)\" style=\"stroke:#000000; stroke-width:4; stroke-opacity:1; fill:none\" points=\"\n",
       "  2025.12,1486.45 2025.12,1469.18 \n",
       "  \"/>\n",
       "<path clip-path=\"url(#clip150)\" d=\"M 0 0 M394.231 1515.64 Q390.619 1515.64 388.791 1519.2 Q386.985 1522.75 386.985 1529.87 Q386.985 1536.98 388.791 1540.55 Q390.619 1544.09 394.231 1544.09 Q397.865 1544.09 399.67 1540.55 Q401.499 1536.98 401.499 1529.87 Q401.499 1522.75 399.67 1519.2 Q397.865 1515.64 394.231 1515.64 M394.231 1511.93 Q400.041 1511.93 403.096 1516.54 Q406.175 1521.12 406.175 1529.87 Q406.175 1538.6 403.096 1543.21 Q400.041 1547.79 394.231 1547.79 Q388.42 1547.79 385.342 1543.21 Q382.286 1538.6 382.286 1529.87 Q382.286 1521.12 385.342 1516.54 Q388.42 1511.93 394.231 1511.93 Z\" fill=\"#000000\" fill-rule=\"evenodd\" fill-opacity=\"1\" /><path clip-path=\"url(#clip150)\" d=\"M 0 0 M411.244 1541.24 L416.129 1541.24 L416.129 1547.12 L411.244 1547.12 L411.244 1541.24 Z\" fill=\"#000000\" fill-rule=\"evenodd\" fill-opacity=\"1\" /><path clip-path=\"url(#clip150)\" d=\"M 0 0 M431.198 1515.64 Q427.587 1515.64 425.758 1519.2 Q423.953 1522.75 423.953 1529.87 Q423.953 1536.98 425.758 1540.55 Q427.587 1544.09 431.198 1544.09 Q434.832 1544.09 436.638 1540.55 Q438.466 1536.98 438.466 1529.87 Q438.466 1522.75 436.638 1519.2 Q434.832 1515.64 431.198 1515.64 M431.198 1511.93 Q437.008 1511.93 440.064 1516.54 Q443.142 1521.12 443.142 1529.87 Q443.142 1538.6 440.064 1543.21 Q437.008 1547.79 431.198 1547.79 Q425.388 1547.79 422.309 1543.21 Q419.254 1538.6 419.254 1529.87 Q419.254 1521.12 422.309 1516.54 Q425.388 1511.93 431.198 1511.93 Z\" fill=\"#000000\" fill-rule=\"evenodd\" fill-opacity=\"1\" /><path clip-path=\"url(#clip150)\" d=\"M 0 0 M458.212 1515.64 Q454.601 1515.64 452.772 1519.2 Q450.966 1522.75 450.966 1529.87 Q450.966 1536.98 452.772 1540.55 Q454.601 1544.09 458.212 1544.09 Q461.846 1544.09 463.651 1540.55 Q465.48 1536.98 465.48 1529.87 Q465.48 1522.75 463.651 1519.2 Q461.846 1515.64 458.212 1515.64 M458.212 1511.93 Q464.022 1511.93 467.077 1516.54 Q470.156 1521.12 470.156 1529.87 Q470.156 1538.6 467.077 1543.21 Q464.022 1547.79 458.212 1547.79 Q452.401 1547.79 449.323 1543.21 Q446.267 1538.6 446.267 1529.87 Q446.267 1521.12 449.323 1516.54 Q452.401 1511.93 458.212 1511.93 Z\" fill=\"#000000\" fill-rule=\"evenodd\" fill-opacity=\"1\" /><path clip-path=\"url(#clip150)\" d=\"M 0 0 M485.804 1527.98 Q482.656 1527.98 480.804 1530.13 Q478.975 1532.28 478.975 1536.03 Q478.975 1539.76 480.804 1541.93 Q482.656 1544.09 485.804 1544.09 Q488.952 1544.09 490.781 1541.93 Q492.633 1539.76 492.633 1536.03 Q492.633 1532.28 490.781 1530.13 Q488.952 1527.98 485.804 1527.98 M495.086 1513.32 L495.086 1517.58 Q493.327 1516.75 491.522 1516.31 Q489.739 1515.87 487.98 1515.87 Q483.35 1515.87 480.897 1519 Q478.466 1522.12 478.119 1528.44 Q479.485 1526.43 481.545 1525.36 Q483.605 1524.27 486.082 1524.27 Q491.29 1524.27 494.299 1527.44 Q497.332 1530.59 497.332 1536.03 Q497.332 1541.36 494.184 1544.57 Q491.036 1547.79 485.804 1547.79 Q479.809 1547.79 476.637 1543.21 Q473.466 1538.6 473.466 1529.87 Q473.466 1521.68 477.355 1516.82 Q481.244 1511.93 487.795 1511.93 Q489.554 1511.93 491.336 1512.28 Q493.142 1512.63 495.086 1513.32 Z\" fill=\"#000000\" fill-rule=\"evenodd\" fill-opacity=\"1\" /><path clip-path=\"url(#clip150)\" d=\"M 0 0 M922.796 1515.64 Q919.185 1515.64 917.356 1519.2 Q915.551 1522.75 915.551 1529.87 Q915.551 1536.98 917.356 1540.55 Q919.185 1544.09 922.796 1544.09 Q926.43 1544.09 928.236 1540.55 Q930.065 1536.98 930.065 1529.87 Q930.065 1522.75 928.236 1519.2 Q926.43 1515.64 922.796 1515.64 M922.796 1511.93 Q928.606 1511.93 931.662 1516.54 Q934.741 1521.12 934.741 1529.87 Q934.741 1538.6 931.662 1543.21 Q928.606 1547.79 922.796 1547.79 Q916.986 1547.79 913.907 1543.21 Q910.852 1538.6 910.852 1529.87 Q910.852 1521.12 913.907 1516.54 Q916.986 1511.93 922.796 1511.93 Z\" fill=\"#000000\" fill-rule=\"evenodd\" fill-opacity=\"1\" /><path clip-path=\"url(#clip150)\" d=\"M 0 0 M939.81 1541.24 L944.694 1541.24 L944.694 1547.12 L939.81 1547.12 L939.81 1541.24 Z\" fill=\"#000000\" fill-rule=\"evenodd\" fill-opacity=\"1\" /><path clip-path=\"url(#clip150)\" d=\"M 0 0 M959.764 1515.64 Q956.153 1515.64 954.324 1519.2 Q952.518 1522.75 952.518 1529.87 Q952.518 1536.98 954.324 1540.55 Q956.153 1544.09 959.764 1544.09 Q963.398 1544.09 965.203 1540.55 Q967.032 1536.98 967.032 1529.87 Q967.032 1522.75 965.203 1519.2 Q963.398 1515.64 959.764 1515.64 M959.764 1511.93 Q965.574 1511.93 968.629 1516.54 Q971.708 1521.12 971.708 1529.87 Q971.708 1538.6 968.629 1543.21 Q965.574 1547.79 959.764 1547.79 Q953.953 1547.79 950.875 1543.21 Q947.819 1538.6 947.819 1529.87 Q947.819 1521.12 950.875 1516.54 Q953.953 1511.93 959.764 1511.93 Z\" fill=\"#000000\" fill-rule=\"evenodd\" fill-opacity=\"1\" /><path clip-path=\"url(#clip150)\" d=\"M 0 0 M986.777 1515.64 Q983.166 1515.64 981.338 1519.2 Q979.532 1522.75 979.532 1529.87 Q979.532 1536.98 981.338 1540.55 Q983.166 1544.09 986.777 1544.09 Q990.412 1544.09 992.217 1540.55 Q994.046 1536.98 994.046 1529.87 Q994.046 1522.75 992.217 1519.2 Q990.412 1515.64 986.777 1515.64 M986.777 1511.93 Q992.587 1511.93 995.643 1516.54 Q998.722 1521.12 998.722 1529.87 Q998.722 1538.6 995.643 1543.21 Q992.587 1547.79 986.777 1547.79 Q980.967 1547.79 977.889 1543.21 Q974.833 1538.6 974.833 1529.87 Q974.833 1521.12 977.889 1516.54 Q980.967 1511.93 986.777 1511.93 Z\" fill=\"#000000\" fill-rule=\"evenodd\" fill-opacity=\"1\" /><path clip-path=\"url(#clip150)\" d=\"M 0 0 M1013.79 1530.71 Q1010.46 1530.71 1008.54 1532.49 Q1006.64 1534.27 1006.64 1537.4 Q1006.64 1540.52 1008.54 1542.31 Q1010.46 1544.09 1013.79 1544.09 Q1017.12 1544.09 1019.05 1542.31 Q1020.97 1540.5 1020.97 1537.4 Q1020.97 1534.27 1019.05 1532.49 Q1017.15 1530.71 1013.79 1530.71 M1009.12 1528.72 Q1006.11 1527.98 1004.42 1525.92 Q1002.75 1523.86 1002.75 1520.89 Q1002.75 1516.75 1005.69 1514.34 Q1008.65 1511.93 1013.79 1511.93 Q1018.95 1511.93 1021.89 1514.34 Q1024.83 1516.75 1024.83 1520.89 Q1024.83 1523.86 1023.14 1525.92 Q1021.48 1527.98 1018.49 1528.72 Q1021.87 1529.5 1023.74 1531.8 Q1025.64 1534.09 1025.64 1537.4 Q1025.64 1542.42 1022.56 1545.11 Q1019.51 1547.79 1013.79 1547.79 Q1008.07 1547.79 1004.99 1545.11 Q1001.94 1542.42 1001.94 1537.4 Q1001.94 1534.09 1003.84 1531.8 Q1005.74 1529.5 1009.12 1528.72 M1007.4 1521.33 Q1007.4 1524.02 1009.07 1525.52 Q1010.76 1527.03 1013.79 1527.03 Q1016.8 1527.03 1018.49 1525.52 Q1020.2 1524.02 1020.2 1521.33 Q1020.2 1518.65 1018.49 1517.14 Q1016.8 1515.64 1013.79 1515.64 Q1010.76 1515.64 1009.07 1517.14 Q1007.4 1518.65 1007.4 1521.33 Z\" fill=\"#000000\" fill-rule=\"evenodd\" fill-opacity=\"1\" /><path clip-path=\"url(#clip150)\" d=\"M 0 0 M1451.8 1515.64 Q1448.19 1515.64 1446.36 1519.2 Q1444.56 1522.75 1444.56 1529.87 Q1444.56 1536.98 1446.36 1540.55 Q1448.19 1544.09 1451.8 1544.09 Q1455.44 1544.09 1457.24 1540.55 Q1459.07 1536.98 1459.07 1529.87 Q1459.07 1522.75 1457.24 1519.2 Q1455.44 1515.64 1451.8 1515.64 M1451.8 1511.93 Q1457.61 1511.93 1460.67 1516.54 Q1463.75 1521.12 1463.75 1529.87 Q1463.75 1538.6 1460.67 1543.21 Q1457.61 1547.79 1451.8 1547.79 Q1445.99 1547.79 1442.91 1543.21 Q1439.86 1538.6 1439.86 1529.87 Q1439.86 1521.12 1442.91 1516.54 Q1445.99 1511.93 1451.8 1511.93 Z\" fill=\"#000000\" fill-rule=\"evenodd\" fill-opacity=\"1\" /><path clip-path=\"url(#clip150)\" d=\"M 0 0 M1468.82 1541.24 L1473.7 1541.24 L1473.7 1547.12 L1468.82 1547.12 L1468.82 1541.24 Z\" fill=\"#000000\" fill-rule=\"evenodd\" fill-opacity=\"1\" /><path clip-path=\"url(#clip150)\" d=\"M 0 0 M1488.77 1515.64 Q1485.16 1515.64 1483.33 1519.2 Q1481.52 1522.75 1481.52 1529.87 Q1481.52 1536.98 1483.33 1540.55 Q1485.16 1544.09 1488.77 1544.09 Q1492.4 1544.09 1494.21 1540.55 Q1496.04 1536.98 1496.04 1529.87 Q1496.04 1522.75 1494.21 1519.2 Q1492.4 1515.64 1488.77 1515.64 M1488.77 1511.93 Q1494.58 1511.93 1497.63 1516.54 Q1500.71 1521.12 1500.71 1529.87 Q1500.71 1538.6 1497.63 1543.21 Q1494.58 1547.79 1488.77 1547.79 Q1482.96 1547.79 1479.88 1543.21 Q1476.82 1538.6 1476.82 1529.87 Q1476.82 1521.12 1479.88 1516.54 Q1482.96 1511.93 1488.77 1511.93 Z\" fill=\"#000000\" fill-rule=\"evenodd\" fill-opacity=\"1\" /><path clip-path=\"url(#clip150)\" d=\"M 0 0 M1506.59 1543.18 L1514.23 1543.18 L1514.23 1516.82 L1505.92 1518.49 L1505.92 1514.23 L1514.19 1512.56 L1518.86 1512.56 L1518.86 1543.18 L1526.5 1543.18 L1526.5 1547.12 L1506.59 1547.12 L1506.59 1543.18 Z\" fill=\"#000000\" fill-rule=\"evenodd\" fill-opacity=\"1\" /><path clip-path=\"url(#clip150)\" d=\"M 0 0 M1541.57 1515.64 Q1537.96 1515.64 1536.13 1519.2 Q1534.32 1522.75 1534.32 1529.87 Q1534.32 1536.98 1536.13 1540.55 Q1537.96 1544.09 1541.57 1544.09 Q1545.2 1544.09 1547.01 1540.55 Q1548.84 1536.98 1548.84 1529.87 Q1548.84 1522.75 1547.01 1519.2 Q1545.2 1515.64 1541.57 1515.64 M1541.57 1511.93 Q1547.38 1511.93 1550.44 1516.54 Q1553.51 1521.12 1553.51 1529.87 Q1553.51 1538.6 1550.44 1543.21 Q1547.38 1547.79 1541.57 1547.79 Q1535.76 1547.79 1532.68 1543.21 Q1529.63 1538.6 1529.63 1529.87 Q1529.63 1521.12 1532.68 1516.54 Q1535.76 1511.93 1541.57 1511.93 Z\" fill=\"#000000\" fill-rule=\"evenodd\" fill-opacity=\"1\" /><path clip-path=\"url(#clip150)\" d=\"M 0 0 M1981.04 1515.64 Q1977.43 1515.64 1975.6 1519.2 Q1973.79 1522.75 1973.79 1529.87 Q1973.79 1536.98 1975.6 1540.55 Q1977.43 1544.09 1981.04 1544.09 Q1984.67 1544.09 1986.48 1540.55 Q1988.31 1536.98 1988.31 1529.87 Q1988.31 1522.75 1986.48 1519.2 Q1984.67 1515.64 1981.04 1515.64 M1981.04 1511.93 Q1986.85 1511.93 1989.9 1516.54 Q1992.98 1521.12 1992.98 1529.87 Q1992.98 1538.6 1989.9 1543.21 Q1986.85 1547.79 1981.04 1547.79 Q1975.23 1547.79 1972.15 1543.21 Q1969.09 1538.6 1969.09 1529.87 Q1969.09 1521.12 1972.15 1516.54 Q1975.23 1511.93 1981.04 1511.93 Z\" fill=\"#000000\" fill-rule=\"evenodd\" fill-opacity=\"1\" /><path clip-path=\"url(#clip150)\" d=\"M 0 0 M1998.05 1541.24 L2002.94 1541.24 L2002.94 1547.12 L1998.05 1547.12 L1998.05 1541.24 Z\" fill=\"#000000\" fill-rule=\"evenodd\" fill-opacity=\"1\" /><path clip-path=\"url(#clip150)\" d=\"M 0 0 M2018.01 1515.64 Q2014.4 1515.64 2012.57 1519.2 Q2010.76 1522.75 2010.76 1529.87 Q2010.76 1536.98 2012.57 1540.55 Q2014.4 1544.09 2018.01 1544.09 Q2021.64 1544.09 2023.45 1540.55 Q2025.27 1536.98 2025.27 1529.87 Q2025.27 1522.75 2023.45 1519.2 Q2021.64 1515.64 2018.01 1515.64 M2018.01 1511.93 Q2023.82 1511.93 2026.87 1516.54 Q2029.95 1521.12 2029.95 1529.87 Q2029.95 1538.6 2026.87 1543.21 Q2023.82 1547.79 2018.01 1547.79 Q2012.2 1547.79 2009.12 1543.21 Q2006.06 1538.6 2006.06 1529.87 Q2006.06 1521.12 2009.12 1516.54 Q2012.2 1511.93 2018.01 1511.93 Z\" fill=\"#000000\" fill-rule=\"evenodd\" fill-opacity=\"1\" /><path clip-path=\"url(#clip150)\" d=\"M 0 0 M2035.83 1543.18 L2043.47 1543.18 L2043.47 1516.82 L2035.16 1518.49 L2035.16 1514.23 L2043.42 1512.56 L2048.1 1512.56 L2048.1 1543.18 L2055.74 1543.18 L2055.74 1547.12 L2035.83 1547.12 L2035.83 1543.18 Z\" fill=\"#000000\" fill-rule=\"evenodd\" fill-opacity=\"1\" /><path clip-path=\"url(#clip150)\" d=\"M 0 0 M2064.83 1543.18 L2081.15 1543.18 L2081.15 1547.12 L2059.21 1547.12 L2059.21 1543.18 Q2061.87 1540.43 2066.45 1535.8 Q2071.06 1531.15 2072.24 1529.81 Q2074.49 1527.28 2075.37 1525.55 Q2076.27 1523.79 2076.27 1522.1 Q2076.27 1519.34 2074.33 1517.61 Q2072.4 1515.87 2069.3 1515.87 Q2067.1 1515.87 2064.65 1516.63 Q2062.22 1517.4 2059.44 1518.95 L2059.44 1514.23 Q2062.27 1513.09 2064.72 1512.51 Q2067.17 1511.93 2069.21 1511.93 Q2074.58 1511.93 2077.77 1514.62 Q2080.97 1517.31 2080.97 1521.8 Q2080.97 1523.93 2080.16 1525.85 Q2079.37 1527.74 2077.27 1530.34 Q2076.69 1531.01 2073.58 1534.23 Q2070.48 1537.42 2064.83 1543.18 Z\" fill=\"#000000\" fill-rule=\"evenodd\" fill-opacity=\"1\" /><polyline clip-path=\"url(#clip152)\" style=\"stroke:#000000; stroke-width:2; stroke-opacity:0.1; fill:none\" points=\"\n",
       "  112.177,1445.33 2352.76,1445.33 \n",
       "  \"/>\n",
       "<polyline clip-path=\"url(#clip152)\" style=\"stroke:#000000; stroke-width:2; stroke-opacity:0.1; fill:none\" points=\"\n",
       "  112.177,1014.16 2352.76,1014.16 \n",
       "  \"/>\n",
       "<polyline clip-path=\"url(#clip152)\" style=\"stroke:#000000; stroke-width:2; stroke-opacity:0.1; fill:none\" points=\"\n",
       "  112.177,583 2352.76,583 \n",
       "  \"/>\n",
       "<polyline clip-path=\"url(#clip152)\" style=\"stroke:#000000; stroke-width:2; stroke-opacity:0.1; fill:none\" points=\"\n",
       "  112.177,151.838 2352.76,151.838 \n",
       "  \"/>\n",
       "<polyline clip-path=\"url(#clip150)\" style=\"stroke:#000000; stroke-width:4; stroke-opacity:1; fill:none\" points=\"\n",
       "  112.177,1486.45 112.177,47.2441 \n",
       "  \"/>\n",
       "<polyline clip-path=\"url(#clip150)\" style=\"stroke:#000000; stroke-width:4; stroke-opacity:1; fill:none\" points=\"\n",
       "  112.177,1445.33 139.064,1445.33 \n",
       "  \"/>\n",
       "<polyline clip-path=\"url(#clip150)\" style=\"stroke:#000000; stroke-width:4; stroke-opacity:1; fill:none\" points=\"\n",
       "  112.177,1014.16 139.064,1014.16 \n",
       "  \"/>\n",
       "<polyline clip-path=\"url(#clip150)\" style=\"stroke:#000000; stroke-width:4; stroke-opacity:1; fill:none\" points=\"\n",
       "  112.177,583 139.064,583 \n",
       "  \"/>\n",
       "<polyline clip-path=\"url(#clip150)\" style=\"stroke:#000000; stroke-width:4; stroke-opacity:1; fill:none\" points=\"\n",
       "  112.177,151.838 139.064,151.838 \n",
       "  \"/>\n",
       "<path clip-path=\"url(#clip150)\" d=\"M 0 0 M56.2699 1458.67 L63.9087 1458.67 L63.9087 1432.3 L55.5986 1433.97 L55.5986 1429.71 L63.8624 1428.05 L68.5383 1428.05 L68.5383 1458.67 L76.1772 1458.67 L76.1772 1462.61 L56.2699 1462.61 L56.2699 1458.67 Z\" fill=\"#000000\" fill-rule=\"evenodd\" fill-opacity=\"1\" /><path clip-path=\"url(#clip150)\" d=\"M 0 0 M59.8578 1027.51 L76.1772 1027.51 L76.1772 1031.44 L54.2328 1031.44 L54.2328 1027.51 Q56.8949 1024.75 61.4782 1020.12 Q66.0846 1015.47 67.2652 1014.13 Q69.5105 1011.61 70.3902 1009.87 Q71.2929 1008.11 71.2929 1006.42 Q71.2929 1003.67 69.3485 1001.93 Q67.4272 1000.19 64.3254 1000.19 Q62.1263 1000.19 59.6726 1000.96 Q57.2421 1001.72 54.4643 1003.27 L54.4643 998.55 Q57.2884 997.415 59.7421 996.837 Q62.1958 996.258 64.2328 996.258 Q69.6031 996.258 72.7976 998.943 Q75.992 1001.63 75.992 1006.12 Q75.992 1008.25 75.1818 1010.17 Q74.3948 1012.07 72.2883 1014.66 Q71.7096 1015.33 68.6078 1018.55 Q65.5059 1021.74 59.8578 1027.51 Z\" fill=\"#000000\" fill-rule=\"evenodd\" fill-opacity=\"1\" /><path clip-path=\"url(#clip150)\" d=\"M 0 0 M69.0476 581.646 Q72.404 582.364 74.279 584.632 Q76.1772 586.901 76.1772 590.234 Q76.1772 595.35 72.6587 598.151 Q69.1402 600.952 62.6587 600.952 Q60.4828 600.952 58.168 600.512 Q55.8764 600.095 53.4227 599.239 L53.4227 594.725 Q55.3671 595.859 57.6819 596.438 Q59.9967 597.016 62.5198 597.016 Q66.918 597.016 69.2096 595.28 Q71.5244 593.544 71.5244 590.234 Q71.5244 587.178 69.3717 585.465 Q67.242 583.729 63.4226 583.729 L59.3949 583.729 L59.3949 579.887 L63.6078 579.887 Q67.0569 579.887 68.8855 578.521 Q70.7142 577.132 70.7142 574.54 Q70.7142 571.878 68.8161 570.466 Q66.9411 569.03 63.4226 569.03 Q61.5013 569.03 59.3023 569.447 Q57.1032 569.864 54.4643 570.743 L54.4643 566.577 Q57.1264 565.836 59.4412 565.466 Q61.7791 565.095 63.8393 565.095 Q69.1633 565.095 72.2652 567.526 Q75.367 569.933 75.367 574.054 Q75.367 576.924 73.7235 578.915 Q72.08 580.882 69.0476 581.646 Z\" fill=\"#000000\" fill-rule=\"evenodd\" fill-opacity=\"1\" /><path clip-path=\"url(#clip150)\" d=\"M 0 0 M66.5939 138.632 L54.7884 157.081 L66.5939 157.081 L66.5939 138.632 M65.367 134.558 L71.2466 134.558 L71.2466 157.081 L76.1772 157.081 L76.1772 160.969 L71.2466 160.969 L71.2466 169.118 L66.5939 169.118 L66.5939 160.969 L50.9921 160.969 L50.9921 156.456 L65.367 134.558 Z\" fill=\"#000000\" fill-rule=\"evenodd\" fill-opacity=\"1\" /><polyline clip-path=\"url(#clip152)\" style=\"stroke:#009af9; stroke-width:4; stroke-opacity:1; fill:none\" points=\"\n",
       "  175.59,1445.72 704.028,1281.32 1232.47,1042.08 1760.9,672.038 2289.34,87.9763 \n",
       "  \"/>\n",
       "<polyline clip-path=\"url(#clip152)\" style=\"stroke:#e26f46; stroke-width:4; stroke-opacity:1; fill:none\" points=\"\n",
       "  175.59,295.558 704.028,394.367 1232.47,481.55 1760.9,559.047 2289.34,628.386 \n",
       "  \"/>\n",
       "<path clip-path=\"url(#clip150)\" d=\"\n",
       "M1710.51 276.658 L2278.07 276.658 L2278.07 95.2176 L1710.51 95.2176  Z\n",
       "  \" fill=\"#ffffff\" fill-rule=\"evenodd\" fill-opacity=\"1\"/>\n",
       "<polyline clip-path=\"url(#clip150)\" style=\"stroke:#000000; stroke-width:4; stroke-opacity:1; fill:none\" points=\"\n",
       "  1710.51,276.658 2278.07,276.658 2278.07,95.2176 1710.51,95.2176 1710.51,276.658 \n",
       "  \"/>\n",
       "<polyline clip-path=\"url(#clip150)\" style=\"stroke:#009af9; stroke-width:4; stroke-opacity:1; fill:none\" points=\"\n",
       "  1735.4,155.698 1884.77,155.698 \n",
       "  \"/>\n",
       "<path clip-path=\"url(#clip150)\" d=\"M 0 0 M1930.18 148.047 L1930.18 152.029 Q1928.37 151.033 1926.54 150.547 Q1924.74 150.038 1922.89 150.038 Q1918.74 150.038 1916.45 152.677 Q1914.16 155.292 1914.16 160.038 Q1914.16 164.783 1916.45 167.422 Q1918.74 170.038 1922.89 170.038 Q1924.74 170.038 1926.54 169.552 Q1928.37 169.042 1930.18 168.047 L1930.18 171.982 Q1928.4 172.816 1926.48 173.232 Q1924.58 173.649 1922.42 173.649 Q1916.57 173.649 1913.12 169.968 Q1909.67 166.288 1909.67 160.038 Q1909.67 153.695 1913.14 150.061 Q1916.64 146.427 1922.7 146.427 Q1924.67 146.427 1926.54 146.843 Q1928.42 147.237 1930.18 148.047 Z\" fill=\"#000000\" fill-rule=\"evenodd\" fill-opacity=\"1\" /><path clip-path=\"url(#clip150)\" d=\"M 0 0 M1946.43 159.945 Q1941.27 159.945 1939.28 161.126 Q1937.29 162.306 1937.29 165.154 Q1937.29 167.422 1938.77 168.765 Q1940.27 170.084 1942.84 170.084 Q1946.38 170.084 1948.51 167.584 Q1950.67 165.061 1950.67 160.894 L1950.67 159.945 L1946.43 159.945 M1954.92 158.186 L1954.92 172.978 L1950.67 172.978 L1950.67 169.042 Q1949.21 171.403 1947.03 172.538 Q1944.85 173.649 1941.71 173.649 Q1937.73 173.649 1935.36 171.427 Q1933.03 169.181 1933.03 165.431 Q1933.03 161.056 1935.94 158.834 Q1938.88 156.612 1944.69 156.612 L1950.67 156.612 L1950.67 156.195 Q1950.67 153.255 1948.72 151.658 Q1946.8 150.038 1943.3 150.038 Q1941.08 150.038 1938.98 150.57 Q1936.87 151.103 1934.92 152.167 L1934.92 148.232 Q1937.26 147.33 1939.46 146.89 Q1941.66 146.427 1943.74 146.427 Q1949.37 146.427 1952.15 149.343 Q1954.92 152.26 1954.92 158.186 Z\" fill=\"#000000\" fill-rule=\"evenodd\" fill-opacity=\"1\" /><path clip-path=\"url(#clip150)\" d=\"M 0 0 M1963.51 169.089 L1963.51 182.839 L1959.23 182.839 L1959.23 147.052 L1963.51 147.052 L1963.51 150.987 Q1964.85 148.672 1966.89 147.561 Q1968.95 146.427 1971.8 146.427 Q1976.52 146.427 1979.46 150.177 Q1982.42 153.927 1982.42 160.038 Q1982.42 166.149 1979.46 169.899 Q1976.52 173.649 1971.8 173.649 Q1968.95 173.649 1966.89 172.538 Q1964.85 171.403 1963.51 169.089 M1978 160.038 Q1978 155.339 1976.06 152.677 Q1974.14 149.992 1970.76 149.992 Q1967.38 149.992 1965.43 152.677 Q1963.51 155.339 1963.51 160.038 Q1963.51 164.737 1965.43 167.422 Q1967.38 170.084 1970.76 170.084 Q1974.14 170.084 1976.06 167.422 Q1978 164.737 1978 160.038 Z\" fill=\"#000000\" fill-rule=\"evenodd\" fill-opacity=\"1\" /><path clip-path=\"url(#clip150)\" d=\"M 0 0 M1986.89 147.052 L1991.15 147.052 L1991.15 172.978 L1986.89 172.978 L1986.89 147.052 M1986.89 136.959 L1991.15 136.959 L1991.15 142.353 L1986.89 142.353 L1986.89 136.959 Z\" fill=\"#000000\" fill-rule=\"evenodd\" fill-opacity=\"1\" /><path clip-path=\"url(#clip150)\" d=\"M 0 0 M1999.83 139.691 L1999.83 147.052 L2008.6 147.052 L2008.6 150.362 L1999.83 150.362 L1999.83 164.436 Q1999.83 167.607 2000.69 168.51 Q2001.57 169.413 2004.23 169.413 L2008.6 169.413 L2008.6 172.978 L2004.23 172.978 Q1999.3 172.978 1997.42 171.149 Q1995.55 169.297 1995.55 164.436 L1995.55 150.362 L1992.42 150.362 L1992.42 147.052 L1995.55 147.052 L1995.55 139.691 L1999.83 139.691 Z\" fill=\"#000000\" fill-rule=\"evenodd\" fill-opacity=\"1\" /><path clip-path=\"url(#clip150)\" d=\"M 0 0 M2024.85 159.945 Q2019.69 159.945 2017.7 161.126 Q2015.71 162.306 2015.71 165.154 Q2015.71 167.422 2017.19 168.765 Q2018.7 170.084 2021.27 170.084 Q2024.81 170.084 2026.94 167.584 Q2029.09 165.061 2029.09 160.894 L2029.09 159.945 L2024.85 159.945 M2033.35 158.186 L2033.35 172.978 L2029.09 172.978 L2029.09 169.042 Q2027.63 171.403 2025.46 172.538 Q2023.28 173.649 2020.13 173.649 Q2016.15 173.649 2013.79 171.427 Q2011.45 169.181 2011.45 165.431 Q2011.45 161.056 2014.37 158.834 Q2017.31 156.612 2023.12 156.612 L2029.09 156.612 L2029.09 156.195 Q2029.09 153.255 2027.15 151.658 Q2025.22 150.038 2021.73 150.038 Q2019.51 150.038 2017.4 150.57 Q2015.29 151.103 2013.35 152.167 L2013.35 148.232 Q2015.69 147.33 2017.89 146.89 Q2020.09 146.427 2022.17 146.427 Q2027.79 146.427 2030.57 149.343 Q2033.35 152.26 2033.35 158.186 Z\" fill=\"#000000\" fill-rule=\"evenodd\" fill-opacity=\"1\" /><path clip-path=\"url(#clip150)\" d=\"M 0 0 M2037.82 136.959 L2042.08 136.959 L2042.08 172.978 L2037.82 172.978 L2037.82 136.959 Z\" fill=\"#000000\" fill-rule=\"evenodd\" fill-opacity=\"1\" /><path clip-path=\"url(#clip150)\" d=\"M 0 0 M2078.14 147.816 L2078.14 151.843 Q2076.34 150.917 2074.39 150.455 Q2072.45 149.992 2070.36 149.992 Q2067.19 149.992 2065.59 150.964 Q2064.02 151.936 2064.02 153.88 Q2064.02 155.362 2065.16 156.218 Q2066.29 157.052 2069.72 157.816 L2071.17 158.14 Q2075.71 159.112 2077.61 160.894 Q2079.53 162.654 2079.53 165.825 Q2079.53 169.436 2076.66 171.542 Q2073.81 173.649 2068.81 173.649 Q2066.73 173.649 2064.46 173.232 Q2062.22 172.839 2059.72 172.028 L2059.72 167.63 Q2062.08 168.857 2064.37 169.482 Q2066.66 170.084 2068.91 170.084 Q2071.91 170.084 2073.53 169.066 Q2075.16 168.024 2075.16 166.149 Q2075.16 164.413 2073.97 163.487 Q2072.82 162.561 2068.86 161.704 L2067.38 161.357 Q2063.42 160.524 2061.66 158.811 Q2059.9 157.075 2059.9 154.066 Q2059.9 150.408 2062.49 148.418 Q2065.09 146.427 2069.85 146.427 Q2072.22 146.427 2074.3 146.774 Q2076.38 147.121 2078.14 147.816 Z\" fill=\"#000000\" fill-rule=\"evenodd\" fill-opacity=\"1\" /><path clip-path=\"url(#clip150)\" d=\"M 0 0 M2083.56 162.746 L2083.56 147.052 L2087.82 147.052 L2087.82 162.584 Q2087.82 166.265 2089.25 168.116 Q2090.69 169.945 2093.56 169.945 Q2097.01 169.945 2099 167.746 Q2101.01 165.547 2101.01 161.751 L2101.01 147.052 L2105.27 147.052 L2105.27 172.978 L2101.01 172.978 L2101.01 168.996 Q2099.46 171.357 2097.4 172.515 Q2095.36 173.649 2092.66 173.649 Q2088.19 173.649 2085.87 170.871 Q2083.56 168.093 2083.56 162.746 M2094.28 146.427 L2094.28 146.427 Z\" fill=\"#000000\" fill-rule=\"evenodd\" fill-opacity=\"1\" /><path clip-path=\"url(#clip150)\" d=\"M 0 0 M2113.86 169.089 L2113.86 182.839 L2109.58 182.839 L2109.58 147.052 L2113.86 147.052 L2113.86 150.987 Q2115.2 148.672 2117.24 147.561 Q2119.3 146.427 2122.15 146.427 Q2126.87 146.427 2129.81 150.177 Q2132.77 153.927 2132.77 160.038 Q2132.77 166.149 2129.81 169.899 Q2126.87 173.649 2122.15 173.649 Q2119.3 173.649 2117.24 172.538 Q2115.2 171.403 2113.86 169.089 M2128.35 160.038 Q2128.35 155.339 2126.4 152.677 Q2124.48 149.992 2121.1 149.992 Q2117.72 149.992 2115.78 152.677 Q2113.86 155.339 2113.86 160.038 Q2113.86 164.737 2115.78 167.422 Q2117.72 170.084 2121.1 170.084 Q2124.48 170.084 2126.4 167.422 Q2128.35 164.737 2128.35 160.038 Z\" fill=\"#000000\" fill-rule=\"evenodd\" fill-opacity=\"1\" /><path clip-path=\"url(#clip150)\" d=\"M 0 0 M2141.36 169.089 L2141.36 182.839 L2137.08 182.839 L2137.08 147.052 L2141.36 147.052 L2141.36 150.987 Q2142.7 148.672 2144.74 147.561 Q2146.8 146.427 2149.65 146.427 Q2154.37 146.427 2157.31 150.177 Q2160.27 153.927 2160.27 160.038 Q2160.27 166.149 2157.31 169.899 Q2154.37 173.649 2149.65 173.649 Q2146.8 173.649 2144.74 172.538 Q2142.7 171.403 2141.36 169.089 M2155.85 160.038 Q2155.85 155.339 2153.9 152.677 Q2151.98 149.992 2148.6 149.992 Q2145.22 149.992 2143.28 152.677 Q2141.36 155.339 2141.36 160.038 Q2141.36 164.737 2143.28 167.422 Q2145.22 170.084 2148.6 170.084 Q2151.98 170.084 2153.9 167.422 Q2155.85 164.737 2155.85 160.038 Z\" fill=\"#000000\" fill-rule=\"evenodd\" fill-opacity=\"1\" /><path clip-path=\"url(#clip150)\" d=\"M 0 0 M2164.74 136.959 L2169 136.959 L2169 172.978 L2164.74 172.978 L2164.74 136.959 Z\" fill=\"#000000\" fill-rule=\"evenodd\" fill-opacity=\"1\" /><path clip-path=\"url(#clip150)\" d=\"M 0 0 M2184.25 175.385 Q2182.45 180.015 2180.73 181.427 Q2179.02 182.839 2176.15 182.839 L2172.75 182.839 L2172.75 179.274 L2175.25 179.274 Q2177.01 179.274 2177.98 178.44 Q2178.95 177.607 2180.13 174.505 L2180.9 172.561 L2170.41 147.052 L2174.92 147.052 L2183.02 167.329 L2191.13 147.052 L2195.64 147.052 L2184.25 175.385 Z\" fill=\"#000000\" fill-rule=\"evenodd\" fill-opacity=\"1\" /><polyline clip-path=\"url(#clip150)\" style=\"stroke:#e26f46; stroke-width:4; stroke-opacity:1; fill:none\" points=\"\n",
       "  1735.4,216.178 1884.77,216.178 \n",
       "  \"/>\n",
       "<path clip-path=\"url(#clip150)\" d=\"M 0 0 M1930.18 208.527 L1930.18 212.509 Q1928.37 211.513 1926.54 211.027 Q1924.74 210.518 1922.89 210.518 Q1918.74 210.518 1916.45 213.157 Q1914.16 215.772 1914.16 220.518 Q1914.16 225.263 1916.45 227.902 Q1918.74 230.518 1922.89 230.518 Q1924.74 230.518 1926.54 230.032 Q1928.37 229.522 1930.18 228.527 L1930.18 232.462 Q1928.4 233.296 1926.48 233.712 Q1924.58 234.129 1922.42 234.129 Q1916.57 234.129 1913.12 230.448 Q1909.67 226.768 1909.67 220.518 Q1909.67 214.175 1913.14 210.541 Q1916.64 206.907 1922.7 206.907 Q1924.67 206.907 1926.54 207.323 Q1928.42 207.717 1930.18 208.527 Z\" fill=\"#000000\" fill-rule=\"evenodd\" fill-opacity=\"1\" /><path clip-path=\"url(#clip150)\" d=\"M 0 0 M1946.43 220.425 Q1941.27 220.425 1939.28 221.606 Q1937.29 222.786 1937.29 225.634 Q1937.29 227.902 1938.77 229.245 Q1940.27 230.564 1942.84 230.564 Q1946.38 230.564 1948.51 228.064 Q1950.67 225.541 1950.67 221.374 L1950.67 220.425 L1946.43 220.425 M1954.92 218.666 L1954.92 233.458 L1950.67 233.458 L1950.67 229.522 Q1949.21 231.883 1947.03 233.018 Q1944.85 234.129 1941.71 234.129 Q1937.73 234.129 1935.36 231.907 Q1933.03 229.661 1933.03 225.911 Q1933.03 221.536 1935.94 219.314 Q1938.88 217.092 1944.69 217.092 L1950.67 217.092 L1950.67 216.675 Q1950.67 213.735 1948.72 212.138 Q1946.8 210.518 1943.3 210.518 Q1941.08 210.518 1938.98 211.05 Q1936.87 211.583 1934.92 212.647 L1934.92 208.712 Q1937.26 207.81 1939.46 207.37 Q1941.66 206.907 1943.74 206.907 Q1949.37 206.907 1952.15 209.823 Q1954.92 212.74 1954.92 218.666 Z\" fill=\"#000000\" fill-rule=\"evenodd\" fill-opacity=\"1\" /><path clip-path=\"url(#clip150)\" d=\"M 0 0 M1963.51 229.569 L1963.51 243.319 L1959.23 243.319 L1959.23 207.532 L1963.51 207.532 L1963.51 211.467 Q1964.85 209.152 1966.89 208.041 Q1968.95 206.907 1971.8 206.907 Q1976.52 206.907 1979.46 210.657 Q1982.42 214.407 1982.42 220.518 Q1982.42 226.629 1979.46 230.379 Q1976.52 234.129 1971.8 234.129 Q1968.95 234.129 1966.89 233.018 Q1964.85 231.883 1963.51 229.569 M1978 220.518 Q1978 215.819 1976.06 213.157 Q1974.14 210.472 1970.76 210.472 Q1967.38 210.472 1965.43 213.157 Q1963.51 215.819 1963.51 220.518 Q1963.51 225.217 1965.43 227.902 Q1967.38 230.564 1970.76 230.564 Q1974.14 230.564 1976.06 227.902 Q1978 225.217 1978 220.518 Z\" fill=\"#000000\" fill-rule=\"evenodd\" fill-opacity=\"1\" /><path clip-path=\"url(#clip150)\" d=\"M 0 0 M1986.89 207.532 L1991.15 207.532 L1991.15 233.458 L1986.89 233.458 L1986.89 207.532 M1986.89 197.439 L1991.15 197.439 L1991.15 202.833 L1986.89 202.833 L1986.89 197.439 Z\" fill=\"#000000\" fill-rule=\"evenodd\" fill-opacity=\"1\" /><path clip-path=\"url(#clip150)\" d=\"M 0 0 M1999.83 200.171 L1999.83 207.532 L2008.6 207.532 L2008.6 210.842 L1999.83 210.842 L1999.83 224.916 Q1999.83 228.087 2000.69 228.99 Q2001.57 229.893 2004.23 229.893 L2008.6 229.893 L2008.6 233.458 L2004.23 233.458 Q1999.3 233.458 1997.42 231.629 Q1995.55 229.777 1995.55 224.916 L1995.55 210.842 L1992.42 210.842 L1992.42 207.532 L1995.55 207.532 L1995.55 200.171 L1999.83 200.171 Z\" fill=\"#000000\" fill-rule=\"evenodd\" fill-opacity=\"1\" /><path clip-path=\"url(#clip150)\" d=\"M 0 0 M2024.85 220.425 Q2019.69 220.425 2017.7 221.606 Q2015.71 222.786 2015.71 225.634 Q2015.71 227.902 2017.19 229.245 Q2018.7 230.564 2021.27 230.564 Q2024.81 230.564 2026.94 228.064 Q2029.09 225.541 2029.09 221.374 L2029.09 220.425 L2024.85 220.425 M2033.35 218.666 L2033.35 233.458 L2029.09 233.458 L2029.09 229.522 Q2027.63 231.883 2025.46 233.018 Q2023.28 234.129 2020.13 234.129 Q2016.15 234.129 2013.79 231.907 Q2011.45 229.661 2011.45 225.911 Q2011.45 221.536 2014.37 219.314 Q2017.31 217.092 2023.12 217.092 L2029.09 217.092 L2029.09 216.675 Q2029.09 213.735 2027.15 212.138 Q2025.22 210.518 2021.73 210.518 Q2019.51 210.518 2017.4 211.05 Q2015.29 211.583 2013.35 212.647 L2013.35 208.712 Q2015.69 207.81 2017.89 207.37 Q2020.09 206.907 2022.17 206.907 Q2027.79 206.907 2030.57 209.823 Q2033.35 212.74 2033.35 218.666 Z\" fill=\"#000000\" fill-rule=\"evenodd\" fill-opacity=\"1\" /><path clip-path=\"url(#clip150)\" d=\"M 0 0 M2037.82 197.439 L2042.08 197.439 L2042.08 233.458 L2037.82 233.458 L2037.82 197.439 Z\" fill=\"#000000\" fill-rule=\"evenodd\" fill-opacity=\"1\" /><path clip-path=\"url(#clip150)\" d=\"M 0 0 M2078.67 211.467 L2078.67 197.439 L2082.93 197.439 L2082.93 233.458 L2078.67 233.458 L2078.67 229.569 Q2077.33 231.883 2075.27 233.018 Q2073.23 234.129 2070.36 234.129 Q2065.66 234.129 2062.7 230.379 Q2059.76 226.629 2059.76 220.518 Q2059.76 214.407 2062.7 210.657 Q2065.66 206.907 2070.36 206.907 Q2073.23 206.907 2075.27 208.041 Q2077.33 209.152 2078.67 211.467 M2064.16 220.518 Q2064.16 225.217 2066.08 227.902 Q2068.03 230.564 2071.41 230.564 Q2074.78 230.564 2076.73 227.902 Q2078.67 225.217 2078.67 220.518 Q2078.67 215.819 2076.73 213.157 Q2074.78 210.472 2071.41 210.472 Q2068.03 210.472 2066.08 213.157 Q2064.16 215.819 2064.16 220.518 Z\" fill=\"#000000\" fill-rule=\"evenodd\" fill-opacity=\"1\" /><path clip-path=\"url(#clip150)\" d=\"M 0 0 M2109.58 219.43 L2109.58 221.513 L2089.99 221.513 Q2090.27 225.911 2092.63 228.226 Q2095.02 230.518 2099.25 230.518 Q2101.71 230.518 2104 229.916 Q2106.31 229.314 2108.58 228.11 L2108.58 232.138 Q2106.29 233.11 2103.88 233.62 Q2101.47 234.129 2099 234.129 Q2092.79 234.129 2089.16 230.518 Q2085.55 226.907 2085.55 220.749 Q2085.55 214.384 2088.97 210.657 Q2092.42 206.907 2098.26 206.907 Q2103.49 206.907 2106.52 210.286 Q2109.58 213.643 2109.58 219.43 M2105.32 218.18 Q2105.27 214.685 2103.35 212.601 Q2101.45 210.518 2098.3 210.518 Q2094.74 210.518 2092.59 212.532 Q2090.46 214.546 2090.13 218.203 L2105.32 218.18 Z\" fill=\"#000000\" fill-rule=\"evenodd\" fill-opacity=\"1\" /><path clip-path=\"url(#clip150)\" d=\"M 0 0 M2134.23 212.509 Q2135.83 209.638 2138.05 208.273 Q2140.27 206.907 2143.28 206.907 Q2147.33 206.907 2149.53 209.754 Q2151.73 212.578 2151.73 217.809 L2151.73 233.458 L2147.45 233.458 L2147.45 217.948 Q2147.45 214.222 2146.13 212.416 Q2144.81 210.61 2142.1 210.61 Q2138.79 210.61 2136.87 212.81 Q2134.95 215.009 2134.95 218.805 L2134.95 233.458 L2130.66 233.458 L2130.66 217.948 Q2130.66 214.198 2129.34 212.416 Q2128.03 210.61 2125.27 210.61 Q2122.01 210.61 2120.09 212.833 Q2118.16 215.032 2118.16 218.805 L2118.16 233.458 L2113.88 233.458 L2113.88 207.532 L2118.16 207.532 L2118.16 211.56 Q2119.62 209.175 2121.66 208.041 Q2123.7 206.907 2126.5 206.907 Q2129.32 206.907 2131.29 208.342 Q2133.28 209.777 2134.23 212.509 Z\" fill=\"#000000\" fill-rule=\"evenodd\" fill-opacity=\"1\" /><path clip-path=\"url(#clip150)\" d=\"M 0 0 M2167.98 220.425 Q2162.82 220.425 2160.83 221.606 Q2158.84 222.786 2158.84 225.634 Q2158.84 227.902 2160.32 229.245 Q2161.82 230.564 2164.39 230.564 Q2167.93 230.564 2170.06 228.064 Q2172.21 225.541 2172.21 221.374 L2172.21 220.425 L2167.98 220.425 M2176.47 218.666 L2176.47 233.458 L2172.21 233.458 L2172.21 229.522 Q2170.76 231.883 2168.58 233.018 Q2166.4 234.129 2163.26 234.129 Q2159.28 234.129 2156.91 231.907 Q2154.58 229.661 2154.58 225.911 Q2154.58 221.536 2157.49 219.314 Q2160.43 217.092 2166.24 217.092 L2172.21 217.092 L2172.21 216.675 Q2172.21 213.735 2170.27 212.138 Q2168.35 210.518 2164.85 210.518 Q2162.63 210.518 2160.53 211.05 Q2158.42 211.583 2156.47 212.647 L2156.47 208.712 Q2158.81 207.81 2161.01 207.37 Q2163.21 206.907 2165.29 206.907 Q2170.92 206.907 2173.7 209.823 Q2176.47 212.74 2176.47 218.666 Z\" fill=\"#000000\" fill-rule=\"evenodd\" fill-opacity=\"1\" /><path clip-path=\"url(#clip150)\" d=\"M 0 0 M2202.49 217.809 L2202.49 233.458 L2198.23 233.458 L2198.23 217.948 Q2198.23 214.268 2196.8 212.439 Q2195.36 210.61 2192.49 210.61 Q2189.04 210.61 2187.05 212.81 Q2185.06 215.009 2185.06 218.805 L2185.06 233.458 L2180.78 233.458 L2180.78 207.532 L2185.06 207.532 L2185.06 211.56 Q2186.59 209.222 2188.65 208.064 Q2190.73 206.907 2193.44 206.907 Q2197.91 206.907 2200.2 209.685 Q2202.49 212.439 2202.49 217.809 Z\" fill=\"#000000\" fill-rule=\"evenodd\" fill-opacity=\"1\" /><path clip-path=\"url(#clip150)\" d=\"M 0 0 M2224.02 211.467 L2224.02 197.439 L2228.28 197.439 L2228.28 233.458 L2224.02 233.458 L2224.02 229.569 Q2222.68 231.883 2220.62 233.018 Q2218.58 234.129 2215.71 234.129 Q2211.01 234.129 2208.05 230.379 Q2205.11 226.629 2205.11 220.518 Q2205.11 214.407 2208.05 210.657 Q2211.01 206.907 2215.71 206.907 Q2218.58 206.907 2220.62 208.041 Q2222.68 209.152 2224.02 211.467 M2209.51 220.518 Q2209.51 225.217 2211.43 227.902 Q2213.37 230.564 2216.75 230.564 Q2220.13 230.564 2222.08 227.902 Q2224.02 225.217 2224.02 220.518 Q2224.02 215.819 2222.08 213.157 Q2220.13 210.472 2216.75 210.472 Q2213.37 210.472 2211.43 213.157 Q2209.51 215.819 2209.51 220.518 Z\" fill=\"#000000\" fill-rule=\"evenodd\" fill-opacity=\"1\" /></svg>\n"
      ]
     },
     "execution_count": 16,
     "metadata": {},
     "output_type": "execute_result"
    }
   ],
   "source": [
    "plot_market_clearing(hh)"
   ]
  },
  {
   "cell_type": "code",
   "execution_count": 17,
   "metadata": {},
   "outputs": [
    {
     "data": {
      "text/plain": [
       "market_clearing (generic function with 1 method)"
      ]
     },
     "execution_count": 17,
     "metadata": {},
     "output_type": "execute_result"
    }
   ],
   "source": [
    "function market_clearing(hh; r = 0.011, tol = 1e-5, maxiter = 20, bisection_param = 0.8)\n",
    "    @unpack alpha, deprec = hh\n",
    "    \n",
    "    for iter = 1:maxiter\n",
    "        print(\"r=$r: \")\n",
    "        Ksupply = ss(hh; r=r)\n",
    "    \n",
    "        Z = ((r + deprec)/alpha)^alpha\n",
    "        rsupply = Z*alpha*(1/Ksupply)^(1-alpha) - deprec\n",
    "        \n",
    "        if abs(r-rsupply) < tol\n",
    "            return (r+rsupply)/2\n",
    "        else r = (bisection_param)*r + (1-bisection_param)*rsupply\n",
    "        end\n",
    "    end\n",
    "    \n",
    "    error(\"no convergence: did not find market clearing real rate\")\n",
    "end"
   ]
  },
  {
   "cell_type": "code",
   "execution_count": 18,
   "metadata": {},
   "outputs": [
    {
     "name": "stdout",
     "output_type": "stream",
     "text": [
      "r=0.011: policy function iteration successful!\n",
      "distribution iteration successful!\n",
      "r=0.011598145476627797: policy function iteration successful!\n",
      "distribution iteration successful!\n",
      "r=0.011335559535202717: policy function iteration successful!\n",
      "distribution iteration successful!\n",
      "r=0.01144402913507371: policy function iteration successful!\n",
      "distribution iteration successful!\n",
      "r=0.011397948364895279: policy function iteration successful!\n",
      "distribution iteration successful!\n",
      "r=0.011417302326479993: policy function iteration successful!\n",
      "distribution iteration successful!\n",
      "r=0.011409133617604069: policy function iteration successful!\n",
      "distribution iteration successful!\n",
      "r=0.011412573925230521: policy function iteration successful!\n",
      "distribution iteration successful!\n"
     ]
    },
    {
     "data": {
      "text/plain": [
       "0.011408949490941189"
      ]
     },
     "execution_count": 18,
     "metadata": {},
     "output_type": "execute_result"
    }
   ],
   "source": [
    "market_clearing(hh)"
   ]
  }
 ],
 "metadata": {
  "kernelspec": {
   "display_name": "Julia 1.5.2",
   "language": "julia",
   "name": "julia-1.5"
  },
  "language_info": {
   "file_extension": ".jl",
   "mimetype": "application/julia",
   "name": "julia",
   "version": "1.5.2"
  }
 },
 "nbformat": 4,
 "nbformat_minor": 4
}
