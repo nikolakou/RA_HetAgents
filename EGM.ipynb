{
 "cells": [
  {
   "cell_type": "code",
   "execution_count": 1,
   "metadata": {},
   "outputs": [
    {
     "data": {
      "text/plain": [
       "tauchen (generic function with 1 method)"
      ]
     },
     "execution_count": 1,
     "metadata": {},
     "output_type": "execute_result"
    }
   ],
   "source": [
    "#this notebook solves for the equilibrium of the Aiyagari model using the endogenous grid method\n",
    "\n",
    "include(\"rowenhorst_tauchen.jl\") # include discretization functions (make sure it is in your working directory)"
   ]
  },
  {
   "cell_type": "code",
   "execution_count": 10,
   "metadata": {},
   "outputs": [
    {
     "data": {
      "text/plain": [
       "##NamedTuple_kw#256 (generic function with 2 methods)"
      ]
     },
     "execution_count": 10,
     "metadata": {},
     "output_type": "execute_result"
    }
   ],
   "source": [
    "using Parameters, Plots, LinearAlgebra, Interpolations, BenchmarkTools\n",
    "\n",
    "Household = @with_kw (apoints = 500, #asset grid\n",
    "    amax = 200,  # asset max\n",
    "    beta = 0.98, # discount factor\n",
    "    alpha = 0.11, # capital share\n",
    "    deprec = 0.025, # depreciation rate\n",
    "    gamma = 1, # elasticity of substitution\n",
    "    bc = 0, # borrowing constraint (must be weakly negative)\n",
    "    rho = 0.966,  # autocorr of income process\n",
    "    num_states = 7, # number of states for income process\n",
    "    sd = 0.13, # stand. dev. of deviation process\n",
    "    mean = 0, # mean of income process\n",
    "    uncond_sd = 0.13/sqrt(1-rho^2), # unconditional sd\n",
    "    transition_matrix = rowenhorst(mean, uncond_sd, rho, num_states)[1], # transition matrix\n",
    "    ygrid = rowenhorst(mean, uncond_sd, rho, num_states)[2], # grid for income process\n",
    "    Amat = setgrids(bc, apoints, amax, num_states, ygrid)[1], # asset grid\n",
    "    Ymat = setgrids(bc, apoints, amax, num_states, ygrid)[2]) # income grid\n"
   ]
  },
  {
   "cell_type": "code",
   "execution_count": 4,
   "metadata": {},
   "outputs": [
    {
     "data": {
      "text/plain": [
       "setgrids (generic function with 1 method)"
      ]
     },
     "execution_count": 4,
     "metadata": {},
     "output_type": "execute_result"
    }
   ],
   "source": [
    "function setgrids(bc, apoints, amax, num_states, ygrid)\n",
    "    Amat = [i for i in range(bc, length = apoints, stop= amax), j in 1:num_states]\n",
    "    Ymat = [j for i = 1:apoints, j in ygrid]\n",
    "    return Amat, Ymat\n",
    "end"
   ]
  },
  {
   "cell_type": "code",
   "execution_count": 5,
   "metadata": {},
   "outputs": [
    {
     "data": {
      "text/plain": [
       "(apoints = 500, amax = 200, beta = 0.98, alpha = 0.11, deprec = 0.025, gamma = 1, bc = 0, rho = 0.966, num_states = 7, sd = 0.13, mean = 0, uncond_sd = 0.5028195291614176, transition_matrix = [0.9022379843199956 0.09361981119088468 … 8.374316586000039e-9 2.4137569000000128e-11; 0.015603301865147443 0.9035872016735433 … 4.0355125541400147e-7 1.3957194310000061e-9; … ; 1.3957194310000061e-9 4.0355125541400147e-7 … 0.9035872016735433 0.015603301865147443; 2.4137569000000125e-11 8.374316586000037e-9 … 0.09361981119088467 0.9022379843199955], ygrid = [0.25738376293233367, 0.38804396244888767, 0.5850334732755494, 0.8820241982193845, 1.3297814941917474, 2.0048416198384222, 3.022594266947119], Amat = [0.0 0.0 … 0.0 0.0; 0.40080160320641284 0.40080160320641284 … 0.40080160320641284 0.40080160320641284; … ; 199.59919839679358 199.59919839679358 … 199.59919839679358 199.59919839679358; 200.0 200.0 … 200.0 200.0], Ymat = [0.25738376293233367 0.38804396244888767 … 2.0048416198384222 3.022594266947119; 0.25738376293233367 0.38804396244888767 … 2.0048416198384222 3.022594266947119; … ; 0.25738376293233367 0.38804396244888767 … 2.0048416198384222 3.022594266947119; 0.25738376293233367 0.38804396244888767 … 2.0048416198384222 3.022594266947119])"
      ]
     },
     "execution_count": 5,
     "metadata": {},
     "output_type": "execute_result"
    }
   ],
   "source": [
    "hh = Household()"
   ]
  },
  {
   "cell_type": "code",
   "execution_count": 6,
   "metadata": {},
   "outputs": [
    {
     "data": {
      "text/plain": [
       "getconsumption (generic function with 1 method)"
      ]
     },
     "execution_count": 6,
     "metadata": {},
     "output_type": "execute_result"
    }
   ],
   "source": [
    "# marginal utilities and their inverses\n",
    "\n",
    "up(c,gamma) = c.^(-gamma)\n",
    "invup(x,gamma) = x.^(-1/gamma)\n",
    "\n",
    "# euler equation to get current consumption given future interest rate and future consumption grid\n",
    "\n",
    "function getc(gamma,beta,transition_matrix; rnext,cnext)\n",
    "    upnext = beta.*(1+rnext).*up(cnext,gamma)*transition_matrix' # future marginal utility\n",
    "    c = invup(upnext,gamma) # current consumption\n",
    "    return c\n",
    "end\n",
    "\n",
    "# obtain current assets given consumption today defined on asset grid tomorrow\n",
    "\n",
    "geta(Amat,Ymat; r,w,c) =  1/(1+r).*(c.+Amat.-w.*Ymat)\n",
    "\n",
    "# obtain aggregates\n",
    "\n",
    "function getcapital(; policyfun, dist)\n",
    "    K = reshape(policyfun, (length(dist),1))\n",
    "    K = sum(K.*dist)\n",
    "    return K\n",
    "end\n",
    "\n",
    "function getconsumption(; cpolicy,dist)\n",
    "    C = reshape(cpolicy, (length(dist),1)) \n",
    "    C = sum(C.*dist)\n",
    "    return C\n",
    "end"
   ]
  },
  {
   "cell_type": "code",
   "execution_count": 7,
   "metadata": {},
   "outputs": [
    {
     "data": {
      "text/plain": [
       "egm (generic function with 1 method)"
      ]
     },
     "execution_count": 7,
     "metadata": {},
     "output_type": "execute_result"
    }
   ],
   "source": [
    "#Note: function takes both current and future interest rates as arguments.\n",
    "\n",
    "function egm(hh; w, cnext, cbinding, r, rnext)\n",
    " \"\"\"\n",
    "    use endogenous grid method to obtain c_{t} and a_{t} given c_{t+1} 'cnext'\n",
    "    \n",
    "    #### Fields\n",
    "    \n",
    "    - 'hh': household tuple\n",
    "    - 'w': wage rate\n",
    "    - 'cnext': time t+1 consumption grid\n",
    "    - 'cbinding': consumption grid when borrowing constraint binds\n",
    "    - 'r': interest rate at time t\n",
    "    - 'rnext': interest rate at time t+1\n",
    "    \n",
    "    #### Returns\n",
    "    \n",
    "    - 'c': time t consumption grid\n",
    "    - 'anext': time t policy function\n",
    "    \n",
    "\"\"\"\n",
    "    \n",
    "@unpack gamma, beta, transition_matrix, Amat, Ymat, num_states = hh\n",
    "\n",
    "# current policy functions on current grid\n",
    "c = getc(gamma, beta, transition_matrix; rnext=rnext, cnext=cnext)\n",
    "a = geta(Amat, Ymat; r=r, w=w, c=c)\n",
    "\n",
    "cnonbinding = similar(Amat)\n",
    "    \n",
    "# get consumption policy function for current grid\n",
    "for i = 1:num_states\n",
    "    cnonbinding[:,i] = LinearInterpolation(a[:,i], c[:,i], extrapolation_bc = Line()).(Amat[:,i])\n",
    "end\n",
    "\n",
    "# update elements of consumption policy when borrowing constraint binds\n",
    "# a[1,j] is the level of current assets that induces the borrowing constraint to bind exactly.\n",
    "# Therefore, whenever current assets are below a[1,j], the borrowing constraint will be STRICTLY binding.\n",
    "# Note that this uses the monotonicity of the policy rule.\n",
    "\n",
    "for j = 1:num_states\n",
    "   c[:,j] = (Amat[:,j] .> a[1,j]) .*cnonbinding[:,j] .+ (Amat[:,j] .<= a[1,j]).*cbinding[:,j]\n",
    "end\n",
    "    \n",
    "# update saving policy function with new consumption function\n",
    "anext = @. (1+r)*Amat + w*Ymat - c\n",
    "\n",
    "return c, anext\n",
    "end"
   ]
  },
  {
   "cell_type": "code",
   "execution_count": 8,
   "metadata": {},
   "outputs": [
    {
     "data": {
      "text/plain": [
       "iterate_egm (generic function with 1 method)"
      ]
     },
     "execution_count": 8,
     "metadata": {},
     "output_type": "execute_result"
    }
   ],
   "source": [
    "function iterate_egm(hh; r, tol=1e-8, maxiter=1000)\n",
    "    @unpack deprec, alpha, Amat, Ymat, bc = hh\n",
    "    \n",
    "    Z = ((r + deprec)/alpha)^alpha # normalize aggregate income so that Y=1\n",
    "    w = (1-alpha)*Z*(alpha*Z/(r+deprec))^(alpha/(1-alpha)) # wage rate given guess for r\n",
    "     \n",
    "    cnext = @. r*Amat+Ymat*w # initial guess for policy function iteration \n",
    "    \n",
    "    cbinding = @. (1+r)*Amat + w*Ymat + bc # get consumption when borrowing constraint binds\n",
    "    \n",
    "    dist = 1\n",
    "    counter = 0\n",
    "    \n",
    "    for i=1:maxiter\n",
    "        c = egm(hh; w=w, rnext=r, r=r, cnext=cnext, cbinding=cbinding)[1]\n",
    "        if norm(c-cnext,Inf)<tol \n",
    "            println(\"policy function iteration successful!\")\n",
    "            return egm(hh; w=w, rnext=r, r=r, cnext=c, cbinding=cbinding)\n",
    "        else\n",
    "            cnext = c\n",
    "        end\n",
    "    end\n",
    "    \n",
    "    error(\"no policy function convergence!\")\n",
    "    \n",
    "end"
   ]
  },
  {
   "cell_type": "code",
   "execution_count": 12,
   "metadata": {},
   "outputs": [],
   "source": [
    "# @btime iterate_egm(hh, r = 0.1)"
   ]
  }
 ],
 "metadata": {
  "kernelspec": {
   "display_name": "Julia 1.5.2",
   "language": "julia",
   "name": "julia-1.5"
  },
  "language_info": {
   "file_extension": ".jl",
   "mimetype": "application/julia",
   "name": "julia",
   "version": "1.5.2"
  }
 },
 "nbformat": 4,
 "nbformat_minor": 4
}
