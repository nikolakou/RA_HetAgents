{
 "cells": [
  {
   "cell_type": "markdown",
   "metadata": {},
   "source": [
    "## Using Carrol's (2005) Endogenous Grid Method\n",
    "\n",
    "This notebook provides code for the endogenous grid method. Although readability over efficiency is prioritized, it still solves the income fluctuations problem (for a given real rate) in less than half a second."
   ]
  },
  {
   "cell_type": "code",
   "execution_count": 14,
   "metadata": {},
   "outputs": [
    {
     "data": {
      "text/plain": [
       "tauchen (generic function with 1 method)"
      ]
     },
     "execution_count": 14,
     "metadata": {},
     "output_type": "execute_result"
    }
   ],
   "source": [
    "include(\"rowenhorst_tauchen.jl\") # include discretization functions (make sure it is in your working directory)"
   ]
  },
  {
   "cell_type": "markdown",
   "metadata": {},
   "source": [
    "We begin with a tuple that holds the household parameters."
   ]
  },
  {
   "cell_type": "code",
   "execution_count": 10,
   "metadata": {},
   "outputs": [],
   "source": [
    "using Parameters, Plots, LinearAlgebra, Interpolations, BenchmarkTools\n",
    "\n",
    "Household = @with_kw (apoints = 500, #asset grid\n",
    "    amax = 200,  # asset max\n",
    "    beta = 0.98, # discount factor\n",
    "    alpha = 0.11, # capital share\n",
    "    deprec = 0.025, # depreciation rate\n",
    "    gamma = 1, # elasticity of substitution\n",
    "    bc = 0, # borrowing constraint (must be weakly negative)\n",
    "    rho = 0.966,  # autocorr of income process\n",
    "    num_states = 7, # number of states for income process\n",
    "    sd = 0.13, # stand. dev. of deviation process\n",
    "    mean = 0, # mean of income process\n",
    "    uncond_sd = 0.13/sqrt(1-rho^2), # unconditional sd\n",
    "    transition_matrix = rowenhorst(mean, uncond_sd, rho, num_states)[1], # transition matrix\n",
    "    ygrid = rowenhorst(mean, uncond_sd, rho, num_states)[2], # grid for income process\n",
    "    Amat = setgrids(bc, apoints, amax, num_states, ygrid)[1], # asset grid\n",
    "    Ymat = setgrids(bc, apoints, amax, num_states, ygrid)[2]) # income grid\n",
    "\n",
    "\n",
    "function setgrids(bc, apoints, amax, num_states, ygrid)\n",
    "    Amat = [i for i in range(bc, length = apoints, stop= amax), j in 1:num_states]\n",
    "    Ymat = [j for i = 1:apoints, j in ygrid]\n",
    "    return Amat, Ymat\n",
    "end\n",
    "\n",
    "hh = Household()"
   ]
  },
  {
   "cell_type": "markdown",
   "metadata": {},
   "source": [
    "Next, some useful functions that will be used in the main EGM function."
   ]
  },
  {
   "cell_type": "code",
   "execution_count": 6,
   "metadata": {},
   "outputs": [
    {
     "data": {
      "text/plain": [
       "getconsumption (generic function with 1 method)"
      ]
     },
     "execution_count": 6,
     "metadata": {},
     "output_type": "execute_result"
    }
   ],
   "source": [
    "# marginal utilities and their inverses\n",
    "\n",
    "up(c,gamma) = c.^(-gamma)\n",
    "invup(x,gamma) = x.^(-1/gamma)\n",
    "\n",
    "# euler equation to get current consumption given future interest rate and future consumption grid\n",
    "\n",
    "function getc(gamma,beta,transition_matrix; rnext,cnext)\n",
    "    upnext = beta.*(1+rnext).*up(cnext,gamma)*transition_matrix' # future marginal utility\n",
    "    c = invup(upnext,gamma) # current consumption\n",
    "    return c\n",
    "end\n",
    "\n",
    "# obtain current assets given consumption today defined on asset grid tomorrow\n",
    "\n",
    "geta(Amat,Ymat; r,w,c) =  1/(1+r).*(c.+Amat.-w.*Ymat)\n",
    "\n",
    "# obtain aggregates\n",
    "\n",
    "function getcapital(; policyfun, dist)\n",
    "    K = reshape(policyfun, (length(dist),1))\n",
    "    K = sum(K.*dist)\n",
    "    return K\n",
    "end\n",
    "\n",
    "function getconsumption(; cpolicy,dist)\n",
    "    C = reshape(cpolicy, (length(dist),1)) \n",
    "    C = sum(C.*dist)\n",
    "    return C\n",
    "end"
   ]
  },
  {
   "cell_type": "markdown",
   "metadata": {},
   "source": [
    "This is the main egm function. It iterates on the Euler equation $c_t = \\beta (1+r_{t+1}) \\mathbb{E}_t c_{t+1}$ given a guess for the consumption policy function $c_{t+1}$ (\"cnext\" in the function). Observe that we no longer need a root finding procedure, but still need to interpolate the optimal policy on our defined grids."
   ]
  },
  {
   "cell_type": "code",
   "execution_count": 7,
   "metadata": {},
   "outputs": [
    {
     "data": {
      "text/plain": [
       "egm (generic function with 1 method)"
      ]
     },
     "execution_count": 7,
     "metadata": {},
     "output_type": "execute_result"
    }
   ],
   "source": [
    "# Note: function takes both current and future interest rates as arguments.\n",
    "\n",
    "function egm(hh; w, cnext, cbinding, r, rnext)\n",
    " \"\"\"\n",
    "    use endogenous grid method to obtain c_{t} and a_{t} given c_{t+1} 'cnext'\n",
    "    \n",
    "    #### Fields\n",
    "    \n",
    "    - 'hh': household tuple\n",
    "    - 'w': wage rate\n",
    "    - 'cnext': time t+1 consumption grid\n",
    "    - 'cbinding': consumption grid when borrowing constraint binds\n",
    "    - 'r': interest rate at time t\n",
    "    - 'rnext': interest rate at time t+1\n",
    "    \n",
    "    #### Returns\n",
    "    \n",
    "    - 'c': time t consumption grid\n",
    "    - 'anext': time t policy function\n",
    "    \n",
    "\"\"\"\n",
    "    \n",
    "@unpack gamma, beta, transition_matrix, Amat, Ymat, num_states = hh\n",
    "\n",
    "# current policy functions on current grid\n",
    "c = getc(gamma, beta, transition_matrix; rnext=rnext, cnext=cnext)\n",
    "a = geta(Amat, Ymat; r=r, w=w, c=c)\n",
    "\n",
    "cnonbinding = similar(Amat)\n",
    "    \n",
    "# get consumption policy function for current grid\n",
    "for i = 1:num_states\n",
    "    cnonbinding[:,i] = LinearInterpolation(a[:,i], c[:,i], extrapolation_bc = Line()).(Amat[:,i])\n",
    "end\n",
    "\n",
    "# update elements of consumption policy when borrowing constraint binds\n",
    "# a[1,j] is the level of current assets that induces the borrowing constraint to bind exactly.\n",
    "# Therefore, whenever current assets are below a[1,j], the borrowing constraint will be STRICTLY binding.\n",
    "# Note that this uses the monotonicity of the policy rule.\n",
    "\n",
    "for j = 1:num_states\n",
    "   c[:,j] = (Amat[:,j] .> a[1,j]) .*cnonbinding[:,j] .+ (Amat[:,j] .<= a[1,j]).*cbinding[:,j]\n",
    "end\n",
    "    \n",
    "# update saving policy function with new consumption function\n",
    "anext = @. (1+r)*Amat + w*Ymat - c\n",
    "\n",
    "return c, anext\n",
    "end"
   ]
  },
  {
   "cell_type": "markdown",
   "metadata": {},
   "source": [
    "This is the function that iterates on the EGM function above to solve for the optimal policy rule."
   ]
  },
  {
   "cell_type": "code",
   "execution_count": 8,
   "metadata": {},
   "outputs": [
    {
     "data": {
      "text/plain": [
       "iterate_egm (generic function with 1 method)"
      ]
     },
     "execution_count": 8,
     "metadata": {},
     "output_type": "execute_result"
    }
   ],
   "source": [
    "function iterate_egm(hh; r, tol=1e-8, maxiter=1000)\n",
    "    @unpack deprec, alpha, Amat, Ymat, bc = hh\n",
    "    \n",
    "    Z = ((r + deprec)/alpha)^alpha # normalize aggregate income so that Y=1\n",
    "    w = (1-alpha)*Z*(alpha*Z/(r+deprec))^(alpha/(1-alpha)) # wage rate given guess for r\n",
    "     \n",
    "    cnext = @. r*Amat+Ymat*w # initial guess for policy function iteration \n",
    "    \n",
    "    cbinding = @. (1+r)*Amat + w*Ymat + bc # get consumption when borrowing constraint binds\n",
    "    \n",
    "    dist = 1\n",
    "    counter = 0\n",
    "    \n",
    "    for i=1:maxiter\n",
    "        c = egm(hh; w=w, rnext=r, r=r, cnext=cnext, cbinding=cbinding)[1]\n",
    "        if norm(c-cnext,Inf)<tol \n",
    "            println(\"policy function iteration successful!\")\n",
    "            return egm(hh; w=w, rnext=r, r=r, cnext=c, cbinding=cbinding)\n",
    "        else\n",
    "            cnext = c\n",
    "        end\n",
    "    end\n",
    "    \n",
    "    error(\"no policy function convergence!\")\n",
    "    \n",
    "end"
   ]
  },
  {
   "cell_type": "markdown",
   "metadata": {},
   "source": [
    "Solves for the optimal policy in $\\approx$ half a second."
   ]
  },
  {
   "cell_type": "code",
   "execution_count": 13,
   "metadata": {},
   "outputs": [
    {
     "name": "stdout",
     "output_type": "stream",
     "text": [
      "policy function iteration successful!\n",
      "policy function iteration successful!\n",
      "policy function iteration successful!\n",
      "policy function iteration successful!\n",
      "policy function iteration successful!\n",
      "policy function iteration successful!\n",
      "policy function iteration successful!\n",
      "policy function iteration successful!\n",
      "policy function iteration successful!\n",
      "policy function iteration successful!\n",
      "policy function iteration successful!\n",
      "policy function iteration successful!\n",
      "policy function iteration successful!\n",
      "policy function iteration successful!\n",
      "policy function iteration successful!\n",
      "policy function iteration successful!\n",
      "policy function iteration successful!\n",
      "policy function iteration successful!\n",
      "policy function iteration successful!\n",
      "policy function iteration successful!\n",
      "  510.375 ms (73236 allocations: 365.32 MiB)\n"
     ]
    },
    {
     "data": {
      "text/plain": [
       "([0.07096749424518328 0.09474585074712497 … 0.32374756274362093 0.44736616230505283; 0.0802685772211671 0.10402894671986812 … 0.33296332057926986 0.456566049492291; … ; 4.469192997723292 4.494141840127407 … 4.731285018197259 4.858247293339893; 4.478015411449168 4.502964924185298 … 4.740113894500879 4.867079161438543], [0.15810405476459372 0.25061327583238513 … 1.4605614789125752 2.2427427352778837; 0.589684735315664 0.6822119433866962 … 1.8922274846039804 2.6744246116176993; … ; 215.31899678775943 215.41033552292507 … 216.6121422599319 217.390979840716; 215.75105613756062 215.84239420239425 … 217.04419514715536 217.82302973614443])"
      ]
     },
     "execution_count": 13,
     "metadata": {},
     "output_type": "execute_result"
    }
   ],
   "source": [
    "@btime iterate_egm(hh, r = 0.1)"
   ]
  }
 ],
 "metadata": {
  "kernelspec": {
   "display_name": "Julia 1.5.2",
   "language": "julia",
   "name": "julia-1.5"
  },
  "language_info": {
   "file_extension": ".jl",
   "mimetype": "application/julia",
   "name": "julia",
   "version": "1.5.2"
  }
 },
 "nbformat": 4,
 "nbformat_minor": 4
}
