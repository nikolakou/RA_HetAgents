{
 "cells": [
  {
   "cell_type": "code",
   "execution_count": 1,
   "metadata": {},
   "outputs": [
    {
     "data": {
      "text/plain": [
       "tauchen (generic function with 1 method)"
      ]
     },
     "execution_count": 1,
     "metadata": {},
     "output_type": "execute_result"
    }
   ],
   "source": [
    "#this notebook solves for the equilibrium of the Aiyagari model using the endogenous grid method\n",
    "\n",
    "include(\"rowenhorst_tauchen.jl\") # include discretization functions (make sure it is in your working directory)"
   ]
  },
  {
   "cell_type": "code",
   "execution_count": 5,
   "metadata": {},
   "outputs": [
    {
     "data": {
      "text/plain": [
       "##NamedTuple_kw#254 (generic function with 2 methods)"
      ]
     },
     "execution_count": 5,
     "metadata": {},
     "output_type": "execute_result"
    }
   ],
   "source": [
    "using Parameters, Plots, LinearAlgebra, Interpolations\n",
    "\n",
    "Household = @with_kw (apoints = 500, #asset grid\n",
    "    amax = 200,  # asset max\n",
    "    beta = 0.98, # discount factor\n",
    "    alpha = 0.11, # capital share\n",
    "    deprec = 0.025, # depreciation rate\n",
    "    gamma = 1, # elasticity of substitution\n",
    "    bc = 0, # borrowing constraint (must be weakly negative)\n",
    "    rho = 0.966,  # autocorr of income process\n",
    "    num_states = 7, # number of states for income process\n",
    "    sd = 0.13, # stand. dev. of deviation process\n",
    "    mean = 0, # mean of income process\n",
    "    uncond_sd = 0.13/sqrt(1-rho^2), # unconditional sd\n",
    "    transition_matrix = rowenhorst(mean, uncond_sd, rho, num_states)[1], # transition matrix\n",
    "    ygrid = rowenhorst(mean, uncond_sd, rho, num_states)[2], # grid for income process\n",
    "    Amat = setgrids(bc, apoints, amax, num_states, ygrid)[1], # asset grid\n",
    "    Ymat = setgrids(bc, apoints, amax, num_states, ygrid)[2]) # income grid\n"
   ]
  },
  {
   "cell_type": "code",
   "execution_count": 6,
   "metadata": {},
   "outputs": [
    {
     "data": {
      "text/plain": [
       "setgrids (generic function with 1 method)"
      ]
     },
     "execution_count": 6,
     "metadata": {},
     "output_type": "execute_result"
    }
   ],
   "source": [
    "function setgrids(bc, apoints, amax, num_states, ygrid)\n",
    "    Amat = [i for i in range(bc, length = apoints, stop= amax), j in 1:num_states]\n",
    "    Ymat = [j for i = 1:apoints, j in ygrid]\n",
    "    return Amat, Ymat\n",
    "end"
   ]
  },
  {
   "cell_type": "code",
   "execution_count": 7,
   "metadata": {},
   "outputs": [
    {
     "data": {
      "text/plain": [
       "(apoints = 500, amax = 200, beta = 0.98, alpha = 0.11, deprec = 0.025, gamma = 1, bc = 0, rho = 0.966, num_states = 7, sd = 0.13, mean = 0, uncond_sd = 0.5028195291614176, transition_matrix = [0.9022379843199956 0.09361981119088468 … 8.374316586000039e-9 2.4137569000000128e-11; 0.015603301865147443 0.9035872016735433 … 4.0355125541400147e-7 1.3957194310000061e-9; … ; 1.3957194310000061e-9 4.0355125541400147e-7 … 0.9035872016735433 0.015603301865147443; 2.4137569000000125e-11 8.374316586000037e-9 … 0.09361981119088467 0.9022379843199955], ygrid = [0.25738376293233367, 0.38804396244888767, 0.5850334732755494, 0.8820241982193845, 1.3297814941917474, 2.0048416198384222, 3.022594266947119], Amat = [0.0 0.0 … 0.0 0.0; 0.40080160320641284 0.40080160320641284 … 0.40080160320641284 0.40080160320641284; … ; 199.59919839679358 199.59919839679358 … 199.59919839679358 199.59919839679358; 200.0 200.0 … 200.0 200.0], Ymat = [0.25738376293233367 0.38804396244888767 … 2.0048416198384222 3.022594266947119; 0.25738376293233367 0.38804396244888767 … 2.0048416198384222 3.022594266947119; … ; 0.25738376293233367 0.38804396244888767 … 2.0048416198384222 3.022594266947119; 0.25738376293233367 0.38804396244888767 … 2.0048416198384222 3.022594266947119])"
      ]
     },
     "execution_count": 7,
     "metadata": {},
     "output_type": "execute_result"
    }
   ],
   "source": [
    "hh = Household()"
   ]
  },
  {
   "cell_type": "code",
   "execution_count": 8,
   "metadata": {},
   "outputs": [
    {
     "data": {
      "text/plain": [
       "getconsumption (generic function with 1 method)"
      ]
     },
     "execution_count": 8,
     "metadata": {},
     "output_type": "execute_result"
    }
   ],
   "source": [
    "# marginal utilities and their inverses\n",
    "\n",
    "up(c,gamma) = c.^(-gamma)\n",
    "invup(x,gamma) = x.^(-1/gamma)\n",
    "\n",
    "# euler equation to get current consumption given future interest rate and future consumption grid\n",
    "\n",
    "function getc(gamma,beta,transition_matrix; rnext,cnext)\n",
    "    upnext = beta.*(1+rnext).*up(cnext,gamma)*transition_matrix' # future marginal utility\n",
    "    c = invup(upnext,gamma) # current consumption\n",
    "    return c\n",
    "end\n",
    "\n",
    "# obtain current assets given consumption today defined on asset grid tomorrow\n",
    "\n",
    "geta(Amat,Ymat; r,w,c) =  1/(1+r).*(c.+Amat.-w.*Ymat)\n",
    "\n",
    "# obtain aggregates\n",
    "\n",
    "function getcapital(; policyfun, dist)\n",
    "    K = reshape(policyfun, (length(dist),1))\n",
    "    K = sum(K.*dist)\n",
    "    return K\n",
    "end\n",
    "\n",
    "function getconsumption(; cpolicy,dist)\n",
    "    C = reshape(cpolicy, (length(dist),1)) \n",
    "    C = sum(C.*dist)\n",
    "    return C\n",
    "end\n"
   ]
  },
  {
   "cell_type": "code",
   "execution_count": 9,
   "metadata": {},
   "outputs": [
    {
     "data": {
      "text/plain": [
       "egm (generic function with 1 method)"
      ]
     },
     "execution_count": 9,
     "metadata": {},
     "output_type": "execute_result"
    }
   ],
   "source": [
    "#Note: function takes both current and future interest rates as arguments.\n",
    "\n",
    "function egm(hh; w, cnext, cbinding, r, rnext)\n",
    " \"\"\"\n",
    "    use endogenous grid method to obtain c_{t} and a_{t} given c_{t+1} 'cnext'\n",
    "    \n",
    "    #### Fields\n",
    "    \n",
    "    - 'hh': household tuple\n",
    "    - 'w': wage rate\n",
    "    - 'cnext': time t+1 consumption grid\n",
    "    - 'cbinding': consumption grid when borrowing constraint binds\n",
    "    - 'r': interest rate at time t\n",
    "    - 'rnext': interest rate at time t+1\n",
    "    \n",
    "    #### Returns\n",
    "    \n",
    "    - 'c': time t consumption grid\n",
    "    - 'anext': time t policy function\n",
    "    \n",
    "\"\"\"\n",
    "    \n",
    "@unpack gamma, beta, transition_matrix, Amat, Ymat, num_states = hh\n",
    "\n",
    "# current policy functions on current grid\n",
    "c = getc(gamma, beta, transition_matrix; rnext=rnext, cnext=cnext)\n",
    "a = geta(Amat, Ymat; r=r, w=w, c=c)\n",
    "\n",
    "cnonbinding = similar(Amat)\n",
    "    \n",
    "# get consumption policy function for current grid\n",
    "for i = 1:num_states\n",
    "    cnonbinding[:,i] = LinearInterpolation(a[:,i], c[:,i], extrapolation_bc = Line()).(Amat[:,i])\n",
    "end\n",
    "\n",
    "# update elements of consumption policy when borrowing constraint binds\n",
    "# a[1,j] is the level of current assets that induces the borrowing constraint to bind exactly.\n",
    "# Therefore, whenever current assets are below a[1,j], the borrowing constraint will be STRICTLY binding.\n",
    "# Note that this uses the monotonicity of the policy rule.\n",
    "\n",
    "for j = 1:num_states\n",
    "   c[:,j] = (Amat[:,j] .> a[1,j]) .*cnonbinding[:,j] .+ (Amat[:,j] .<= a[1,j]).*cbinding[:,j]\n",
    "end\n",
    "    \n",
    "# update saving policy function with new consumption function\n",
    "anext = @. (1+r)*Amat + w*Ymat - c\n",
    "\n",
    "return c, anext\n",
    "    \n",
    "end"
   ]
  },
  {
   "cell_type": "code",
   "execution_count": 10,
   "metadata": {},
   "outputs": [
    {
     "data": {
      "text/plain": [
       "iterate_egm (generic function with 1 method)"
      ]
     },
     "execution_count": 10,
     "metadata": {},
     "output_type": "execute_result"
    }
   ],
   "source": [
    "function iterate_egm(hh; r, tol=1e-8, maxiter=1000)\n",
    "    @unpack deprec, alpha, Amat, Ymat, bc = hh\n",
    "    \n",
    "    Z = ((r + deprec)/alpha)^alpha # normalize aggregate income so that Y=1\n",
    "    w = (1-alpha)*Z*(alpha*Z/(r+deprec))^(alpha/(1-alpha)) # wage rate given guess for r\n",
    "     \n",
    "    cnext = @. r*Amat+Ymat*w # initial guess for policy function iteration \n",
    "    \n",
    "    cbinding = @. (1+r)*Amat + w*Ymat + bc # get consumption when borrowing constraint binds\n",
    "    \n",
    "    dist = 1\n",
    "    counter = 0\n",
    "    \n",
    "    for i=1:maxiter\n",
    "        c = egm(hh; w=w, rnext=r, r=r, cnext=cnext, cbinding=cbinding)[1]\n",
    "        if norm(c-cnext,Inf)<tol \n",
    "            println(\"policy function iteration successful!\")\n",
    "            return egm(hh; w=w, rnext=r, r=r, cnext=c, cbinding=cbinding)\n",
    "        else\n",
    "            cnext = c\n",
    "        end\n",
    "    end\n",
    "    \n",
    "    error(\"no policy function convergence!\")\n",
    "    \n",
    "end\n"
   ]
  },
  {
   "cell_type": "code",
   "execution_count": 12,
   "metadata": {},
   "outputs": [
    {
     "name": "stdout",
     "output_type": "stream",
     "text": [
      "policy function iteration successful!\n",
      "  0.322258 seconds (73.12 k allocations: 365.311 MiB, 11.28% gc time)\n"
     ]
    },
    {
     "data": {
      "text/plain": [
       "([0.07096749424518328 0.09474585074712497 … 0.32374756274362093 0.44736616230505283; 0.0802685772211671 0.10402894671986812 … 0.33296332057926986 0.456566049492291; … ; 4.469192997723292 4.494141840127407 … 4.731285018197259 4.858247293339893; 4.478015411449168 4.502964924185298 … 4.740113894500879 4.867079161438543], [0.15810405476459372 0.25061327583238513 … 1.4605614789125752 2.2427427352778837; 0.589684735315664 0.6822119433866962 … 1.8922274846039804 2.6744246116176993; … ; 215.31899678775943 215.41033552292507 … 216.6121422599319 217.390979840716; 215.75105613756062 215.84239420239425 … 217.04419514715536 217.82302973614443])"
      ]
     },
     "execution_count": 12,
     "metadata": {},
     "output_type": "execute_result"
    }
   ],
   "source": [
    "@time iterate_egm(hh, r = 0.1)"
   ]
  },
  {
   "cell_type": "code",
   "execution_count": 13,
   "metadata": {},
   "outputs": [
    {
     "data": {
      "text/plain": [
       "get_kernel (generic function with 1 method)"
      ]
     },
     "execution_count": 13,
     "metadata": {},
     "output_type": "execute_result"
    }
   ],
   "source": [
    "function get_kernel(hh; policyfun)\n",
    "    \n",
    "\"\"\"\n",
    "    get transition kernel for asset-income distribution using Young's method\n",
    "    \n",
    "    #### Fields\n",
    "    \n",
    "    - 'hh': household tuple\n",
    "    - 'policyfun': savings function, array na x ny\n",
    "    \n",
    "    #### Returns\n",
    "    \n",
    "    - 'kernel': na*ny x na*ny array row-stochastic transition kernel\n",
    "    \n",
    "\"\"\"\n",
    "\n",
    "@unpack apoints, Amat, num_states, Ymat, transition_matrix = hh\n",
    "    \n",
    "# construct transition matrix without labour stochasticity\n",
    "Q = zeros(apoints, apoints, num_states)\n",
    "    \n",
    "# find which element to interpolate to\n",
    "findnearest(A,t) = findmin(abs.(A.-t))[2]\n",
    "\n",
    "# construct matrices to get neighboring indices\n",
    "next = similar(Amat)\n",
    "previous = similar(Amat)\n",
    "\n",
    "for j = 1:num_states\n",
    "    for k = 1:apoints\n",
    "        ind = findnearest(Amat[:,j],policyfun[k,j])\n",
    "            if policyfun[k,j] - Amat[ind,j] > 0\n",
    "                previous[k,j] = Amat[ind,j]\n",
    "                if ind == apoints\n",
    "                    next[k,j] = Amat[ind,j]\n",
    "                else         \n",
    "                next[k,j] = Amat[ind+1,j]\n",
    "                end\n",
    "            elseif policyfun[k,j] == Amat[ind,j]\n",
    "                previous[k,j] = policyfun[k,j] \n",
    "                next[k,j] = policyfun[k,]\n",
    "            else\n",
    "                next[k,j] = Amat[ind,j]\n",
    "                if ind == 1\n",
    "                    previous[k,j] = Amat[ind,j]\n",
    "                else\n",
    "                    previous[k,j] = Amat[ind-1,j]\n",
    "                end\n",
    "            end  \n",
    "    end\n",
    "end\n",
    "    \n",
    "# construct transition matrix for assets.\n",
    "# Q[i,j,k] is the probability of going to agrid[i] when current assets are agrid[j] and income is ygrid[k]\n",
    "for k = 1:apoints\n",
    "    for j = 1:num_states\n",
    "        if next[k,j] == previous[k,j]\n",
    "            Q[Amat[:,1].==previous[k,j],k,j] .= 1\n",
    "        else\n",
    "            Q[Amat[:,1].==previous[k,j],k,j] .= (next[k,j]-policyfun[k,j])./(next[k,j]-previous[k,j])\n",
    "            Q[Amat[:,1].==next[k,j],k,j] .= 1 - (next[k,j]-policyfun[k,j])./(next[k,j]-previous[k,j])\n",
    "    \n",
    "        end\n",
    "    end\n",
    "end\n",
    "    \n",
    "# construct transition kernel by taking the kronecker product of assets and transition_matrix for income\n",
    "kernel = zeros(apoints*num_states,apoints*num_states)\n",
    "\n",
    "for j=1:num_states\n",
    "    for i=1:num_states\n",
    "        kernel[(i-1)*apoints+1:i*apoints,(j-1)*apoints+1:j*apoints]=Q[:,:,j].*transition_matrix[j,i];\n",
    "    end\n",
    "end\n",
    "\n",
    "kernel = kernel'\n",
    "    \n",
    "return kernel\n",
    "end"
   ]
  },
  {
   "cell_type": "code",
   "execution_count": 16,
   "metadata": {},
   "outputs": [
    {
     "data": {
      "text/plain": [
       "histogram_method (generic function with 1 method)"
      ]
     },
     "execution_count": 16,
     "metadata": {},
     "output_type": "execute_result"
    }
   ],
   "source": [
    "function histogram_method(hh; kernel, tol=1e-8, maxiter=1000)\n",
    "    #needs Markov transition kernel\n",
    "    @unpack apoints, num_states = hh\n",
    "    \n",
    "    #initial guess for invariant distribution\n",
    "    init = ones(apoints*num_states)\n",
    "    init = init./sum(init)\n",
    "    \n",
    "    dist = 1\n",
    "    counter = 0\n",
    "    \n",
    "    for i=1:maxiter\n",
    "        initnext = (init'*kernel)'\n",
    "        if norm(init-initnext,Inf) < tol \n",
    "            println(\"distribution iteration successful!\")\n",
    "            return initnext\n",
    "        else\n",
    "            init = initnext\n",
    "        end\n",
    "    end\n",
    "    \n",
    "    error(\"distribution did not convergence!\")\n",
    "end"
   ]
  },
  {
   "cell_type": "code",
   "execution_count": 17,
   "metadata": {},
   "outputs": [
    {
     "data": {
      "text/plain": [
       "ss (generic function with 1 method)"
      ]
     },
     "execution_count": 17,
     "metadata": {},
     "output_type": "execute_result"
    }
   ],
   "source": [
    "function ss(hh; r)\n",
    "    @unpack beta = hh\n",
    "    @assert r < 1/(beta)-1 \"r too large for convergence\"\n",
    "    \n",
    "    c, anext = iterate_egm(hh; r = r) # get converged policy function\n",
    "    kernel = get_kernel(hh; policyfun = anext) # get kernel\n",
    "    \n",
    "    invariant_distribution = histogram_method(hh; kernel = kernel) # get invariant distribution\n",
    "    \n",
    "    K = getcapital(; policyfun = anext, dist = invariant_distribution) # get aggregate capital\n",
    "    \n",
    "    return K\n",
    "end"
   ]
  },
  {
   "cell_type": "code",
   "execution_count": 22,
   "metadata": {},
   "outputs": [
    {
     "data": {
      "text/plain": [
       "plot_market_clearing (generic function with 1 method)"
      ]
     },
     "execution_count": 22,
     "metadata": {},
     "output_type": "execute_result"
    }
   ],
   "source": [
    "function plot_market_clearing(hh)\n",
    "    \n",
    "    @unpack alpha, deprec = hh\n",
    "    \n",
    "    rgrid = 0.005:0.002:0.014\n",
    "    Ksupply = zeros(length(rgrid))\n",
    "    \n",
    "    for (index,r) in enumerate(rgrid)\n",
    "        Ksupply[index] = ss(hh; r=r)\n",
    "    end\n",
    "    \n",
    "    plot(rgrid, Ksupply, label = \"capital supply\")\n",
    "    \n",
    "    Z(r) = ((r + deprec)/alpha)^alpha #normalize so Y=1\n",
    "    K(r) = ((Z(r)*alpha)/(r+deprec))^(1/(1-alpha))\n",
    "    \n",
    "    plot!(rgrid,K.(rgrid), label= \"capital demand\")\n",
    "    xlabel!(\"r-δ\")\n",
    "    ylabel!(\"capital\")\n",
    "    \n",
    "end"
   ]
  },
  {
   "cell_type": "code",
   "execution_count": 23,
   "metadata": {},
   "outputs": [
    {
     "name": "stdout",
     "output_type": "stream",
     "text": [
      "policy function iteration successful!\n",
      "distribution iteration successful!\n",
      "policy function iteration successful!\n",
      "distribution iteration successful!\n",
      "policy function iteration successful!\n",
      "distribution iteration successful!\n",
      "policy function iteration successful!\n",
      "distribution iteration successful!\n",
      "policy function iteration successful!\n",
      "distribution iteration successful!\n"
     ]
    },
    {
     "data": {
      "image/svg+xml": [
       "<?xml version=\"1.0\" encoding=\"utf-8\"?>\n",
       "<svg xmlns=\"http://www.w3.org/2000/svg\" xmlns:xlink=\"http://www.w3.org/1999/xlink\" width=\"600\" height=\"400\" viewBox=\"0 0 2400 1600\">\n",
       "<defs>\n",
       "  <clipPath id=\"clip090\">\n",
       "    <rect x=\"0\" y=\"0\" width=\"2400\" height=\"1600\"/>\n",
       "  </clipPath>\n",
       "</defs>\n",
       "<path clip-path=\"url(#clip090)\" d=\"\n",
       "M0 1600 L2400 1600 L2400 0 L0 0  Z\n",
       "  \" fill=\"#ffffff\" fill-rule=\"evenodd\" fill-opacity=\"1\"/>\n",
       "<defs>\n",
       "  <clipPath id=\"clip091\">\n",
       "    <rect x=\"480\" y=\"0\" width=\"1681\" height=\"1600\"/>\n",
       "  </clipPath>\n",
       "</defs>\n",
       "<path clip-path=\"url(#clip090)\" d=\"\n",
       "M175.445 1423.18 L2352.76 1423.18 L2352.76 47.2441 L175.445 47.2441  Z\n",
       "  \" fill=\"#ffffff\" fill-rule=\"evenodd\" fill-opacity=\"1\"/>\n",
       "<defs>\n",
       "  <clipPath id=\"clip092\">\n",
       "    <rect x=\"175\" y=\"47\" width=\"2178\" height=\"1377\"/>\n",
       "  </clipPath>\n",
       "</defs>\n",
       "<polyline clip-path=\"url(#clip092)\" style=\"stroke:#000000; stroke-width:2; stroke-opacity:0.1; fill:none\" points=\"\n",
       "  493.826,1423.18 493.826,47.2441 \n",
       "  \"/>\n",
       "<polyline clip-path=\"url(#clip092)\" style=\"stroke:#000000; stroke-width:2; stroke-opacity:0.1; fill:none\" points=\"\n",
       "  1007.34,1423.18 1007.34,47.2441 \n",
       "  \"/>\n",
       "<polyline clip-path=\"url(#clip092)\" style=\"stroke:#000000; stroke-width:2; stroke-opacity:0.1; fill:none\" points=\"\n",
       "  1520.86,1423.18 1520.86,47.2441 \n",
       "  \"/>\n",
       "<polyline clip-path=\"url(#clip092)\" style=\"stroke:#000000; stroke-width:2; stroke-opacity:0.1; fill:none\" points=\"\n",
       "  2034.38,1423.18 2034.38,47.2441 \n",
       "  \"/>\n",
       "<polyline clip-path=\"url(#clip090)\" style=\"stroke:#000000; stroke-width:4; stroke-opacity:1; fill:none\" points=\"\n",
       "  175.445,1423.18 2352.76,1423.18 \n",
       "  \"/>\n",
       "<polyline clip-path=\"url(#clip090)\" style=\"stroke:#000000; stroke-width:4; stroke-opacity:1; fill:none\" points=\"\n",
       "  493.826,1423.18 493.826,1406.67 \n",
       "  \"/>\n",
       "<polyline clip-path=\"url(#clip090)\" style=\"stroke:#000000; stroke-width:4; stroke-opacity:1; fill:none\" points=\"\n",
       "  1007.34,1423.18 1007.34,1406.67 \n",
       "  \"/>\n",
       "<polyline clip-path=\"url(#clip090)\" style=\"stroke:#000000; stroke-width:4; stroke-opacity:1; fill:none\" points=\"\n",
       "  1520.86,1423.18 1520.86,1406.67 \n",
       "  \"/>\n",
       "<polyline clip-path=\"url(#clip090)\" style=\"stroke:#000000; stroke-width:4; stroke-opacity:1; fill:none\" points=\"\n",
       "  2034.38,1423.18 2034.38,1406.67 \n",
       "  \"/>\n",
       "<path clip-path=\"url(#clip090)\" d=\"M 0 0 M448.247 1452.37 Q444.636 1452.37 442.807 1455.94 Q441.002 1459.48 441.002 1466.61 Q441.002 1473.71 442.807 1477.28 Q444.636 1480.82 448.247 1480.82 Q451.881 1480.82 453.687 1477.28 Q455.516 1473.71 455.516 1466.61 Q455.516 1459.48 453.687 1455.94 Q451.881 1452.37 448.247 1452.37 M448.247 1448.67 Q454.057 1448.67 457.113 1453.27 Q460.191 1457.86 460.191 1466.61 Q460.191 1475.33 457.113 1479.94 Q454.057 1484.52 448.247 1484.52 Q442.437 1484.52 439.358 1479.94 Q436.303 1475.33 436.303 1466.61 Q436.303 1457.86 439.358 1453.27 Q442.437 1448.67 448.247 1448.67 Z\" fill=\"#000000\" fill-rule=\"evenodd\" fill-opacity=\"1\" /><path clip-path=\"url(#clip090)\" d=\"M 0 0 M465.261 1477.97 L470.145 1477.97 L470.145 1483.85 L465.261 1483.85 L465.261 1477.97 Z\" fill=\"#000000\" fill-rule=\"evenodd\" fill-opacity=\"1\" /><path clip-path=\"url(#clip090)\" d=\"M 0 0 M485.214 1452.37 Q481.603 1452.37 479.775 1455.94 Q477.969 1459.48 477.969 1466.61 Q477.969 1473.71 479.775 1477.28 Q481.603 1480.82 485.214 1480.82 Q488.849 1480.82 490.654 1477.28 Q492.483 1473.71 492.483 1466.61 Q492.483 1459.48 490.654 1455.94 Q488.849 1452.37 485.214 1452.37 M485.214 1448.67 Q491.025 1448.67 494.08 1453.27 Q497.159 1457.86 497.159 1466.61 Q497.159 1475.33 494.08 1479.94 Q491.025 1484.52 485.214 1484.52 Q479.404 1484.52 476.326 1479.94 Q473.27 1475.33 473.27 1466.61 Q473.27 1457.86 476.326 1453.27 Q479.404 1448.67 485.214 1448.67 Z\" fill=\"#000000\" fill-rule=\"evenodd\" fill-opacity=\"1\" /><path clip-path=\"url(#clip090)\" d=\"M 0 0 M512.228 1452.37 Q508.617 1452.37 506.788 1455.94 Q504.983 1459.48 504.983 1466.61 Q504.983 1473.71 506.788 1477.28 Q508.617 1480.82 512.228 1480.82 Q515.862 1480.82 517.668 1477.28 Q519.497 1473.71 519.497 1466.61 Q519.497 1459.48 517.668 1455.94 Q515.862 1452.37 512.228 1452.37 M512.228 1448.67 Q518.038 1448.67 521.094 1453.27 Q524.173 1457.86 524.173 1466.61 Q524.173 1475.33 521.094 1479.94 Q518.038 1484.52 512.228 1484.52 Q506.418 1484.52 503.339 1479.94 Q500.284 1475.33 500.284 1466.61 Q500.284 1457.86 503.339 1453.27 Q506.418 1448.67 512.228 1448.67 Z\" fill=\"#000000\" fill-rule=\"evenodd\" fill-opacity=\"1\" /><path clip-path=\"url(#clip090)\" d=\"M 0 0 M539.821 1464.71 Q536.673 1464.71 534.821 1466.86 Q532.992 1469.01 532.992 1472.76 Q532.992 1476.49 534.821 1478.67 Q536.673 1480.82 539.821 1480.82 Q542.969 1480.82 544.797 1478.67 Q546.649 1476.49 546.649 1472.76 Q546.649 1469.01 544.797 1466.86 Q542.969 1464.71 539.821 1464.71 M549.103 1450.06 L549.103 1454.31 Q547.344 1453.48 545.538 1453.04 Q543.756 1452.6 541.997 1452.6 Q537.367 1452.6 534.913 1455.73 Q532.483 1458.85 532.136 1465.17 Q533.501 1463.16 535.561 1462.09 Q537.622 1461 540.098 1461 Q545.307 1461 548.316 1464.18 Q551.348 1467.32 551.348 1472.76 Q551.348 1478.09 548.2 1481.31 Q545.052 1484.52 539.821 1484.52 Q533.825 1484.52 530.654 1479.94 Q527.483 1475.33 527.483 1466.61 Q527.483 1458.41 531.372 1453.55 Q535.261 1448.67 541.811 1448.67 Q543.571 1448.67 545.353 1449.01 Q547.159 1449.36 549.103 1450.06 Z\" fill=\"#000000\" fill-rule=\"evenodd\" fill-opacity=\"1\" /><path clip-path=\"url(#clip090)\" d=\"M 0 0 M961.891 1452.37 Q958.28 1452.37 956.451 1455.94 Q954.646 1459.48 954.646 1466.61 Q954.646 1473.71 956.451 1477.28 Q958.28 1480.82 961.891 1480.82 Q965.525 1480.82 967.331 1477.28 Q969.16 1473.71 969.16 1466.61 Q969.16 1459.48 967.331 1455.94 Q965.525 1452.37 961.891 1452.37 M961.891 1448.67 Q967.701 1448.67 970.757 1453.27 Q973.835 1457.86 973.835 1466.61 Q973.835 1475.33 970.757 1479.94 Q967.701 1484.52 961.891 1484.52 Q956.081 1484.52 953.002 1479.94 Q949.947 1475.33 949.947 1466.61 Q949.947 1457.86 953.002 1453.27 Q956.081 1448.67 961.891 1448.67 Z\" fill=\"#000000\" fill-rule=\"evenodd\" fill-opacity=\"1\" /><path clip-path=\"url(#clip090)\" d=\"M 0 0 M978.905 1477.97 L983.789 1477.97 L983.789 1483.85 L978.905 1483.85 L978.905 1477.97 Z\" fill=\"#000000\" fill-rule=\"evenodd\" fill-opacity=\"1\" /><path clip-path=\"url(#clip090)\" d=\"M 0 0 M998.858 1452.37 Q995.247 1452.37 993.419 1455.94 Q991.613 1459.48 991.613 1466.61 Q991.613 1473.71 993.419 1477.28 Q995.247 1480.82 998.858 1480.82 Q1002.49 1480.82 1004.3 1477.28 Q1006.13 1473.71 1006.13 1466.61 Q1006.13 1459.48 1004.3 1455.94 Q1002.49 1452.37 998.858 1452.37 M998.858 1448.67 Q1004.67 1448.67 1007.72 1453.27 Q1010.8 1457.86 1010.8 1466.61 Q1010.8 1475.33 1007.72 1479.94 Q1004.67 1484.52 998.858 1484.52 Q993.048 1484.52 989.97 1479.94 Q986.914 1475.33 986.914 1466.61 Q986.914 1457.86 989.97 1453.27 Q993.048 1448.67 998.858 1448.67 Z\" fill=\"#000000\" fill-rule=\"evenodd\" fill-opacity=\"1\" /><path clip-path=\"url(#clip090)\" d=\"M 0 0 M1025.87 1452.37 Q1022.26 1452.37 1020.43 1455.94 Q1018.63 1459.48 1018.63 1466.61 Q1018.63 1473.71 1020.43 1477.28 Q1022.26 1480.82 1025.87 1480.82 Q1029.51 1480.82 1031.31 1477.28 Q1033.14 1473.71 1033.14 1466.61 Q1033.14 1459.48 1031.31 1455.94 Q1029.51 1452.37 1025.87 1452.37 M1025.87 1448.67 Q1031.68 1448.67 1034.74 1453.27 Q1037.82 1457.86 1037.82 1466.61 Q1037.82 1475.33 1034.74 1479.94 Q1031.68 1484.52 1025.87 1484.52 Q1020.06 1484.52 1016.98 1479.94 Q1013.93 1475.33 1013.93 1466.61 Q1013.93 1457.86 1016.98 1453.27 Q1020.06 1448.67 1025.87 1448.67 Z\" fill=\"#000000\" fill-rule=\"evenodd\" fill-opacity=\"1\" /><path clip-path=\"url(#clip090)\" d=\"M 0 0 M1052.89 1467.44 Q1049.55 1467.44 1047.63 1469.22 Q1045.73 1471 1045.73 1474.13 Q1045.73 1477.25 1047.63 1479.04 Q1049.55 1480.82 1052.89 1480.82 Q1056.22 1480.82 1058.14 1479.04 Q1060.06 1477.23 1060.06 1474.13 Q1060.06 1471 1058.14 1469.22 Q1056.24 1467.44 1052.89 1467.44 M1048.21 1465.45 Q1045.2 1464.71 1043.51 1462.65 Q1041.84 1460.59 1041.84 1457.63 Q1041.84 1453.48 1044.78 1451.07 Q1047.75 1448.67 1052.89 1448.67 Q1058.05 1448.67 1060.99 1451.07 Q1063.93 1453.48 1063.93 1457.63 Q1063.93 1460.59 1062.24 1462.65 Q1060.57 1464.71 1057.59 1465.45 Q1060.96 1466.24 1062.84 1468.53 Q1064.74 1470.82 1064.74 1474.13 Q1064.74 1479.15 1061.66 1481.84 Q1058.6 1484.52 1052.89 1484.52 Q1047.17 1484.52 1044.09 1481.84 Q1041.03 1479.15 1041.03 1474.13 Q1041.03 1470.82 1042.93 1468.53 Q1044.83 1466.24 1048.21 1465.45 M1046.5 1458.06 Q1046.5 1460.75 1048.16 1462.25 Q1049.85 1463.76 1052.89 1463.76 Q1055.9 1463.76 1057.59 1462.25 Q1059.3 1460.75 1059.3 1458.06 Q1059.3 1455.38 1057.59 1453.88 Q1055.9 1452.37 1052.89 1452.37 Q1049.85 1452.37 1048.16 1453.88 Q1046.5 1455.38 1046.5 1458.06 Z\" fill=\"#000000\" fill-rule=\"evenodd\" fill-opacity=\"1\" /><path clip-path=\"url(#clip090)\" d=\"M 0 0 M1475.97 1452.37 Q1472.36 1452.37 1470.54 1455.94 Q1468.73 1459.48 1468.73 1466.61 Q1468.73 1473.71 1470.54 1477.28 Q1472.36 1480.82 1475.97 1480.82 Q1479.61 1480.82 1481.41 1477.28 Q1483.24 1473.71 1483.24 1466.61 Q1483.24 1459.48 1481.41 1455.94 Q1479.61 1452.37 1475.97 1452.37 M1475.97 1448.67 Q1481.79 1448.67 1484.84 1453.27 Q1487.92 1457.86 1487.92 1466.61 Q1487.92 1475.33 1484.84 1479.94 Q1481.79 1484.52 1475.97 1484.52 Q1470.16 1484.52 1467.09 1479.94 Q1464.03 1475.33 1464.03 1466.61 Q1464.03 1457.86 1467.09 1453.27 Q1470.16 1448.67 1475.97 1448.67 Z\" fill=\"#000000\" fill-rule=\"evenodd\" fill-opacity=\"1\" /><path clip-path=\"url(#clip090)\" d=\"M 0 0 M1492.99 1477.97 L1497.87 1477.97 L1497.87 1483.85 L1492.99 1483.85 L1492.99 1477.97 Z\" fill=\"#000000\" fill-rule=\"evenodd\" fill-opacity=\"1\" /><path clip-path=\"url(#clip090)\" d=\"M 0 0 M1512.94 1452.37 Q1509.33 1452.37 1507.5 1455.94 Q1505.7 1459.48 1505.7 1466.61 Q1505.7 1473.71 1507.5 1477.28 Q1509.33 1480.82 1512.94 1480.82 Q1516.58 1480.82 1518.38 1477.28 Q1520.21 1473.71 1520.21 1466.61 Q1520.21 1459.48 1518.38 1455.94 Q1516.58 1452.37 1512.94 1452.37 M1512.94 1448.67 Q1518.75 1448.67 1521.81 1453.27 Q1524.89 1457.86 1524.89 1466.61 Q1524.89 1475.33 1521.81 1479.94 Q1518.75 1484.52 1512.94 1484.52 Q1507.13 1484.52 1504.05 1479.94 Q1501 1475.33 1501 1466.61 Q1501 1457.86 1504.05 1453.27 Q1507.13 1448.67 1512.94 1448.67 Z\" fill=\"#000000\" fill-rule=\"evenodd\" fill-opacity=\"1\" /><path clip-path=\"url(#clip090)\" d=\"M 0 0 M1530.77 1479.92 L1538.41 1479.92 L1538.41 1453.55 L1530.09 1455.22 L1530.09 1450.96 L1538.36 1449.29 L1543.03 1449.29 L1543.03 1479.92 L1550.67 1479.92 L1550.67 1483.85 L1530.77 1483.85 L1530.77 1479.92 Z\" fill=\"#000000\" fill-rule=\"evenodd\" fill-opacity=\"1\" /><path clip-path=\"url(#clip090)\" d=\"M 0 0 M1565.74 1452.37 Q1562.13 1452.37 1560.3 1455.94 Q1558.5 1459.48 1558.5 1466.61 Q1558.5 1473.71 1560.3 1477.28 Q1562.13 1480.82 1565.74 1480.82 Q1569.38 1480.82 1571.18 1477.28 Q1573.01 1473.71 1573.01 1466.61 Q1573.01 1459.48 1571.18 1455.94 Q1569.38 1452.37 1565.74 1452.37 M1565.74 1448.67 Q1571.55 1448.67 1574.61 1453.27 Q1577.69 1457.86 1577.69 1466.61 Q1577.69 1475.33 1574.61 1479.94 Q1571.55 1484.52 1565.74 1484.52 Q1559.93 1484.52 1556.85 1479.94 Q1553.8 1475.33 1553.8 1466.61 Q1553.8 1457.86 1556.85 1453.27 Q1559.93 1448.67 1565.74 1448.67 Z\" fill=\"#000000\" fill-rule=\"evenodd\" fill-opacity=\"1\" /><path clip-path=\"url(#clip090)\" d=\"M 0 0 M1990.29 1452.37 Q1986.68 1452.37 1984.85 1455.94 Q1983.04 1459.48 1983.04 1466.61 Q1983.04 1473.71 1984.85 1477.28 Q1986.68 1480.82 1990.29 1480.82 Q1993.92 1480.82 1995.73 1477.28 Q1997.56 1473.71 1997.56 1466.61 Q1997.56 1459.48 1995.73 1455.94 Q1993.92 1452.37 1990.29 1452.37 M1990.29 1448.67 Q1996.1 1448.67 1999.16 1453.27 Q2002.23 1457.86 2002.23 1466.61 Q2002.23 1475.33 1999.16 1479.94 Q1996.1 1484.52 1990.29 1484.52 Q1984.48 1484.52 1981.4 1479.94 Q1978.35 1475.33 1978.35 1466.61 Q1978.35 1457.86 1981.4 1453.27 Q1984.48 1448.67 1990.29 1448.67 Z\" fill=\"#000000\" fill-rule=\"evenodd\" fill-opacity=\"1\" /><path clip-path=\"url(#clip090)\" d=\"M 0 0 M2007.3 1477.97 L2012.19 1477.97 L2012.19 1483.85 L2007.3 1483.85 L2007.3 1477.97 Z\" fill=\"#000000\" fill-rule=\"evenodd\" fill-opacity=\"1\" /><path clip-path=\"url(#clip090)\" d=\"M 0 0 M2027.26 1452.37 Q2023.65 1452.37 2021.82 1455.94 Q2020.01 1459.48 2020.01 1466.61 Q2020.01 1473.71 2021.82 1477.28 Q2023.65 1480.82 2027.26 1480.82 Q2030.89 1480.82 2032.7 1477.28 Q2034.53 1473.71 2034.53 1466.61 Q2034.53 1459.48 2032.7 1455.94 Q2030.89 1452.37 2027.26 1452.37 M2027.26 1448.67 Q2033.07 1448.67 2036.12 1453.27 Q2039.2 1457.86 2039.2 1466.61 Q2039.2 1475.33 2036.12 1479.94 Q2033.07 1484.52 2027.26 1484.52 Q2021.45 1484.52 2018.37 1479.94 Q2015.31 1475.33 2015.31 1466.61 Q2015.31 1457.86 2018.37 1453.27 Q2021.45 1448.67 2027.26 1448.67 Z\" fill=\"#000000\" fill-rule=\"evenodd\" fill-opacity=\"1\" /><path clip-path=\"url(#clip090)\" d=\"M 0 0 M2045.08 1479.92 L2052.72 1479.92 L2052.72 1453.55 L2044.41 1455.22 L2044.41 1450.96 L2052.67 1449.29 L2057.35 1449.29 L2057.35 1479.92 L2064.99 1479.92 L2064.99 1483.85 L2045.08 1483.85 L2045.08 1479.92 Z\" fill=\"#000000\" fill-rule=\"evenodd\" fill-opacity=\"1\" /><path clip-path=\"url(#clip090)\" d=\"M 0 0 M2074.09 1479.92 L2090.41 1479.92 L2090.41 1483.85 L2068.46 1483.85 L2068.46 1479.92 Q2071.12 1477.16 2075.71 1472.53 Q2080.31 1467.88 2081.49 1466.54 Q2083.74 1464.01 2084.62 1462.28 Q2085.52 1460.52 2085.52 1458.83 Q2085.52 1456.07 2083.58 1454.34 Q2081.66 1452.6 2078.55 1452.6 Q2076.35 1452.6 2073.9 1453.37 Q2071.47 1454.13 2068.69 1455.68 L2068.69 1450.96 Q2071.52 1449.82 2073.97 1449.25 Q2076.42 1448.67 2078.46 1448.67 Q2083.83 1448.67 2087.03 1451.35 Q2090.22 1454.04 2090.22 1458.53 Q2090.22 1460.66 2089.41 1462.58 Q2088.62 1464.48 2086.52 1467.07 Q2085.94 1467.74 2082.84 1470.96 Q2079.73 1474.15 2074.09 1479.92 Z\" fill=\"#000000\" fill-rule=\"evenodd\" fill-opacity=\"1\" /><path clip-path=\"url(#clip090)\" d=\"M 0 0 M1248.3 1537.87 Q1247.31 1537.3 1246.13 1537.04 Q1244.99 1536.76 1243.59 1536.76 Q1238.62 1536.76 1235.95 1540 Q1233.31 1543.22 1233.31 1549.27 L1233.31 1568.04 L1227.42 1568.04 L1227.42 1532.4 L1233.31 1532.4 L1233.31 1537.93 Q1235.15 1534.69 1238.11 1533.13 Q1241.07 1531.54 1245.31 1531.54 Q1245.91 1531.54 1246.64 1531.63 Q1247.37 1531.7 1248.27 1531.85 L1248.3 1537.87 Z\" fill=\"#000000\" fill-rule=\"evenodd\" fill-opacity=\"1\" /><path clip-path=\"url(#clip090)\" d=\"M 0 0 M1247.31 1547.58 L1264.47 1547.58 L1264.47 1552.8 L1247.31 1552.8 L1247.31 1547.58 Z\" fill=\"#000000\" fill-rule=\"evenodd\" fill-opacity=\"1\" /><path clip-path=\"url(#clip090)\" d=\"M 0 0 M1296.42 1526.76 Q1293.18 1524.53 1285.57 1524.53 Q1277.52 1524.53 1277.52 1528.26 Q1277.52 1531.19 1285.92 1532.71 Q1292.54 1533.89 1296.26 1537.46 Q1300.78 1541.75 1300.78 1550.57 Q1300.78 1559 1296.42 1563.97 Q1292.06 1568.97 1284.42 1568.97 Q1276.82 1568.97 1272.42 1563.97 Q1268.06 1559 1268.06 1550.25 Q1268.06 1543.76 1272.42 1538.51 Q1274.11 1536.47 1276.5 1535.32 Q1271.53 1532.81 1271.53 1528.32 Q1271.53 1519.66 1285.57 1519.66 Q1292.6 1519.66 1296.42 1521.89 L1296.42 1526.76 M1280.89 1536.92 Q1278.73 1537.84 1276.98 1540.16 Q1274.24 1543.76 1274.24 1550.25 Q1274.24 1556.71 1276.94 1560.34 Q1279.68 1564 1284.42 1564 Q1289.1 1564 1291.84 1560.31 Q1294.58 1556.62 1294.58 1550.57 Q1294.58 1544.24 1291.68 1541.18 Q1288.59 1537.9 1284.58 1537.55 Q1282.55 1537.36 1280.89 1536.92 Z\" fill=\"#000000\" fill-rule=\"evenodd\" fill-opacity=\"1\" /><polyline clip-path=\"url(#clip092)\" style=\"stroke:#000000; stroke-width:2; stroke-opacity:0.1; fill:none\" points=\"\n",
       "  175.445,1383.87 2352.76,1383.87 \n",
       "  \"/>\n",
       "<polyline clip-path=\"url(#clip092)\" style=\"stroke:#000000; stroke-width:2; stroke-opacity:0.1; fill:none\" points=\"\n",
       "  175.445,971.657 2352.76,971.657 \n",
       "  \"/>\n",
       "<polyline clip-path=\"url(#clip092)\" style=\"stroke:#000000; stroke-width:2; stroke-opacity:0.1; fill:none\" points=\"\n",
       "  175.445,559.448 2352.76,559.448 \n",
       "  \"/>\n",
       "<polyline clip-path=\"url(#clip092)\" style=\"stroke:#000000; stroke-width:2; stroke-opacity:0.1; fill:none\" points=\"\n",
       "  175.445,147.24 2352.76,147.24 \n",
       "  \"/>\n",
       "<polyline clip-path=\"url(#clip090)\" style=\"stroke:#000000; stroke-width:4; stroke-opacity:1; fill:none\" points=\"\n",
       "  175.445,1423.18 175.445,47.2441 \n",
       "  \"/>\n",
       "<polyline clip-path=\"url(#clip090)\" style=\"stroke:#000000; stroke-width:4; stroke-opacity:1; fill:none\" points=\"\n",
       "  175.445,1383.87 201.573,1383.87 \n",
       "  \"/>\n",
       "<polyline clip-path=\"url(#clip090)\" style=\"stroke:#000000; stroke-width:4; stroke-opacity:1; fill:none\" points=\"\n",
       "  175.445,971.657 201.573,971.657 \n",
       "  \"/>\n",
       "<polyline clip-path=\"url(#clip090)\" style=\"stroke:#000000; stroke-width:4; stroke-opacity:1; fill:none\" points=\"\n",
       "  175.445,559.448 201.573,559.448 \n",
       "  \"/>\n",
       "<polyline clip-path=\"url(#clip090)\" style=\"stroke:#000000; stroke-width:4; stroke-opacity:1; fill:none\" points=\"\n",
       "  175.445,147.24 201.573,147.24 \n",
       "  \"/>\n",
       "<path clip-path=\"url(#clip090)\" d=\"M 0 0 M119.538 1397.21 L127.177 1397.21 L127.177 1370.84 L118.867 1372.51 L118.867 1368.25 L127.13 1366.59 L131.806 1366.59 L131.806 1397.21 L139.445 1397.21 L139.445 1401.15 L119.538 1401.15 L119.538 1397.21 Z\" fill=\"#000000\" fill-rule=\"evenodd\" fill-opacity=\"1\" /><path clip-path=\"url(#clip090)\" d=\"M 0 0 M123.126 985.002 L139.445 985.002 L139.445 988.937 L117.501 988.937 L117.501 985.002 Q120.163 982.247 124.746 977.617 Q129.353 972.965 130.533 971.622 Q132.779 969.099 133.658 967.363 Q134.561 965.603 134.561 963.914 Q134.561 961.159 132.617 959.423 Q130.695 957.687 127.593 957.687 Q125.394 957.687 122.941 958.451 Q120.51 959.215 117.732 960.766 L117.732 956.043 Q120.556 954.909 123.01 954.33 Q125.464 953.752 127.501 953.752 Q132.871 953.752 136.066 956.437 Q139.26 959.122 139.26 963.613 Q139.26 965.742 138.45 967.664 Q137.663 969.562 135.556 972.154 Q134.978 972.826 131.876 976.043 Q128.774 979.238 123.126 985.002 Z\" fill=\"#000000\" fill-rule=\"evenodd\" fill-opacity=\"1\" /><path clip-path=\"url(#clip090)\" d=\"M 0 0 M132.316 558.094 Q135.672 558.812 137.547 561.08 Q139.445 563.349 139.445 566.682 Q139.445 571.798 135.927 574.599 Q132.408 577.399 125.927 577.399 Q123.751 577.399 121.436 576.96 Q119.144 576.543 116.691 575.686 L116.691 571.173 Q118.635 572.307 120.95 572.886 Q123.265 573.464 125.788 573.464 Q130.186 573.464 132.478 571.728 Q134.792 569.992 134.792 566.682 Q134.792 563.626 132.64 561.913 Q130.51 560.177 126.691 560.177 L122.663 560.177 L122.663 556.335 L126.876 556.335 Q130.325 556.335 132.154 554.969 Q133.982 553.58 133.982 550.988 Q133.982 548.326 132.084 546.914 Q130.209 545.478 126.691 545.478 Q124.769 545.478 122.57 545.895 Q120.371 546.312 117.732 547.191 L117.732 543.025 Q120.394 542.284 122.709 541.914 Q125.047 541.543 127.107 541.543 Q132.431 541.543 135.533 543.974 Q138.635 546.381 138.635 550.501 Q138.635 553.372 136.992 555.363 Q135.348 557.33 132.316 558.094 Z\" fill=\"#000000\" fill-rule=\"evenodd\" fill-opacity=\"1\" /><path clip-path=\"url(#clip090)\" d=\"M 0 0 M129.862 134.034 L118.056 152.483 L129.862 152.483 L129.862 134.034 M128.635 129.96 L134.515 129.96 L134.515 152.483 L139.445 152.483 L139.445 156.372 L134.515 156.372 L134.515 164.52 L129.862 164.52 L129.862 156.372 L114.26 156.372 L114.26 151.858 L128.635 129.96 Z\" fill=\"#000000\" fill-rule=\"evenodd\" fill-opacity=\"1\" /><path clip-path=\"url(#clip090)\" d=\"M 0 0 M29.7248 798.041 L35.1993 798.041 Q33.8307 800.524 33.1623 803.039 Q32.4621 805.521 32.4621 808.067 Q32.4621 813.765 36.0905 816.916 Q39.6872 820.067 46.212 820.067 Q52.7369 820.067 56.3653 816.916 Q59.9619 813.765 59.9619 808.067 Q59.9619 805.521 59.2935 803.039 Q58.5933 800.524 57.2247 798.041 L62.6355 798.041 Q63.7814 800.492 64.3543 803.134 Q64.9272 805.744 64.9272 808.704 Q64.9272 816.757 59.8664 821.499 Q54.8057 826.242 46.212 826.242 Q37.491 826.242 32.4939 821.467 Q27.4968 816.661 27.4968 808.322 Q27.4968 805.617 28.0697 803.039 Q28.6108 800.46 29.7248 798.041 Z\" fill=\"#000000\" fill-rule=\"evenodd\" fill-opacity=\"1\" /><path clip-path=\"url(#clip090)\" d=\"M 0 0 M46.0847 775.698 Q46.0847 782.796 47.7079 785.533 Q49.3312 788.27 53.2461 788.27 Q56.3653 788.27 58.2114 786.233 Q60.0256 784.164 60.0256 780.631 Q60.0256 775.762 56.5881 772.833 Q53.1188 769.873 47.3897 769.873 L46.0847 769.873 L46.0847 775.698 M43.6657 764.017 L64.0042 764.017 L64.0042 769.873 L58.5933 769.873 Q61.8398 771.878 63.3994 774.87 Q64.9272 777.862 64.9272 782.191 Q64.9272 787.665 61.8716 790.912 Q58.7843 794.127 53.6281 794.127 Q47.6125 794.127 44.5569 790.116 Q41.5014 786.074 41.5014 778.085 L41.5014 769.873 L40.9285 769.873 Q36.8862 769.873 34.6901 772.547 Q32.4621 775.189 32.4621 779.995 Q32.4621 783.05 33.1941 785.947 Q33.9262 788.843 35.3903 791.517 L29.9795 791.517 Q28.7381 788.302 28.1334 785.278 Q27.4968 782.255 27.4968 779.39 Q27.4968 771.656 31.5072 767.836 Q35.5176 764.017 43.6657 764.017 Z\" fill=\"#000000\" fill-rule=\"evenodd\" fill-opacity=\"1\" /><path clip-path=\"url(#clip090)\" d=\"M 0 0 M58.657 752.208 L77.5631 752.208 L77.5631 758.097 L28.3562 758.097 L28.3562 752.208 L33.7671 752.208 Q30.5842 750.362 29.0564 747.561 Q27.4968 744.729 27.4968 740.814 Q27.4968 734.321 32.6531 730.279 Q37.8093 726.204 46.212 726.204 Q54.6147 726.204 59.771 730.279 Q64.9272 734.321 64.9272 740.814 Q64.9272 744.729 63.3994 747.561 Q61.8398 750.362 58.657 752.208 M46.212 732.284 Q39.7508 732.284 36.0905 734.957 Q32.3984 737.599 32.3984 742.246 Q32.3984 746.893 36.0905 749.567 Q39.7508 752.208 46.212 752.208 Q52.6732 752.208 56.3653 749.567 Q60.0256 746.893 60.0256 742.246 Q60.0256 737.599 56.3653 734.957 Q52.6732 732.284 46.212 732.284 Z\" fill=\"#000000\" fill-rule=\"evenodd\" fill-opacity=\"1\" /><path clip-path=\"url(#clip090)\" d=\"M 0 0 M28.3562 720.062 L28.3562 714.205 L64.0042 714.205 L64.0042 720.062 L28.3562 720.062 M14.479 720.062 L14.479 714.205 L21.895 714.205 L21.895 720.062 L14.479 720.062 Z\" fill=\"#000000\" fill-rule=\"evenodd\" fill-opacity=\"1\" /><path clip-path=\"url(#clip090)\" d=\"M 0 0 M18.2347 702.269 L28.3562 702.269 L28.3562 690.206 L32.9077 690.206 L32.9077 702.269 L52.2594 702.269 Q56.6199 702.269 57.8613 701.092 Q59.1026 699.882 59.1026 696.222 L59.1026 690.206 L64.0042 690.206 L64.0042 696.222 Q64.0042 703.001 61.4897 705.58 Q58.9434 708.158 52.2594 708.158 L32.9077 708.158 L32.9077 712.455 L28.3562 712.455 L28.3562 708.158 L18.2347 708.158 L18.2347 702.269 Z\" fill=\"#000000\" fill-rule=\"evenodd\" fill-opacity=\"1\" /><path clip-path=\"url(#clip090)\" d=\"M 0 0 M46.0847 667.863 Q46.0847 674.961 47.7079 677.698 Q49.3312 680.435 53.2461 680.435 Q56.3653 680.435 58.2114 678.398 Q60.0256 676.329 60.0256 672.796 Q60.0256 667.926 56.5881 664.998 Q53.1188 662.038 47.3897 662.038 L46.0847 662.038 L46.0847 667.863 M43.6657 656.182 L64.0042 656.182 L64.0042 662.038 L58.5933 662.038 Q61.8398 664.043 63.3994 667.035 Q64.9272 670.027 64.9272 674.356 Q64.9272 679.83 61.8716 683.077 Q58.7843 686.292 53.6281 686.292 Q47.6125 686.292 44.5569 682.281 Q41.5014 678.239 41.5014 670.25 L41.5014 662.038 L40.9285 662.038 Q36.8862 662.038 34.6901 664.712 Q32.4621 667.354 32.4621 672.16 Q32.4621 675.215 33.1941 678.112 Q33.9262 681.008 35.3903 683.682 L29.9795 683.682 Q28.7381 680.467 28.1334 677.443 Q27.4968 674.419 27.4968 671.555 Q27.4968 663.821 31.5072 660.001 Q35.5176 656.182 43.6657 656.182 Z\" fill=\"#000000\" fill-rule=\"evenodd\" fill-opacity=\"1\" /><path clip-path=\"url(#clip090)\" d=\"M 0 0 M14.479 650.039 L14.479 644.182 L64.0042 644.182 L64.0042 650.039 L14.479 650.039 Z\" fill=\"#000000\" fill-rule=\"evenodd\" fill-opacity=\"1\" /><polyline clip-path=\"url(#clip092)\" style=\"stroke:#009af9; stroke-width:4; stroke-opacity:1; fill:none\" points=\"\n",
       "  237.067,1384.24 750.584,1227.07 1264.1,998.343 1777.62,644.572 2291.13,86.1857 \n",
       "  \"/>\n",
       "<polyline clip-path=\"url(#clip092)\" style=\"stroke:#e26f46; stroke-width:4; stroke-opacity:1; fill:none\" points=\"\n",
       "  237.067,284.642 750.584,379.107 1264.1,462.458 1777.62,536.548 2291.13,602.839 \n",
       "  \"/>\n",
       "<path clip-path=\"url(#clip090)\" d=\"\n",
       "M1719.65 274.549 L2280.18 274.549 L2280.18 93.1086 L1719.65 93.1086  Z\n",
       "  \" fill=\"#ffffff\" fill-rule=\"evenodd\" fill-opacity=\"1\"/>\n",
       "<polyline clip-path=\"url(#clip090)\" style=\"stroke:#000000; stroke-width:4; stroke-opacity:1; fill:none\" points=\"\n",
       "  1719.65,274.549 2280.18,274.549 2280.18,93.1086 1719.65,93.1086 1719.65,274.549 \n",
       "  \"/>\n",
       "<polyline clip-path=\"url(#clip090)\" style=\"stroke:#009af9; stroke-width:4; stroke-opacity:1; fill:none\" points=\"\n",
       "  1743.84,153.589 1888.99,153.589 \n",
       "  \"/>\n",
       "<path clip-path=\"url(#clip090)\" d=\"M 0 0 M1933.69 145.938 L1933.69 149.92 Q1931.89 148.924 1930.06 148.438 Q1928.25 147.929 1926.4 147.929 Q1922.26 147.929 1919.97 150.568 Q1917.68 153.184 1917.68 157.929 Q1917.68 162.674 1919.97 165.313 Q1922.26 167.929 1926.4 167.929 Q1928.25 167.929 1930.06 167.443 Q1931.89 166.933 1933.69 165.938 L1933.69 169.873 Q1931.91 170.707 1929.99 171.123 Q1928.09 171.54 1925.94 171.54 Q1920.08 171.54 1916.63 167.859 Q1913.18 164.179 1913.18 157.929 Q1913.18 151.586 1916.66 147.952 Q1920.15 144.318 1926.22 144.318 Q1928.18 144.318 1930.06 144.735 Q1931.93 145.128 1933.69 145.938 Z\" fill=\"#000000\" fill-rule=\"evenodd\" fill-opacity=\"1\" /><path clip-path=\"url(#clip090)\" d=\"M 0 0 M1949.94 157.836 Q1944.78 157.836 1942.79 159.017 Q1940.8 160.197 1940.8 163.045 Q1940.8 165.313 1942.28 166.656 Q1943.79 167.975 1946.36 167.975 Q1949.9 167.975 1952.03 165.475 Q1954.18 162.952 1954.18 158.785 L1954.18 157.836 L1949.94 157.836 M1958.44 156.077 L1958.44 170.869 L1954.18 170.869 L1954.18 166.933 Q1952.72 169.295 1950.55 170.429 Q1948.37 171.54 1945.22 171.54 Q1941.24 171.54 1938.88 169.318 Q1936.54 167.072 1936.54 163.322 Q1936.54 158.947 1939.46 156.725 Q1942.4 154.503 1948.21 154.503 L1954.18 154.503 L1954.18 154.086 Q1954.18 151.147 1952.24 149.549 Q1950.31 147.929 1946.82 147.929 Q1944.6 147.929 1942.49 148.461 Q1940.38 148.994 1938.44 150.059 L1938.44 146.123 Q1940.78 145.221 1942.98 144.781 Q1945.18 144.318 1947.26 144.318 Q1952.88 144.318 1955.66 147.234 Q1958.44 150.151 1958.44 156.077 Z\" fill=\"#000000\" fill-rule=\"evenodd\" fill-opacity=\"1\" /><path clip-path=\"url(#clip090)\" d=\"M 0 0 M1967.03 166.98 L1967.03 180.73 L1962.74 180.73 L1962.74 144.943 L1967.03 144.943 L1967.03 148.878 Q1968.37 146.563 1970.41 145.452 Q1972.47 144.318 1975.31 144.318 Q1980.04 144.318 1982.98 148.068 Q1985.94 151.818 1985.94 157.929 Q1985.94 164.04 1982.98 167.79 Q1980.04 171.54 1975.31 171.54 Q1972.47 171.54 1970.41 170.429 Q1968.37 169.295 1967.03 166.98 M1981.52 157.929 Q1981.52 153.23 1979.57 150.568 Q1977.65 147.883 1974.27 147.883 Q1970.89 147.883 1968.95 150.568 Q1967.03 153.23 1967.03 157.929 Q1967.03 162.628 1968.95 165.313 Q1970.89 167.975 1974.27 167.975 Q1977.65 167.975 1979.57 165.313 Q1981.52 162.628 1981.52 157.929 Z\" fill=\"#000000\" fill-rule=\"evenodd\" fill-opacity=\"1\" /><path clip-path=\"url(#clip090)\" d=\"M 0 0 M1990.41 144.943 L1994.67 144.943 L1994.67 170.869 L1990.41 170.869 L1990.41 144.943 M1990.41 134.85 L1994.67 134.85 L1994.67 140.244 L1990.41 140.244 L1990.41 134.85 Z\" fill=\"#000000\" fill-rule=\"evenodd\" fill-opacity=\"1\" /><path clip-path=\"url(#clip090)\" d=\"M 0 0 M2003.35 137.582 L2003.35 144.943 L2012.12 144.943 L2012.12 148.253 L2003.35 148.253 L2003.35 162.327 Q2003.35 165.498 2004.2 166.401 Q2005.08 167.304 2007.74 167.304 L2012.12 167.304 L2012.12 170.869 L2007.74 170.869 Q2002.81 170.869 2000.94 169.04 Q1999.06 167.188 1999.06 162.327 L1999.06 148.253 L1995.94 148.253 L1995.94 144.943 L1999.06 144.943 L1999.06 137.582 L2003.35 137.582 Z\" fill=\"#000000\" fill-rule=\"evenodd\" fill-opacity=\"1\" /><path clip-path=\"url(#clip090)\" d=\"M 0 0 M2028.37 157.836 Q2023.21 157.836 2021.22 159.017 Q2019.23 160.197 2019.23 163.045 Q2019.23 165.313 2020.71 166.656 Q2022.21 167.975 2024.78 167.975 Q2028.32 167.975 2030.45 165.475 Q2032.61 162.952 2032.61 158.785 L2032.61 157.836 L2028.37 157.836 M2036.86 156.077 L2036.86 170.869 L2032.61 170.869 L2032.61 166.933 Q2031.15 169.295 2028.97 170.429 Q2026.8 171.54 2023.65 171.54 Q2019.67 171.54 2017.3 169.318 Q2014.97 167.072 2014.97 163.322 Q2014.97 158.947 2017.88 156.725 Q2020.82 154.503 2026.63 154.503 L2032.61 154.503 L2032.61 154.086 Q2032.61 151.147 2030.66 149.549 Q2028.74 147.929 2025.24 147.929 Q2023.02 147.929 2020.92 148.461 Q2018.81 148.994 2016.86 150.059 L2016.86 146.123 Q2019.2 145.221 2021.4 144.781 Q2023.6 144.318 2025.68 144.318 Q2031.31 144.318 2034.09 147.234 Q2036.86 150.151 2036.86 156.077 Z\" fill=\"#000000\" fill-rule=\"evenodd\" fill-opacity=\"1\" /><path clip-path=\"url(#clip090)\" d=\"M 0 0 M2041.33 134.85 L2045.59 134.85 L2045.59 170.869 L2041.33 170.869 L2041.33 134.85 Z\" fill=\"#000000\" fill-rule=\"evenodd\" fill-opacity=\"1\" /><path clip-path=\"url(#clip090)\" d=\"M 0 0 M2081.66 145.707 L2081.66 149.734 Q2079.85 148.809 2077.91 148.346 Q2075.96 147.883 2073.88 147.883 Q2070.71 147.883 2069.11 148.855 Q2067.54 149.827 2067.54 151.771 Q2067.54 153.253 2068.67 154.109 Q2069.8 154.943 2073.23 155.707 L2074.69 156.031 Q2079.23 157.003 2081.12 158.785 Q2083.04 160.545 2083.04 163.716 Q2083.04 167.327 2080.17 169.433 Q2077.33 171.54 2072.33 171.54 Q2070.24 171.54 2067.98 171.123 Q2065.73 170.73 2063.23 169.92 L2063.23 165.521 Q2065.59 166.748 2067.88 167.373 Q2070.17 167.975 2072.42 167.975 Q2075.43 167.975 2077.05 166.957 Q2078.67 165.915 2078.67 164.04 Q2078.67 162.304 2077.49 161.378 Q2076.33 160.452 2072.37 159.596 L2070.89 159.248 Q2066.93 158.415 2065.17 156.702 Q2063.42 154.966 2063.42 151.957 Q2063.42 148.299 2066.01 146.309 Q2068.6 144.318 2073.37 144.318 Q2075.73 144.318 2077.81 144.665 Q2079.9 145.012 2081.66 145.707 Z\" fill=\"#000000\" fill-rule=\"evenodd\" fill-opacity=\"1\" /><path clip-path=\"url(#clip090)\" d=\"M 0 0 M2087.07 160.637 L2087.07 144.943 L2091.33 144.943 L2091.33 160.475 Q2091.33 164.156 2092.77 166.008 Q2094.2 167.836 2097.07 167.836 Q2100.52 167.836 2102.51 165.637 Q2104.53 163.438 2104.53 159.642 L2104.53 144.943 L2108.79 144.943 L2108.79 170.869 L2104.53 170.869 L2104.53 166.887 Q2102.98 169.248 2100.92 170.406 Q2098.88 171.54 2096.17 171.54 Q2091.7 171.54 2089.39 168.762 Q2087.07 165.984 2087.07 160.637 M2097.79 144.318 L2097.79 144.318 Z\" fill=\"#000000\" fill-rule=\"evenodd\" fill-opacity=\"1\" /><path clip-path=\"url(#clip090)\" d=\"M 0 0 M2117.37 166.98 L2117.37 180.73 L2113.09 180.73 L2113.09 144.943 L2117.37 144.943 L2117.37 148.878 Q2118.72 146.563 2120.75 145.452 Q2122.81 144.318 2125.66 144.318 Q2130.38 144.318 2133.32 148.068 Q2136.29 151.818 2136.29 157.929 Q2136.29 164.04 2133.32 167.79 Q2130.38 171.54 2125.66 171.54 Q2122.81 171.54 2120.75 170.429 Q2118.72 169.295 2117.37 166.98 M2131.86 157.929 Q2131.86 153.23 2129.92 150.568 Q2128 147.883 2124.62 147.883 Q2121.24 147.883 2119.29 150.568 Q2117.37 153.23 2117.37 157.929 Q2117.37 162.628 2119.29 165.313 Q2121.24 167.975 2124.62 167.975 Q2128 167.975 2129.92 165.313 Q2131.86 162.628 2131.86 157.929 Z\" fill=\"#000000\" fill-rule=\"evenodd\" fill-opacity=\"1\" /><path clip-path=\"url(#clip090)\" d=\"M 0 0 M2144.87 166.98 L2144.87 180.73 L2140.59 180.73 L2140.59 144.943 L2144.87 144.943 L2144.87 148.878 Q2146.22 146.563 2148.25 145.452 Q2150.31 144.318 2153.16 144.318 Q2157.88 144.318 2160.82 148.068 Q2163.79 151.818 2163.79 157.929 Q2163.79 164.04 2160.82 167.79 Q2157.88 171.54 2153.16 171.54 Q2150.31 171.54 2148.25 170.429 Q2146.22 169.295 2144.87 166.98 M2159.36 157.929 Q2159.36 153.23 2157.42 150.568 Q2155.5 147.883 2152.12 147.883 Q2148.74 147.883 2146.79 150.568 Q2144.87 153.23 2144.87 157.929 Q2144.87 162.628 2146.79 165.313 Q2148.74 167.975 2152.12 167.975 Q2155.5 167.975 2157.42 165.313 Q2159.36 162.628 2159.36 157.929 Z\" fill=\"#000000\" fill-rule=\"evenodd\" fill-opacity=\"1\" /><path clip-path=\"url(#clip090)\" d=\"M 0 0 M2168.25 134.85 L2172.51 134.85 L2172.51 170.869 L2168.25 170.869 L2168.25 134.85 Z\" fill=\"#000000\" fill-rule=\"evenodd\" fill-opacity=\"1\" /><path clip-path=\"url(#clip090)\" d=\"M 0 0 M2187.77 173.276 Q2185.96 177.906 2184.25 179.318 Q2182.54 180.73 2179.66 180.73 L2176.26 180.73 L2176.26 177.165 L2178.76 177.165 Q2180.52 177.165 2181.49 176.332 Q2182.47 175.498 2183.65 172.396 L2184.41 170.452 L2173.92 144.943 L2178.44 144.943 L2186.54 165.221 L2194.64 144.943 L2199.16 144.943 L2187.77 173.276 Z\" fill=\"#000000\" fill-rule=\"evenodd\" fill-opacity=\"1\" /><polyline clip-path=\"url(#clip090)\" style=\"stroke:#e26f46; stroke-width:4; stroke-opacity:1; fill:none\" points=\"\n",
       "  1743.84,214.069 1888.99,214.069 \n",
       "  \"/>\n",
       "<path clip-path=\"url(#clip090)\" d=\"M 0 0 M1933.69 206.418 L1933.69 210.4 Q1931.89 209.404 1930.06 208.918 Q1928.25 208.409 1926.4 208.409 Q1922.26 208.409 1919.97 211.048 Q1917.68 213.664 1917.68 218.409 Q1917.68 223.154 1919.97 225.793 Q1922.26 228.409 1926.4 228.409 Q1928.25 228.409 1930.06 227.923 Q1931.89 227.413 1933.69 226.418 L1933.69 230.353 Q1931.91 231.187 1929.99 231.603 Q1928.09 232.02 1925.94 232.02 Q1920.08 232.02 1916.63 228.339 Q1913.18 224.659 1913.18 218.409 Q1913.18 212.066 1916.66 208.432 Q1920.15 204.798 1926.22 204.798 Q1928.18 204.798 1930.06 205.215 Q1931.93 205.608 1933.69 206.418 Z\" fill=\"#000000\" fill-rule=\"evenodd\" fill-opacity=\"1\" /><path clip-path=\"url(#clip090)\" d=\"M 0 0 M1949.94 218.316 Q1944.78 218.316 1942.79 219.497 Q1940.8 220.677 1940.8 223.525 Q1940.8 225.793 1942.28 227.136 Q1943.79 228.455 1946.36 228.455 Q1949.9 228.455 1952.03 225.955 Q1954.18 223.432 1954.18 219.265 L1954.18 218.316 L1949.94 218.316 M1958.44 216.557 L1958.44 231.349 L1954.18 231.349 L1954.18 227.413 Q1952.72 229.775 1950.55 230.909 Q1948.37 232.02 1945.22 232.02 Q1941.24 232.02 1938.88 229.798 Q1936.54 227.552 1936.54 223.802 Q1936.54 219.427 1939.46 217.205 Q1942.4 214.983 1948.21 214.983 L1954.18 214.983 L1954.18 214.566 Q1954.18 211.627 1952.24 210.029 Q1950.31 208.409 1946.82 208.409 Q1944.6 208.409 1942.49 208.941 Q1940.38 209.474 1938.44 210.539 L1938.44 206.603 Q1940.78 205.701 1942.98 205.261 Q1945.18 204.798 1947.26 204.798 Q1952.88 204.798 1955.66 207.714 Q1958.44 210.631 1958.44 216.557 Z\" fill=\"#000000\" fill-rule=\"evenodd\" fill-opacity=\"1\" /><path clip-path=\"url(#clip090)\" d=\"M 0 0 M1967.03 227.46 L1967.03 241.21 L1962.74 241.21 L1962.74 205.423 L1967.03 205.423 L1967.03 209.358 Q1968.37 207.043 1970.41 205.932 Q1972.47 204.798 1975.31 204.798 Q1980.04 204.798 1982.98 208.548 Q1985.94 212.298 1985.94 218.409 Q1985.94 224.52 1982.98 228.27 Q1980.04 232.02 1975.31 232.02 Q1972.47 232.02 1970.41 230.909 Q1968.37 229.775 1967.03 227.46 M1981.52 218.409 Q1981.52 213.71 1979.57 211.048 Q1977.65 208.363 1974.27 208.363 Q1970.89 208.363 1968.95 211.048 Q1967.03 213.71 1967.03 218.409 Q1967.03 223.108 1968.95 225.793 Q1970.89 228.455 1974.27 228.455 Q1977.65 228.455 1979.57 225.793 Q1981.52 223.108 1981.52 218.409 Z\" fill=\"#000000\" fill-rule=\"evenodd\" fill-opacity=\"1\" /><path clip-path=\"url(#clip090)\" d=\"M 0 0 M1990.41 205.423 L1994.67 205.423 L1994.67 231.349 L1990.41 231.349 L1990.41 205.423 M1990.41 195.33 L1994.67 195.33 L1994.67 200.724 L1990.41 200.724 L1990.41 195.33 Z\" fill=\"#000000\" fill-rule=\"evenodd\" fill-opacity=\"1\" /><path clip-path=\"url(#clip090)\" d=\"M 0 0 M2003.35 198.062 L2003.35 205.423 L2012.12 205.423 L2012.12 208.733 L2003.35 208.733 L2003.35 222.807 Q2003.35 225.978 2004.2 226.881 Q2005.08 227.784 2007.74 227.784 L2012.12 227.784 L2012.12 231.349 L2007.74 231.349 Q2002.81 231.349 2000.94 229.52 Q1999.06 227.668 1999.06 222.807 L1999.06 208.733 L1995.94 208.733 L1995.94 205.423 L1999.06 205.423 L1999.06 198.062 L2003.35 198.062 Z\" fill=\"#000000\" fill-rule=\"evenodd\" fill-opacity=\"1\" /><path clip-path=\"url(#clip090)\" d=\"M 0 0 M2028.37 218.316 Q2023.21 218.316 2021.22 219.497 Q2019.23 220.677 2019.23 223.525 Q2019.23 225.793 2020.71 227.136 Q2022.21 228.455 2024.78 228.455 Q2028.32 228.455 2030.45 225.955 Q2032.61 223.432 2032.61 219.265 L2032.61 218.316 L2028.37 218.316 M2036.86 216.557 L2036.86 231.349 L2032.61 231.349 L2032.61 227.413 Q2031.15 229.775 2028.97 230.909 Q2026.8 232.02 2023.65 232.02 Q2019.67 232.02 2017.3 229.798 Q2014.97 227.552 2014.97 223.802 Q2014.97 219.427 2017.88 217.205 Q2020.82 214.983 2026.63 214.983 L2032.61 214.983 L2032.61 214.566 Q2032.61 211.627 2030.66 210.029 Q2028.74 208.409 2025.24 208.409 Q2023.02 208.409 2020.92 208.941 Q2018.81 209.474 2016.86 210.539 L2016.86 206.603 Q2019.2 205.701 2021.4 205.261 Q2023.6 204.798 2025.68 204.798 Q2031.31 204.798 2034.09 207.714 Q2036.86 210.631 2036.86 216.557 Z\" fill=\"#000000\" fill-rule=\"evenodd\" fill-opacity=\"1\" /><path clip-path=\"url(#clip090)\" d=\"M 0 0 M2041.33 195.33 L2045.59 195.33 L2045.59 231.349 L2041.33 231.349 L2041.33 195.33 Z\" fill=\"#000000\" fill-rule=\"evenodd\" fill-opacity=\"1\" /><path clip-path=\"url(#clip090)\" d=\"M 0 0 M2082.19 209.358 L2082.19 195.33 L2086.45 195.33 L2086.45 231.349 L2082.19 231.349 L2082.19 227.46 Q2080.85 229.775 2078.79 230.909 Q2076.75 232.02 2073.88 232.02 Q2069.18 232.02 2066.22 228.27 Q2063.28 224.52 2063.28 218.409 Q2063.28 212.298 2066.22 208.548 Q2069.18 204.798 2073.88 204.798 Q2076.75 204.798 2078.79 205.932 Q2080.85 207.043 2082.19 209.358 M2067.67 218.409 Q2067.67 223.108 2069.6 225.793 Q2071.54 228.455 2074.92 228.455 Q2078.3 228.455 2080.24 225.793 Q2082.19 223.108 2082.19 218.409 Q2082.19 213.71 2080.24 211.048 Q2078.3 208.363 2074.92 208.363 Q2071.54 208.363 2069.6 211.048 Q2067.67 213.71 2067.67 218.409 Z\" fill=\"#000000\" fill-rule=\"evenodd\" fill-opacity=\"1\" /><path clip-path=\"url(#clip090)\" d=\"M 0 0 M2113.09 217.321 L2113.09 219.404 L2093.51 219.404 Q2093.79 223.802 2096.15 226.117 Q2098.53 228.409 2102.77 228.409 Q2105.22 228.409 2107.51 227.807 Q2109.83 227.205 2112.1 226.001 L2112.1 230.029 Q2109.8 231.001 2107.4 231.511 Q2104.99 232.02 2102.51 232.02 Q2096.31 232.02 2092.67 228.409 Q2089.06 224.798 2089.06 218.64 Q2089.06 212.275 2092.49 208.548 Q2095.94 204.798 2101.77 204.798 Q2107 204.798 2110.04 208.177 Q2113.09 211.534 2113.09 217.321 M2108.83 216.071 Q2108.79 212.576 2106.86 210.492 Q2104.97 208.409 2101.82 208.409 Q2098.25 208.409 2096.1 210.423 Q2093.97 212.437 2093.65 216.094 L2108.83 216.071 Z\" fill=\"#000000\" fill-rule=\"evenodd\" fill-opacity=\"1\" /><path clip-path=\"url(#clip090)\" d=\"M 0 0 M2137.74 210.4 Q2139.34 207.529 2141.56 206.164 Q2143.79 204.798 2146.79 204.798 Q2150.85 204.798 2153.04 207.645 Q2155.24 210.469 2155.24 215.701 L2155.24 231.349 L2150.96 231.349 L2150.96 215.839 Q2150.96 212.113 2149.64 210.307 Q2148.32 208.502 2145.61 208.502 Q2142.3 208.502 2140.38 210.701 Q2138.46 212.9 2138.46 216.696 L2138.46 231.349 L2134.18 231.349 L2134.18 215.839 Q2134.18 212.089 2132.86 210.307 Q2131.54 208.502 2128.79 208.502 Q2125.52 208.502 2123.6 210.724 Q2121.68 212.923 2121.68 216.696 L2121.68 231.349 L2117.4 231.349 L2117.4 205.423 L2121.68 205.423 L2121.68 209.451 Q2123.14 207.066 2125.17 205.932 Q2127.21 204.798 2130.01 204.798 Q2132.84 204.798 2134.8 206.233 Q2136.79 207.668 2137.74 210.4 Z\" fill=\"#000000\" fill-rule=\"evenodd\" fill-opacity=\"1\" /><path clip-path=\"url(#clip090)\" d=\"M 0 0 M2171.49 218.316 Q2166.33 218.316 2164.34 219.497 Q2162.35 220.677 2162.35 223.525 Q2162.35 225.793 2163.83 227.136 Q2165.34 228.455 2167.91 228.455 Q2171.45 228.455 2173.58 225.955 Q2175.73 223.432 2175.73 219.265 L2175.73 218.316 L2171.49 218.316 M2179.99 216.557 L2179.99 231.349 L2175.73 231.349 L2175.73 227.413 Q2174.27 229.775 2172.1 230.909 Q2169.92 232.02 2166.77 232.02 Q2162.79 232.02 2160.43 229.798 Q2158.09 227.552 2158.09 223.802 Q2158.09 219.427 2161.01 217.205 Q2163.95 214.983 2169.76 214.983 L2175.73 214.983 L2175.73 214.566 Q2175.73 211.627 2173.79 210.029 Q2171.86 208.409 2168.37 208.409 Q2166.15 208.409 2164.04 208.941 Q2161.93 209.474 2159.99 210.539 L2159.99 206.603 Q2162.33 205.701 2164.53 205.261 Q2166.73 204.798 2168.81 204.798 Q2174.43 204.798 2177.21 207.714 Q2179.99 210.631 2179.99 216.557 Z\" fill=\"#000000\" fill-rule=\"evenodd\" fill-opacity=\"1\" /><path clip-path=\"url(#clip090)\" d=\"M 0 0 M2206.01 215.701 L2206.01 231.349 L2201.75 231.349 L2201.75 215.839 Q2201.75 212.159 2200.31 210.33 Q2198.88 208.502 2196.01 208.502 Q2192.56 208.502 2190.57 210.701 Q2188.58 212.9 2188.58 216.696 L2188.58 231.349 L2184.29 231.349 L2184.29 205.423 L2188.58 205.423 L2188.58 209.451 Q2190.1 207.113 2192.16 205.955 Q2194.25 204.798 2196.96 204.798 Q2201.42 204.798 2203.72 207.576 Q2206.01 210.33 2206.01 215.701 Z\" fill=\"#000000\" fill-rule=\"evenodd\" fill-opacity=\"1\" /><path clip-path=\"url(#clip090)\" d=\"M 0 0 M2227.53 209.358 L2227.53 195.33 L2231.79 195.33 L2231.79 231.349 L2227.53 231.349 L2227.53 227.46 Q2226.19 229.775 2224.13 230.909 Q2222.1 232.02 2219.22 232.02 Q2214.53 232.02 2211.56 228.27 Q2208.62 224.52 2208.62 218.409 Q2208.62 212.298 2211.56 208.548 Q2214.53 204.798 2219.22 204.798 Q2222.1 204.798 2224.13 205.932 Q2226.19 207.043 2227.53 209.358 M2213.02 218.409 Q2213.02 223.108 2214.94 225.793 Q2216.89 228.455 2220.27 228.455 Q2223.65 228.455 2225.59 225.793 Q2227.53 223.108 2227.53 218.409 Q2227.53 213.71 2225.59 211.048 Q2223.65 208.363 2220.27 208.363 Q2216.89 208.363 2214.94 211.048 Q2213.02 213.71 2213.02 218.409 Z\" fill=\"#000000\" fill-rule=\"evenodd\" fill-opacity=\"1\" /></svg>\n"
      ]
     },
     "execution_count": 23,
     "metadata": {},
     "output_type": "execute_result"
    }
   ],
   "source": [
    "plot_market_clearing(hh)"
   ]
  },
  {
   "cell_type": "code",
   "execution_count": 25,
   "metadata": {},
   "outputs": [
    {
     "data": {
      "text/plain": [
       "market_clearing (generic function with 1 method)"
      ]
     },
     "execution_count": 25,
     "metadata": {},
     "output_type": "execute_result"
    }
   ],
   "source": [
    "function market_clearing(hh; r = 0.011, tol = 1e-5, maxiter = 20, bisection_param = 0.8)\n",
    "    @unpack alpha, deprec = hh\n",
    "    \n",
    "    for iter = 1:maxiter\n",
    "        print(\"r=$r: \")\n",
    "        Ksupply = ss(hh; r=r)\n",
    "    \n",
    "        Z = ((r + deprec)/alpha)^alpha\n",
    "        rsupply = Z*alpha*(1/Ksupply)^(1-alpha) - deprec\n",
    "        \n",
    "        if abs(r-rsupply) < tol\n",
    "            return (r+rsupply)/2\n",
    "        else r = (bisection_param)*r + (1-bisection_param)*rsupply\n",
    "        end\n",
    "    end\n",
    "    \n",
    "    error(\"no convergence: did not find market clearing real rate\")\n",
    "end"
   ]
  },
  {
   "cell_type": "code",
   "execution_count": 26,
   "metadata": {},
   "outputs": [
    {
     "name": "stdout",
     "output_type": "stream",
     "text": [
      "r=0.011: policy function iteration successful!\n",
      "distribution iteration successful!\n",
      "r=0.011598145476627797: policy function iteration successful!\n",
      "distribution iteration successful!\n",
      "r=0.011335559535202717: policy function iteration successful!\n",
      "distribution iteration successful!\n",
      "r=0.01144402913507371: policy function iteration successful!\n",
      "distribution iteration successful!\n",
      "r=0.011397948364895279: policy function iteration successful!\n",
      "distribution iteration successful!\n",
      "r=0.011417302326479993: policy function iteration successful!\n",
      "distribution iteration successful!\n",
      "r=0.011409133617604069: policy function iteration successful!\n",
      "distribution iteration successful!\n",
      "r=0.011412573925230521: policy function iteration successful!\n",
      "distribution iteration successful!\n"
     ]
    },
    {
     "data": {
      "text/plain": [
       "0.011408949490941189"
      ]
     },
     "execution_count": 26,
     "metadata": {},
     "output_type": "execute_result"
    }
   ],
   "source": [
    "market_clearing(hh)"
   ]
  }
 ],
 "metadata": {
  "kernelspec": {
   "display_name": "Julia 1.5.2",
   "language": "julia",
   "name": "julia-1.5"
  },
  "language_info": {
   "file_extension": ".jl",
   "mimetype": "application/julia",
   "name": "julia",
   "version": "1.5.2"
  }
 },
 "nbformat": 4,
 "nbformat_minor": 4
}
