{
 "cells": [
  {
   "cell_type": "code",
   "execution_count": 131,
   "metadata": {},
   "outputs": [
    {
     "data": {
      "text/plain": [
       "Discrete Markov Chain\n",
       "stochastic matrix of type Array{Float64,2}:\n",
       "[0.3 0.7; 0.2 0.8]"
      ]
     },
     "execution_count": 131,
     "metadata": {},
     "output_type": "execute_result"
    }
   ],
   "source": [
    "using QuantEcon\n",
    "P = [0.3 0.7; 0.2 0.8]\n",
    "mc = MarkovChain(P, [1;2])\n"
   ]
  },
  {
   "cell_type": "code",
   "execution_count": 151,
   "metadata": {},
   "outputs": [
    {
     "data": {
      "text/plain": [
       "0.6931471805599453"
      ]
     },
     "execution_count": 151,
     "metadata": {},
     "output_type": "execute_result"
    }
   ],
   "source": [
    "using Interpolations\n",
    "\n",
    "f(x) = log(x)\n",
    "g(x) = sin(x)\n",
    "xs = 1:0.2:5\n",
    "A = [f(x) for x in xs]\n",
    "A2 = [sin(x) for x in xs]\n",
    "\n",
    "# linear interpolation\n",
    "y =[LinearInterpolation(xs, A) for mat in [A, A2]]\n",
    "\n",
    "y[1](2)\n"
   ]
  },
  {
   "cell_type": "code",
   "execution_count": 155,
   "metadata": {},
   "outputs": [
    {
     "name": "stdout",
     "output_type": "stream",
     "text": [
      "hh"
     ]
    }
   ],
   "source": [
    "for i in eachindex([1,2])\n",
    "    print(\"h\")\n",
    "end"
   ]
  }
 ],
 "metadata": {
  "kernelspec": {
   "display_name": "Julia 1.5.2",
   "language": "julia",
   "name": "julia-1.5"
  },
  "language_info": {
   "file_extension": ".jl",
   "mimetype": "application/julia",
   "name": "julia",
   "version": "1.5.2"
  }
 },
 "nbformat": 4,
 "nbformat_minor": 4
}
