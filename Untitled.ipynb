{
 "cells": [
  {
   "cell_type": "code",
   "execution_count": 131,
   "metadata": {},
   "outputs": [
    {
     "data": {
      "text/plain": [
       "Discrete Markov Chain\n",
       "stochastic matrix of type Array{Float64,2}:\n",
       "[0.3 0.7; 0.2 0.8]"
      ]
     },
     "execution_count": 131,
     "metadata": {},
     "output_type": "execute_result"
    }
   ],
   "source": [
    "using QuantEcon\n",
    "P = [0.3 0.7; 0.2 0.8]\n",
    "mc = MarkovChain(P, [1;2])\n"
   ]
  },
  {
   "cell_type": "code",
   "execution_count": 151,
   "metadata": {},
   "outputs": [
    {
     "data": {
      "text/plain": [
       "0.6931471805599453"
      ]
     },
     "execution_count": 151,
     "metadata": {},
     "output_type": "execute_result"
    }
   ],
   "source": [
    "using Interpolations\n",
    "\n",
    "f(x) = log(x)\n",
    "g(x) = sin(x)\n",
    "xs = 1:0.2:5\n",
    "A = [f(x) for x in xs]\n",
    "A2 = [sin(x) for x in xs]\n",
    "\n",
    "# linear interpolation\n",
    "y =[LinearInterpolation(xs, A) for mat in [A, A2]]\n",
    "\n",
    "y[1](2)\n"
   ]
  },
  {
   "cell_type": "code",
   "execution_count": 155,
   "metadata": {},
   "outputs": [
    {
     "name": "stdout",
     "output_type": "stream",
     "text": [
      "hh"
     ]
    }
   ],
   "source": [
    "for i in eachindex([1,2])\n",
    "    print(\"h\")\n",
    "end"
   ]
  },
  {
   "cell_type": "code",
   "execution_count": 43,
   "metadata": {},
   "outputs": [
    {
     "name": "stdout",
     "output_type": "stream",
     "text": [
      "[2 3; 4 2][2 3; 9 8][2 3; 14 8][2 3; 14 8]"
     ]
    }
   ],
   "source": [
    "x = [2 3; 4 2]\n",
    "\n",
    "\n",
    "y = [2 3 ; 1 8]\n",
    "\n",
    "for i = 1:2\n",
    "    y[2] = 5 + x[2]\n",
    "    print(x); print(y)\n",
    "    x = y \n",
    "end\n",
    "\n",
    "\n"
   ]
  },
  {
   "cell_type": "code",
   "execution_count": 24,
   "metadata": {},
   "outputs": [
    {
     "name": "stdout",
     "output_type": "stream",
     "text": [
      "search: \u001b[0m\u001b[1md\u001b[22m\u001b[0m\u001b[1me\u001b[22m\u001b[0m\u001b[1me\u001b[22m\u001b[0m\u001b[1mp\u001b[22m\u001b[0m\u001b[1mc\u001b[22m\u001b[0m\u001b[1mo\u001b[22m\u001b[0m\u001b[1mp\u001b[22m\u001b[0m\u001b[1my\u001b[22m\n",
      "\n"
     ]
    },
    {
     "data": {
      "text/latex": [
       "\\begin{verbatim}\n",
       "deepcopy(x)\n",
       "\\end{verbatim}\n",
       "Create a deep copy of \\texttt{x}: everything is copied recursively, resulting in a fully independent object. For example, deep-copying an array produces a new array whose elements are deep copies of the original elements. Calling \\texttt{deepcopy} on an object should generally have the same effect as serializing and then deserializing it.\n",
       "\n",
       "While it isn't normally necessary, user-defined types can override the default \\texttt{deepcopy} behavior by defining a specialized version of the function \\texttt{deepcopy\\_internal(x::T, dict::IdDict)} (which shouldn't otherwise be used), where \\texttt{T} is the type to be specialized for, and \\texttt{dict} keeps track of objects copied so far within the recursion. Within the definition, \\texttt{deepcopy\\_internal} should be used in place of \\texttt{deepcopy}, and the \\texttt{dict} variable should be updated as appropriate before returning.\n",
       "\n"
      ],
      "text/markdown": [
       "```\n",
       "deepcopy(x)\n",
       "```\n",
       "\n",
       "Create a deep copy of `x`: everything is copied recursively, resulting in a fully independent object. For example, deep-copying an array produces a new array whose elements are deep copies of the original elements. Calling `deepcopy` on an object should generally have the same effect as serializing and then deserializing it.\n",
       "\n",
       "While it isn't normally necessary, user-defined types can override the default `deepcopy` behavior by defining a specialized version of the function `deepcopy_internal(x::T, dict::IdDict)` (which shouldn't otherwise be used), where `T` is the type to be specialized for, and `dict` keeps track of objects copied so far within the recursion. Within the definition, `deepcopy_internal` should be used in place of `deepcopy`, and the `dict` variable should be updated as appropriate before returning.\n"
      ],
      "text/plain": [
       "\u001b[36m  deepcopy(x)\u001b[39m\n",
       "\n",
       "  Create a deep copy of \u001b[36mx\u001b[39m: everything is copied recursively, resulting in a\n",
       "  fully independent object. For example, deep-copying an array produces a new\n",
       "  array whose elements are deep copies of the original elements. Calling\n",
       "  \u001b[36mdeepcopy\u001b[39m on an object should generally have the same effect as serializing\n",
       "  and then deserializing it.\n",
       "\n",
       "  While it isn't normally necessary, user-defined types can override the\n",
       "  default \u001b[36mdeepcopy\u001b[39m behavior by defining a specialized version of the function\n",
       "  \u001b[36mdeepcopy_internal(x::T, dict::IdDict)\u001b[39m (which shouldn't otherwise be used),\n",
       "  where \u001b[36mT\u001b[39m is the type to be specialized for, and \u001b[36mdict\u001b[39m keeps track of objects\n",
       "  copied so far within the recursion. Within the definition, \u001b[36mdeepcopy_internal\u001b[39m\n",
       "  should be used in place of \u001b[36mdeepcopy\u001b[39m, and the \u001b[36mdict\u001b[39m variable should be updated\n",
       "  as appropriate before returning."
      ]
     },
     "execution_count": 24,
     "metadata": {},
     "output_type": "execute_result"
    }
   ],
   "source": [
    "? deepcopy"
   ]
  }
 ],
 "metadata": {
  "kernelspec": {
   "display_name": "Julia 1.5.2",
   "language": "julia",
   "name": "julia-1.5"
  },
  "language_info": {
   "file_extension": ".jl",
   "mimetype": "application/julia",
   "name": "julia",
   "version": "1.5.2"
  }
 },
 "nbformat": 4,
 "nbformat_minor": 4
}
