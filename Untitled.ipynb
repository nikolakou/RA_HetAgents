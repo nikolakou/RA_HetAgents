{
 "cells": [
  {
   "cell_type": "code",
   "execution_count": 22,
   "metadata": {},
   "outputs": [
    {
     "data": {
      "text/plain": [
       "([0.09866357858642516 0.02462331880972446; 0.8856374635655655 0.02462331880972446; … ; 99.11436253643446 3.9753766811902755; 99.9013364214136 3.9753766811902755], ([0.09866357858642516, 0.8856374635655655, 2.447174185242325, 4.758647376699024, 7.783603724899251, 11.474337861210543, 15.772644703565568, 20.61073738537635, 25.912316294914238, 31.593772365766103  …  68.40622763423391, 74.08768370508577, 79.38926261462368, 84.22735529643444, 88.52566213878949, 92.21639627510078, 95.241352623301, 97.55282581475771, 99.11436253643446, 99.9013364214136], [0.02462331880972446, 0.2179869516232642, 0.5857864376269049, 1.0920190005209063, 1.687131069919538, 2.3128689300804615, 2.9079809994790935, 3.414213562373095, 3.7820130483767356, 3.9753766811902755]))"
      ]
     },
     "execution_count": 22,
     "metadata": {},
     "output_type": "execute_result"
    }
   ],
   "source": [
    "using BasisMatrices\n",
    "\n",
    "\n",
    "ygrid0 = range(0; stop=4, length=10)\n",
    "agrid0 = range(0.0.^0.4; stop=100.0.^0.4, length=25).^(1/0.4);\n",
    "\n",
    "# 1st method -- combining Basis objects\n",
    "y_basis = Basis(ChebParams(length(ygrid0), minimum(ygrid0), maximum(ygrid0)))\n",
    "a_basis = Basis(ChebParams(length(agrid0), minimum(agrid0), maximum(agrid0)))\n",
    "basis = Basis(a_basis, y_basis)\n",
    "\n",
    "S, (agrid, ygrid) = nodes(basis)"
   ]
  },
  {
   "cell_type": "code",
   "execution_count": 28,
   "metadata": {},
   "outputs": [
    {
     "data": {
      "text/plain": [
       "BasisMatrix{Expanded} of order [0 0]"
      ]
     },
     "execution_count": 28,
     "metadata": {},
     "output_type": "execute_result"
    }
   ],
   "source": [
    "F = BasisMatrix(basis, Direct(), S)\n",
    "\n",
    "G = convert(Expanded, F)"
   ]
  },
  {
   "cell_type": "code",
   "execution_count": 3,
   "metadata": {},
   "outputs": [
    {
     "data": {
      "text/plain": [
       "-1.0:0.02:2.0"
      ]
     },
     "execution_count": 3,
     "metadata": {},
     "output_type": "execute_result"
    }
   ],
   "source": [
    "-1:0.02:2"
   ]
  },
  {
   "cell_type": "code",
   "execution_count": 2,
   "metadata": {},
   "outputs": [
    {
     "data": {
      "text/plain": [
       "5"
      ]
     },
     "execution_count": 2,
     "metadata": {},
     "output_type": "execute_result"
    }
   ],
   "source": [
    "x = @. 2+3\n",
    "\n",
    "x"
   ]
  },
  {
   "cell_type": "code",
   "execution_count": 98,
   "metadata": {},
   "outputs": [
    {
     "data": {
      "text/plain": [
       "egm (generic function with 1 method)"
      ]
     },
     "execution_count": 98,
     "metadata": {},
     "output_type": "execute_result"
    }
   ],
   "source": [
    "# Note: function takes both current and future interest rates as arguments.\n",
    "\n",
    "function egm(hh; w, cnext, cbinding, r, rnext)\n",
    " \"\"\"\n",
    "    use endogenous grid method to obtain c_{t} and a_{t} given c_{t+1} 'cnext'\n",
    "    \n",
    "    #### Fields\n",
    "    \n",
    "    - 'hh': household tuple\n",
    "    - 'w': wage rate\n",
    "    - 'cnext': time t+1 consumption grid\n",
    "    - 'cbinding': consumption grid when borrowing constraint binds\n",
    "    - 'r': interest rate at time t\n",
    "    - 'rnext': interest rate at time t+1\n",
    "    \n",
    "    #### Returns\n",
    "    \n",
    "    - 'c': time t consumption grid\n",
    "    - 'anext': time t policy function\n",
    "    \n",
    "\"\"\"\n",
    "    \n",
    "@unpack gamma, beta, transition_matrix, Amat, Ymat, num_states, phi, frisch = hh\n",
    "\n",
    "# current policy functions on current grid\n",
    "c = getc(gamma, beta, transition_matrix; rnext=rnext, cnext=cnext)\n",
    "a = geta(Amat, Ymat, gamma, phi, frisch; r=r, w=w, c=c)\n",
    "\n",
    "cnonbinding = similar(Amat)\n",
    "    \n",
    "# get consumption policy function for current grid\n",
    "for i = 1:num_states\n",
    "    cnonbinding[:,i] = LinearInterpolation(a[:,i], c[:,i], extrapolation_bc = Line()).(Amat[:,i])\n",
    "end\n",
    "\n",
    "# update elements of consumption policy when borrowing constraint binds\n",
    "# a[1,j] is the level of current assets that induces the borrowing constraint to bind exactly.\n",
    "# Therefore, whenever current assets are below a[1,j], the borrowing constraint will be STRICTLY binding.\n",
    "# Note that this uses the monotonicity of the policy rule.\n",
    "\n",
    "for j = 1:num_states\n",
    "   c[:,j] = (Amat[:,j] .> a[1,j]) .*cnonbinding[:,j] .+ (Amat[:,j] .<= a[1,j]).*cbinding[:,j]\n",
    "end\n",
    "    \n",
    "# update saving policy function with new consumption function\n",
    "anext = @. (1+r)*Amat + w*Ymat*getl(c, Ymat, gamma, phi, frisch, w) - c\n",
    "\n",
    "return c, anext\n",
    "end"
   ]
  },
  {
   "cell_type": "code",
   "execution_count": 86,
   "metadata": {},
   "outputs": [
    {
     "data": {
      "text/plain": [
       "2-element Array{Float64,1}:\n",
       " 1.0\n",
       " 2.0"
      ]
     },
     "execution_count": 86,
     "metadata": {},
     "output_type": "execute_result"
    }
   ],
   "source": [
    "ygrid = [1; 2]\n",
    "\n",
    "basis = Basis(SplineParams(ygrid, 0, 1))\n",
    "\n",
    "S, (y,) = nodes(basis)\n",
    "\n",
    "y"
   ]
  },
  {
   "cell_type": "code",
   "execution_count": 59,
   "metadata": {},
   "outputs": [
    {
     "data": {
      "text/plain": [
       "BasisMatrix{Expanded} of order [0 0]"
      ]
     },
     "execution_count": 59,
     "metadata": {},
     "output_type": "execute_result"
    }
   ],
   "source": [
    "\n",
    "G = BasisMatrix(basis, Expanded(), S, 0)"
   ]
  },
  {
   "cell_type": "code",
   "execution_count": 60,
   "metadata": {},
   "outputs": [
    {
     "data": {
      "text/plain": [
       "100×100 Array{Float64,2}:\n",
       " 1.0  -0.987688   0.951057     …   0.0710198  -0.0483409   0.0244717\n",
       " 1.0  -0.891007   0.587785        -0.154508    0.126558   -0.0710198\n",
       " 1.0  -0.707107   2.22045e-16      0.110616   -0.156434    0.110616\n",
       " 1.0  -0.45399   -0.587785         0.0244717   0.126558   -0.139384\n",
       " 1.0  -0.156434  -0.951057        -0.139384   -0.0483409   0.154508\n",
       " 1.0   0.156434  -0.951057     …   0.139384   -0.0483409  -0.154508\n",
       " 1.0   0.45399   -0.587785        -0.0244717   0.126558    0.139384\n",
       " 1.0   0.707107  -2.22045e-16     -0.110616   -0.156434   -0.110616\n",
       " 1.0   0.891007   0.587785         0.154508    0.126558    0.0710198\n",
       " 1.0   0.987688   0.951057        -0.0710198  -0.0483409  -0.0244717\n",
       " 1.0  -0.987688   0.951057     …  -0.206107    0.140291   -0.0710198\n",
       " 1.0  -0.891007   0.587785         0.448401   -0.367286    0.206107\n",
       " 1.0  -0.707107   2.22045e-16     -0.32102     0.45399    -0.32102\n",
       " ⋮                             ⋱                          \n",
       " 1.0   0.891007   0.587785         0.448401    0.367286    0.206107\n",
       " 1.0   0.987688   0.951057        -0.206107   -0.140291   -0.0710198\n",
       " 1.0  -0.987688   0.951057     …  -0.0710198   0.0483409  -0.0244717\n",
       " 1.0  -0.891007   0.587785         0.154508   -0.126558    0.0710198\n",
       " 1.0  -0.707107   2.22045e-16     -0.110616    0.156434   -0.110616\n",
       " 1.0  -0.45399   -0.587785        -0.0244717  -0.126558    0.139384\n",
       " 1.0  -0.156434  -0.951057         0.139384    0.0483409  -0.154508\n",
       " 1.0   0.156434  -0.951057     …  -0.139384    0.0483409   0.154508\n",
       " 1.0   0.45399   -0.587785         0.0244717  -0.126558   -0.139384\n",
       " 1.0   0.707107  -2.22045e-16      0.110616    0.156434    0.110616\n",
       " 1.0   0.891007   0.587785        -0.154508   -0.126558   -0.0710198\n",
       " 1.0   0.987688   0.951057         0.0710198   0.0483409   0.0244717"
      ]
     },
     "execution_count": 60,
     "metadata": {},
     "output_type": "execute_result"
    }
   ],
   "source": [
    "G.vals[1]"
   ]
  },
  {
   "cell_type": "code",
   "execution_count": 64,
   "metadata": {},
   "outputs": [],
   "source": [
    "\n",
    "# Actual function at interpolation nodes\n",
    "f(a::Vector{Float64}, y::Vector{Float64}) = sqrt.(a) .* exp.(y)\n",
    "y = f(S[:,1], S[:, 2])\n",
    "\n",
    "# Get coefficients\n",
    "c = G.vals[1] \\ y;"
   ]
  },
  {
   "cell_type": "code",
   "execution_count": 66,
   "metadata": {},
   "outputs": [],
   "source": [
    "ygridf = range(-4; stop=4, length=100)\n",
    "agridf = range(0.0; stop=100.0, length=250)\n",
    "Sf = gridmake(agridf, ygridf)\n",
    "yf = f(Sf[:, 1], Sf[:, 2])\n",
    "interp = funeval(c, basis, Sf);"
   ]
  },
  {
   "cell_type": "code",
   "execution_count": 6,
   "metadata": {},
   "outputs": [
    {
     "data": {
      "text/plain": [
       "100-element Array{Float64,1}:\n",
       "  1.0\n",
       "  1.0264640548987334\n",
       "  1.0535567617359836\n",
       "  1.0812913599507372\n",
       "  1.1096813323132613\n",
       "  1.1387404087484267\n",
       "  1.168482570209003\n",
       "  1.1989220525993765\n",
       "  1.2300733507502484\n",
       "  1.26195122244486\n",
       "  1.2945706924972178\n",
       "  1.3279470568829312\n",
       "  1.3620958869231394\n",
       "  ⋮\n",
       "  7.935999196578372\n",
       "  8.10634822208057\n",
       "  8.279981154195955\n",
       "  8.45695414450681\n",
       "  8.637324182926895\n",
       "  8.821149108406882\n",
       "  9.008487619753216\n",
       "  9.19939928656186\n",
       "  9.393944560267489\n",
       "  9.59218478530928\n",
       "  9.794182210414435\n",
       " 10.000000000000005"
      ]
     },
     "execution_count": 6,
     "metadata": {},
     "output_type": "execute_result"
    }
   ],
   "source": [
    "\n",
    "curve = 0.1\n",
    "\n",
    "(range(1^curve, stop = 10^curve , length = 100)).^(1/curve)"
   ]
  }
 ],
 "metadata": {
  "kernelspec": {
   "display_name": "Julia 1.5.2",
   "language": "julia",
   "name": "julia-1.5"
  },
  "language_info": {
   "file_extension": ".jl",
   "mimetype": "application/julia",
   "name": "julia",
   "version": "1.5.2"
  }
 },
 "nbformat": 4,
 "nbformat_minor": 4
}
