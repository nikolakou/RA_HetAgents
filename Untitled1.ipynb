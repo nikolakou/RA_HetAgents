{
 "cells": [
  {
   "cell_type": "code",
   "execution_count": 1,
   "metadata": {},
   "outputs": [
    {
     "name": "stderr",
     "output_type": "stream",
     "text": [
      "┌ Info: Precompiling NBInclude [0db19996-df87-5ea3-a455-e3a50d440464]\n",
      "└ @ Base loading.jl:1278\n"
     ]
    },
    {
     "name": "stdout",
     "output_type": "stream",
     "text": [
      "policy function iteration successful!\n",
      "policy function iteration successful!\n",
      "policy function iteration successful!\n",
      "policy function iteration successful!\n",
      "policy function iteration successful!\n",
      "policy function iteration successful!\n",
      "policy function iteration successful!\n",
      "policy function iteration successful!\n",
      "policy function iteration successful!\n",
      "policy function iteration successful!\n",
      "policy function iteration successful!\n",
      "policy function iteration successful!\n",
      "policy function iteration successful!\n",
      "policy function iteration successful!\n",
      "policy function iteration successful!\n",
      "policy function iteration successful!\n",
      "policy function iteration successful!\n",
      "policy function iteration successful!\n",
      "policy function iteration successful!\n",
      "policy function iteration successful!\n",
      "policy function iteration successful!\n",
      "policy function iteration successful!\n",
      "policy function iteration successful!\n",
      "  400.750 ms (73237 allocations: 365.32 MiB)\n"
     ]
    },
    {
     "data": {
      "text/plain": [
       "([0.07096749424518328 0.09474585074712497 … 0.32374756274362093 0.44736616230505283; 0.0802685772211671 0.10402894671986812 … 0.33296332057926986 0.456566049492291; … ; 4.469192997723292 4.494141840127407 … 4.731285018197259 4.858247293339893; 4.478015411449168 4.502964924185298 … 4.740113894500879 4.867079161438543], [0.15810405476459372 0.25061327583238513 … 1.4605614789125752 2.2427427352778837; 0.589684735315664 0.6822119433866962 … 1.8922274846039804 2.6744246116176993; … ; 215.31899678775943 215.41033552292507 … 216.6121422599319 217.390979840716; 215.75105613756062 215.84239420239425 … 217.04419514715536 217.82302973614443])"
      ]
     },
     "execution_count": 1,
     "metadata": {},
     "output_type": "execute_result"
    }
   ],
   "source": [
    "using NBInclude\n",
    "\n",
    "@nbinclude(\"EGM.ipynb\")"
   ]
  }
 ],
 "metadata": {
  "kernelspec": {
   "display_name": "Julia 1.5.2",
   "language": "julia",
   "name": "julia-1.5"
  },
  "language_info": {
   "file_extension": ".jl",
   "mimetype": "application/julia",
   "name": "julia",
   "version": "1.5.2"
  }
 },
 "nbformat": 4,
 "nbformat_minor": 4
}
