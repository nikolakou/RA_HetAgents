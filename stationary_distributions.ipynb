{
 "cells": [
  {
   "cell_type": "markdown",
   "metadata": {},
   "source": [
    "## Obtaining distributions\n",
    "\n",
    "This notebook solves for the stationary distribution of the income fluctuation problem using (i) discretization of the\n",
    "density function (histogram/Young's 2010 method), (ii) the eigenvector method, and (iii) using Monte Carlo simulation"
   ]
  },
  {
   "cell_type": "code",
   "execution_count": 1,
   "metadata": {},
   "outputs": [],
   "source": [
    "using NBInclude\n",
    "\n",
    "@nbinclude(\"EGM.ipynb\") # include EGM functions (make sure it is in your working directory)\n",
    "                        # also reloads household tuple, but this won't affect anything"
   ]
  },
  {
   "cell_type": "markdown",
   "metadata": {},
   "source": [
    "Define household tuple."
   ]
  },
  {
   "cell_type": "code",
   "execution_count": 2,
   "metadata": {},
   "outputs": [
    {
     "data": {
      "text/plain": [
       "(apoints = 500, amax = 200, beta = 0.98, alpha = 0.11, deprec = 0.025, gamma = 1, bc = 0, rho = 0.966, num_states = 7, sd = 0.13, mean = 0, uncond_sd = 0.5028195291614176, transition_matrix = [0.9022379843199956 0.09361981119088468 … 8.374316586000039e-9 2.4137569000000128e-11; 0.015603301865147443 0.9035872016735433 … 4.0355125541400147e-7 1.3957194310000061e-9; … ; 1.3957194310000061e-9 4.0355125541400147e-7 … 0.9035872016735433 0.015603301865147443; 2.4137569000000125e-11 8.374316586000037e-9 … 0.09361981119088467 0.9022379843199955], ygrid = [0.25738376293233367, 0.38804396244888767, 0.5850334732755494, 0.8820241982193845, 1.3297814941917474, 2.0048416198384222, 3.022594266947119], Amat = [0.0 0.0 … 0.0 0.0; 0.40080160320641284 0.40080160320641284 … 0.40080160320641284 0.40080160320641284; … ; 199.59919839679358 199.59919839679358 … 199.59919839679358 199.59919839679358; 200.0 200.0 … 200.0 200.0], Ymat = [0.25738376293233367 0.38804396244888767 … 2.0048416198384222 3.022594266947119; 0.25738376293233367 0.38804396244888767 … 2.0048416198384222 3.022594266947119; … ; 0.25738376293233367 0.38804396244888767 … 2.0048416198384222 3.022594266947119; 0.25738376293233367 0.38804396244888767 … 2.0048416198384222 3.022594266947119])"
      ]
     },
     "execution_count": 2,
     "metadata": {},
     "output_type": "execute_result"
    }
   ],
   "source": [
    "using Parameters, Plots, LinearAlgebra, Interpolations, BenchmarkTools\n",
    "\n",
    "Household = @with_kw (apoints = 500, #asset grid\n",
    "    amax = 200,  # asset max\n",
    "    beta = 0.98, # discount factor\n",
    "    alpha = 0.11, # capital share\n",
    "    deprec = 0.025, # depreciation rate\n",
    "    gamma = 1, # elasticity of substitution\n",
    "    bc = 0, # borrowing constraint (must be weakly negative)\n",
    "    rho = 0.966,  # autocorr of income process\n",
    "    num_states = 7, # number of states for income process\n",
    "    sd = 0.13, # stand. dev. of deviation process\n",
    "    mean = 0, # mean of income process\n",
    "    uncond_sd = 0.13/sqrt(1-rho^2), # unconditional sd\n",
    "    transition_matrix = rowenhorst(mean, uncond_sd, rho, num_states)[1], # transition matrix\n",
    "    ygrid = rowenhorst(mean, uncond_sd, rho, num_states)[2], # grid for income process\n",
    "    Amat = setgrids(bc, apoints, amax, num_states, ygrid)[1], # asset grid\n",
    "    Ymat = setgrids(bc, apoints, amax, num_states, ygrid)[2]) # income grid\n",
    "\n",
    "\n",
    "function setgrids(bc, apoints, amax, num_states, ygrid)\n",
    "    Amat = [i for i in range(bc, length = apoints, stop= amax), j in 1:num_states]\n",
    "    Ymat = [j for i = 1:apoints, j in ygrid]\n",
    "    return Amat, Ymat\n",
    "end\n",
    "\n",
    "hh = Household()"
   ]
  },
  {
   "cell_type": "code",
   "execution_count": 3,
   "metadata": {},
   "outputs": [
    {
     "name": "stdout",
     "output_type": "stream",
     "text": [
      "policy function iteration successful!\n"
     ]
    },
    {
     "data": {
      "text/plain": [
       "([0.229071549009777 0.34535912657951007 … 1.3943103412622557 1.7725763501505858; 0.29940986080153575 0.41575409569487365 … 1.4104899162084368 1.7853963993344497; … ; 5.2059736356104285 5.298502192433754 … 5.959082533344494 6.252787120087693; 5.214368528291747 5.306894732806059 … 5.967454243451358 6.261149639196992], [0.0 0.0 … 0.38999870039394025 0.9175325474323506; 0.33447130744671816 0.33441465012311344 … 0.7786287446862361 1.3095221174869638; … ; 196.61828829416086 196.6420473149073 … 197.42041688907324 198.03251215825676; 197.01470302071803 197.03846439377347 … 197.81685479820484 198.42895925838596])"
      ]
     },
     "execution_count": 3,
     "metadata": {},
     "output_type": "execute_result"
    }
   ],
   "source": [
    "c, policyfun = iterate_egm(hh, r = 0.01) # making sure everything works"
   ]
  },
  {
   "cell_type": "markdown",
   "metadata": {},
   "source": [
    "This function provides us with a transition kernel over asset-income space using Young's (2010) lottery method. The main difficulty arises because the policy function does not map ONTO the grids we have defined. We need to take care of this if we wish to obtain a transition kernel."
   ]
  },
  {
   "cell_type": "code",
   "execution_count": 4,
   "metadata": {},
   "outputs": [
    {
     "data": {
      "text/plain": [
       "get_kernel (generic function with 1 method)"
      ]
     },
     "execution_count": 4,
     "metadata": {},
     "output_type": "execute_result"
    }
   ],
   "source": [
    "function get_kernel(hh; policyfun)\n",
    "    \n",
    "\"\"\"\n",
    "    get transition kernel for asset-income distribution using Young's method\n",
    "    \n",
    "    #### Fields\n",
    "    \n",
    "    - 'hh': household tuple\n",
    "    - 'policyfun': savings function, array na x ny\n",
    "    \n",
    "    #### Returns\n",
    "    \n",
    "    - 'kernel': na*ny x na*ny array row-stochastic transition kernel\n",
    "                first na rows correspond to income state 1, second na rows to income state 2, etc...\n",
    "    \n",
    "\"\"\"\n",
    "\n",
    "    @unpack apoints, Amat, num_states, Ymat, transition_matrix = hh\n",
    "\n",
    "    # construct transition matrix without labour stochasticity\n",
    "    Q = zeros(apoints, apoints, num_states)\n",
    "\n",
    "    # find which element to interpolate to\n",
    "    findnearest(A,t) = findmin(abs.(A.-t))[2]\n",
    "\n",
    "    # construct matrices to get neighboring indices\n",
    "    next = similar(Amat)\n",
    "    previous = similar(Amat)\n",
    "\n",
    "    for j = 1:num_states\n",
    "        for k = 1:apoints\n",
    "            ind = findnearest(Amat[:,j],policyfun[k,j])\n",
    "                if policyfun[k,j] - Amat[ind,j] > 0\n",
    "                    previous[k,j] = Amat[ind,j]\n",
    "                    if ind == apoints\n",
    "                        next[k,j] = Amat[ind,j]\n",
    "                    else         \n",
    "                    next[k,j] = Amat[ind+1,j]\n",
    "                    end\n",
    "                elseif policyfun[k,j] == Amat[ind,j]\n",
    "                    previous[k,j] = policyfun[k,j] \n",
    "                    next[k,j] = policyfun[k,]\n",
    "                else\n",
    "                    next[k,j] = Amat[ind,j]\n",
    "                    if ind == 1\n",
    "                        previous[k,j] = Amat[ind,j]\n",
    "                    else\n",
    "                        previous[k,j] = Amat[ind-1,j]\n",
    "                    end\n",
    "                end  \n",
    "        end\n",
    "    end\n",
    "\n",
    "    # construct transition matrix for assets.\n",
    "    # Q[i,j,k] is the probability of going to agrid[i] when current assets are agrid[j] and income is ygrid[k]\n",
    "    for k = 1:apoints\n",
    "        for j = 1:num_states\n",
    "            if next[k,j] == previous[k,j]\n",
    "                Q[Amat[:,1].==previous[k,j],k,j] .= 1\n",
    "            else\n",
    "                Q[Amat[:,1].==previous[k,j],k,j] .= (next[k,j]-policyfun[k,j])./(next[k,j]-previous[k,j])\n",
    "                Q[Amat[:,1].==next[k,j],k,j] .= 1 - (next[k,j]-policyfun[k,j])./(next[k,j]-previous[k,j])\n",
    "\n",
    "            end\n",
    "        end\n",
    "    end\n",
    "\n",
    "    # construct transition kernel by taking the kronecker product of assets and transition_matrix for income\n",
    "    kernel = zeros(apoints*num_states,apoints*num_states)\n",
    "\n",
    "    for j=1:num_states\n",
    "        for i=1:num_states\n",
    "            kernel[(i-1)*apoints+1:i*apoints,(j-1)*apoints+1:j*apoints]=Q[:,:,j].*transition_matrix[j,i];\n",
    "        end\n",
    "    end\n",
    "\n",
    "    kernel = kernel'\n",
    "\n",
    "    return kernel\n",
    "end"
   ]
  },
  {
   "cell_type": "code",
   "execution_count": 5,
   "metadata": {},
   "outputs": [
    {
     "data": {
      "text/plain": [
       "3500×3500 Adjoint{Float64,Array{Float64,2}}:\n",
       " 0.902238  0.0       0.0       0.0       …  0.0      0.0        0.0  0.0  0.0\n",
       " 0.149315  0.752923  0.0       0.0          0.0      0.0        0.0  0.0  0.0\n",
       " 0.0       0.243929  0.658309  0.0          0.0      0.0        0.0  0.0  0.0\n",
       " 0.0       0.0       0.318117  0.584121     0.0      0.0        0.0  0.0  0.0\n",
       " 0.0       0.0       0.0       0.381078     0.0      0.0        0.0  0.0  0.0\n",
       " 0.0       0.0       0.0       0.0       …  0.0      0.0        0.0  0.0  0.0\n",
       " 0.0       0.0       0.0       0.0          0.0      0.0        0.0  0.0  0.0\n",
       " 0.0       0.0       0.0       0.0          0.0      0.0        0.0  0.0  0.0\n",
       " 0.0       0.0       0.0       0.0          0.0      0.0        0.0  0.0  0.0\n",
       " 0.0       0.0       0.0       0.0          0.0      0.0        0.0  0.0  0.0\n",
       " 0.0       0.0       0.0       0.0       …  0.0      0.0        0.0  0.0  0.0\n",
       " 0.0       0.0       0.0       0.0          0.0      0.0        0.0  0.0  0.0\n",
       " 0.0       0.0       0.0       0.0          0.0      0.0        0.0  0.0  0.0\n",
       " ⋮                                       ⋱  ⋮                             \n",
       " 0.0       0.0       0.0       0.0          0.0      0.0        0.0  0.0  0.0\n",
       " 0.0       0.0       0.0       0.0          0.0      0.0        0.0  0.0  0.0\n",
       " 0.0       0.0       0.0       0.0       …  0.0      0.0        0.0  0.0  0.0\n",
       " 0.0       0.0       0.0       0.0          0.0      0.0        0.0  0.0  0.0\n",
       " 0.0       0.0       0.0       0.0          0.0      0.0        0.0  0.0  0.0\n",
       " 0.0       0.0       0.0       0.0          0.0      0.0        0.0  0.0  0.0\n",
       " 0.0       0.0       0.0       0.0          0.0      0.0        0.0  0.0  0.0\n",
       " 0.0       0.0       0.0       0.0       …  0.0      0.0        0.0  0.0  0.0\n",
       " 0.0       0.0       0.0       0.0          0.0      0.0        0.0  0.0  0.0\n",
       " 0.0       0.0       0.0       0.0          0.0      0.0        0.0  0.0  0.0\n",
       " 0.0       0.0       0.0       0.0          0.08221  0.0        0.0  0.0  0.0\n",
       " 0.0       0.0       0.0       0.0          0.82983  0.0724076  0.0  0.0  0.0"
      ]
     },
     "execution_count": 5,
     "metadata": {},
     "output_type": "execute_result"
    }
   ],
   "source": [
    "kernel = get_kernel(hh; policyfun = policyfun)"
   ]
  },
  {
   "cell_type": "code",
   "execution_count": 6,
   "metadata": {},
   "outputs": [
    {
     "data": {
      "text/plain": [
       "histogram_method (generic function with 1 method)"
      ]
     },
     "execution_count": 6,
     "metadata": {},
     "output_type": "execute_result"
    }
   ],
   "source": [
    "# histogram method\n",
    "\n",
    "function histogram_method(; kernel, tol=1e-8, maxiter=1000)\n",
    "    #initial guess for invariant distribution\n",
    "    init = ones(size(kernel)[1])\n",
    "    init = init./sum(init)\n",
    "    \n",
    "    for i=1:maxiter\n",
    "        initnext = (init'*kernel)'\n",
    "        if norm(init-initnext,Inf) < tol \n",
    "            println(\"distribution iteration successful!\")\n",
    "            return initnext\n",
    "        else\n",
    "            init = initnext\n",
    "        end\n",
    "    end\n",
    "    \n",
    "    error(\"distribution did not convergence!\")\n",
    "end"
   ]
  },
  {
   "cell_type": "markdown",
   "metadata": {},
   "source": [
    "We need to perturb the matrix before using the eigenvector matrix because it is very large and sparse. This makes it less likely that there will be negative elements when we use routines to obtain the eigenvector."
   ]
  },
  {
   "cell_type": "code",
   "execution_count": 7,
   "metadata": {},
   "outputs": [
    {
     "data": {
      "text/plain": [
       "eigenvector_method (generic function with 1 method)"
      ]
     },
     "execution_count": 7,
     "metadata": {},
     "output_type": "execute_result"
    }
   ],
   "source": [
    "# eigenvector method - requires SciPy for efficiency but can also be implemented in pure Julia\n",
    "\n",
    "using SciPy\n",
    "\n",
    "function eigenvector_method(; kernel, perturb = 1e-15)\n",
    "    # perturb and normalize sparse matrix\n",
    "    kernel = kernel .+ perturb\n",
    "    kernel = kernel./sum(kernel, dims=2)\n",
    "    \n",
    "    _, stat = sparse.linalg.eigs(kernel',k=1)\n",
    "    \n",
    "    stat = Real.(stat)\n",
    "    stat = stat./sum(stat)\n",
    "    \n",
    "    @assert sum(stat .< 0) == 0 \"negative elements in distribution!\"\n",
    "    \n",
    "    return stat\n",
    "end"
   ]
  },
  {
   "cell_type": "markdown",
   "metadata": {},
   "source": [
    "Both routines are reasonably quick -- around 2-3 seconds (note: run the code twice when using @time because the first time incorporates compilation time)."
   ]
  },
  {
   "cell_type": "code",
   "execution_count": 8,
   "metadata": {},
   "outputs": [
    {
     "name": "stdout",
     "output_type": "stream",
     "text": [
      "distribution iteration successful!\n",
      "  4.316866 seconds (516.86 k allocations: 53.909 MiB)\n",
      "  5.614718 seconds (4.52 M allocations: 411.242 MiB, 2.17% gc time)\n"
     ]
    },
    {
     "data": {
      "text/plain": [
       "2.697885513602838e-7"
      ]
     },
     "execution_count": 8,
     "metadata": {},
     "output_type": "execute_result"
    }
   ],
   "source": [
    "@time s1 = histogram_method(kernel = kernel)\n",
    "@time s2 = eigenvector_method(kernel = kernel)\n",
    "\n",
    "norm(s1-s2,Inf) # very similar distributions"
   ]
  },
  {
   "cell_type": "markdown",
   "metadata": {},
   "source": [
    "The function below uses the Monte-Carlo simulation method. I have found that you need to increase I to eliminate randomness and dependence on initial conditions. At the current scale, this is already around 6x slower than the other methods."
   ]
  },
  {
   "cell_type": "code",
   "execution_count": 9,
   "metadata": {},
   "outputs": [
    {
     "name": "stderr",
     "output_type": "stream",
     "text": [
      "WARNING: using QuantEcon.tauchen in module Main conflicts with an existing identifier.\n"
     ]
    },
    {
     "data": {
      "text/plain": [
       "montecarlosim (generic function with 1 method)"
      ]
     },
     "execution_count": 9,
     "metadata": {},
     "output_type": "execute_result"
    }
   ],
   "source": [
    "using QuantEcon # has efficient simulation routines for discrete markov chains\n",
    "\n",
    "function montecarlosim(hh; policyfun, I = 10000, T = 10000, tol=1e-3)\n",
    "    @unpack transition_matrix, ygrid, Amat = hh\n",
    "\n",
    "    mc = MarkovChain(transition_matrix, ygrid) # use QuantEcon simulation routines\n",
    "\n",
    "    assets = zeros(I,T) # grid that will hold assets\n",
    "    assets[:,1] .= 1 # representative agent capital holdings\n",
    "\n",
    "    income_realizations = similar(assets)\n",
    "\n",
    "    for i = 1:I\n",
    "       income_realizations[i,:] = simulate_indices(mc, T) \n",
    "    end\n",
    "\n",
    "    interp_array = [] # we need to interpolate the policy function because it does not map onto Amat\n",
    "\n",
    "    # create interpolation objects - one for each income state\n",
    "    for income in eachindex(ygrid)\n",
    "        push!(interp_array, LinearInterpolation(Amat[:,1], policyfun[:,income])) \n",
    "    end\n",
    "\n",
    "    # we pass on the simulation results onto the policy function\n",
    "    @time for j = 2:T\n",
    "        for i = 1:I\n",
    "            assets[i,j] = interp_array[Int(income_realizations[i,j])](assets[i,j-1])\n",
    "        end\n",
    "    end\n",
    "\n",
    "    assets = assets./I\n",
    "\n",
    "    res1 = sum(assets[:,T])\n",
    "    res2 = sum(assets[:,T-1])\n",
    "\n",
    "    @assert abs(res1-res2) < tol \"not ergodic yet, try increasing T or I\"\n",
    "    \n",
    "    distribution = assets[:,T]\n",
    "    aggregate_capital = sum(assets[:,T])\n",
    "\n",
    "    return distribution, aggregate_capital\n",
    "end\n"
   ]
  },
  {
   "cell_type": "code",
   "execution_count": 10,
   "metadata": {},
   "outputs": [
    {
     "name": "stdout",
     "output_type": "stream",
     "text": [
      " 21.496987 seconds (200.02 M allocations: 2.982 GiB, 4.35% gc time)\n"
     ]
    },
    {
     "data": {
      "text/plain": [
       "([0.0002613787320985547, 0.00017906483034476443, 0.000621082401764835, 0.000137091848745698, 1.6581296095840453e-20, 0.00013865986546106405, 0.000917702237110008, 0.00021209174766515765, 0.0001685670353148748, 2.6763109801323593e-13  …  1.2055072375018377e-5, 4.191696674365918e-6, 7.488305263255274e-5, 5.534473847415784e-5, 1.7548638362656626e-6, 0.00024039693838825586, 7.201257202470588e-8, 2.6165816026837995e-5, 8.000667744257504e-6, 1.3331249826824422e-9], 2.352912408928534)"
      ]
     },
     "execution_count": 10,
     "metadata": {},
     "output_type": "execute_result"
    }
   ],
   "source": [
    "s3, K3 = montecarlosim(hh, policyfun = policyfun) # you need to increase I and T to obtain better results, there is still\n",
    "                                              # dependence on initial parameters"
   ]
  },
  {
   "cell_type": "code",
   "execution_count": 11,
   "metadata": {},
   "outputs": [
    {
     "name": "stdout",
     "output_type": "stream",
     "text": [
      "K1 = 2.319969384062138\n",
      "K2 = 2.3199627340651907\n",
      "K3 = 2.352912408928534\n"
     ]
    },
    {
     "data": {
      "text/plain": [
       "2.352912408928534"
      ]
     },
     "execution_count": 11,
     "metadata": {},
     "output_type": "execute_result"
    }
   ],
   "source": [
    "# check aggregate capital in all three distributions\n",
    "\n",
    "K1 = getcapital(policyfun = policyfun, dist = s1)\n",
    "K2 = getcapital(policyfun = policyfun, dist = s2)\n",
    "\n",
    "@show K1\n",
    "@show K2\n",
    "@show K3"
   ]
  }
 ],
 "metadata": {
  "kernelspec": {
   "display_name": "Julia 1.5.2",
   "language": "julia",
   "name": "julia-1.5"
  },
  "language_info": {
   "file_extension": ".jl",
   "mimetype": "application/julia",
   "name": "julia",
   "version": "1.5.2"
  }
 },
 "nbformat": 4,
 "nbformat_minor": 4
}
